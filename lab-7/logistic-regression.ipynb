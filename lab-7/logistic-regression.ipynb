{
 "cells": [
  {
   "cell_type": "markdown",
   "id": "gLHdRXwEPmaY",
   "metadata": {
    "id": "gLHdRXwEPmaY"
   },
   "source": [
    "# Lab 7 Logistic Regression"
   ]
  },
  {
   "cell_type": "markdown",
   "id": "b327ae5e-357e-4ea3-a947-3b6b908718c7",
   "metadata": {
    "id": "b327ae5e-357e-4ea3-a947-3b6b908718c7"
   },
   "source": [
    "***\n",
    "- **FIRST name**: Muhammad Affan\n",
    "- **LAST name**: Nazir\n",
    "- **Student ID**: 1807593\n",
    "\n",
    "Leave blank if individual:\n",
    "- **Collaborator names**:\n",
    "- **Collaborator student IDs**:\n",
    "***"
   ]
  },
  {
   "cell_type": "markdown",
   "id": "c8be7cd7-8ce4-4742-a7c3-60930f33184e",
   "metadata": {
    "deletable": false,
    "editable": false,
    "id": "c8be7cd7-8ce4-4742-a7c3-60930f33184e",
    "nbgrader": {
     "cell_type": "markdown",
     "checksum": "3e12839608ab76a01e0bc8276c3d5a70",
     "grade": false,
     "grade_id": "cell-962bb44b817b427d",
     "locked": true,
     "schema_version": 3,
     "solution": false,
     "task": false
    }
   },
   "source": [
    "# Lab 7:\n",
    "\n",
    "In today's lab, you will learn:\n",
    "\n",
    "1.   Using sklearn's logistic regression model;\n",
    "2.   Using sklearn's pipeline;\n",
    "3.   Using sklearn's confusion matrix.\n",
    "\n",
    "For this lab, you'll need the dataset `iris.csv`.\n",
    "\n",
    "It is recommended to review [Notes on Classification](https://canvas.ualberta.ca/courses/5531/files/2030628?wrap=1) before proceeding with this lab."
   ]
  },
  {
   "cell_type": "code",
   "execution_count": 76,
   "id": "e0675794-08ef-4ee2-a8da-ace0626f50a4",
   "metadata": {
    "deletable": false,
    "editable": false,
    "id": "e0675794-08ef-4ee2-a8da-ace0626f50a4",
    "nbgrader": {
     "cell_type": "code",
     "checksum": "ac99a6fea94dc6939d276fd7d795e01b",
     "grade": false,
     "grade_id": "cell-1749414a9f901003",
     "locked": true,
     "schema_version": 3,
     "solution": false,
     "task": false
    }
   },
   "outputs": [],
   "source": [
    "#run this cell\n",
    "import numpy as np\n",
    "import pandas as pd\n",
    "import matplotlib.pyplot as plt\n",
    "import seaborn as sns"
   ]
  },
  {
   "cell_type": "markdown",
   "id": "49217ead-9e37-4d1a-9be3-a044a7df00b5",
   "metadata": {
    "deletable": false,
    "editable": false,
    "id": "49217ead-9e37-4d1a-9be3-a044a7df00b5",
    "nbgrader": {
     "cell_type": "markdown",
     "checksum": "686550eb789736f772f763efdf0840f1",
     "grade": false,
     "grade_id": "cell-7c7a486082a3c928",
     "locked": true,
     "schema_version": 3,
     "solution": false,
     "task": false
    }
   },
   "source": [
    "# 1. Pre-processing the Data\n",
    "\n",
    "In lab 6, you learned about *linear regression* and how it's used to make predictions on data. You may have noticed that the data used for child height was continuous. For data where the outcomes are discrete, we use *logistic regression*.\n",
    "\n",
    "**Question 1.1.** In the cell below, import the dataset `iris.csv` and assign it to `iris_df`. Print its first 5 values."
   ]
  },
  {
   "cell_type": "code",
   "execution_count": 77,
   "id": "0f748d33-3d86-4ceb-bcad-259e93578125",
   "metadata": {
    "deletable": false,
    "id": "0f748d33-3d86-4ceb-bcad-259e93578125",
    "nbgrader": {
     "cell_type": "code",
     "checksum": "9350fb8f42fd1b69906cecedf886a080",
     "grade": false,
     "grade_id": "cell-5242329f85e15bd3",
     "locked": false,
     "schema_version": 3,
     "solution": true,
     "task": false
    }
   },
   "outputs": [
    {
     "name": "stdout",
     "output_type": "stream",
     "text": [
      "(150, 6)\n"
     ]
    }
   ],
   "source": [
    "# YOUR CODE HERE\n",
    "iris_df = pd.read_csv(\"iris.csv\")\n",
    "print(iris_df.shape)"
   ]
  },
  {
   "cell_type": "code",
   "execution_count": null,
   "id": "9f510067-e5e9-4b54-9c52-d0a0fd3cd3c1",
   "metadata": {
    "deletable": false,
    "editable": false,
    "id": "9f510067-e5e9-4b54-9c52-d0a0fd3cd3c1",
    "nbgrader": {
     "cell_type": "code",
     "checksum": "a07a9b551852b7487168f88c314f44e5",
     "grade": true,
     "grade_id": "cell-3d8bceb83eb932c1",
     "locked": true,
     "points": 5,
     "schema_version": 3,
     "solution": false,
     "task": false
    }
   },
   "outputs": [],
   "source": []
  },
  {
   "cell_type": "markdown",
   "id": "cd4cdf2c-ed39-49f3-938b-27db502e562c",
   "metadata": {
    "deletable": false,
    "editable": false,
    "id": "cd4cdf2c-ed39-49f3-938b-27db502e562c",
    "nbgrader": {
     "cell_type": "markdown",
     "checksum": "6e9d8f93955845892543778a3d064a7a",
     "grade": false,
     "grade_id": "cell-62c48b57e29a0c5b",
     "locked": true,
     "schema_version": 3,
     "solution": false,
     "task": false
    }
   },
   "source": [
    "This dataset contains three iris species: setosa, versicolor, and virginica. It also contains the flower's petal length, petal width, sepal length, and sepal width. Our goal is to use logistic regression so that we can predict what species of iris we have given its measurements.\n",
    "\n",
    "**Question 1.2.** Recall that we denote `X` as our features and `Y` as our target. Separate the dataset into its features and target."
   ]
  },
  {
   "cell_type": "code",
   "execution_count": 78,
   "id": "2511eb75-9d7f-4ee6-a12a-659b05548f53",
   "metadata": {
    "deletable": false,
    "id": "2511eb75-9d7f-4ee6-a12a-659b05548f53",
    "nbgrader": {
     "cell_type": "code",
     "checksum": "d417cf52fc20c6c3e5c4743ca0c9d837",
     "grade": false,
     "grade_id": "cell-a7d5ba8f60bccb47",
     "locked": false,
     "schema_version": 3,
     "solution": true,
     "task": false
    }
   },
   "outputs": [],
   "source": [
    "# YOUR CODE HERE\n",
    "X = iris_df[[\"SepalLengthCm\",\"SepalWidthCm\",\"PetalLengthCm\",\"PetalWidthCm\"]]\n",
    "Y = iris_df[\"Species\"]"
   ]
  },
  {
   "cell_type": "code",
   "execution_count": null,
   "id": "66d9c882-29d1-4068-858c-679abb3ed4bd",
   "metadata": {
    "deletable": false,
    "editable": false,
    "id": "66d9c882-29d1-4068-858c-679abb3ed4bd",
    "nbgrader": {
     "cell_type": "code",
     "checksum": "da114b505209a7eeccee3af6752489ac",
     "grade": true,
     "grade_id": "cell-9fb3d5d48ca9dad6",
     "locked": true,
     "points": 10,
     "schema_version": 3,
     "solution": false,
     "task": false
    }
   },
   "outputs": [],
   "source": []
  },
  {
   "cell_type": "markdown",
   "id": "515a0e91-e845-4043-b63f-65ce0beef9ab",
   "metadata": {
    "deletable": false,
    "editable": false,
    "id": "515a0e91-e845-4043-b63f-65ce0beef9ab",
    "nbgrader": {
     "cell_type": "markdown",
     "checksum": "f21bbb6254c6d047920e711a02e6b4e2",
     "grade": false,
     "grade_id": "cell-804522c77f321cef",
     "locked": true,
     "schema_version": 3,
     "solution": false,
     "task": false
    }
   },
   "source": [
    "Luckily, we don't have to make our own logistic regression model from scratch. We can import a library called `sklearn` that has the functions we need to make predictions on our iris data. However, for the functions to work, our target data must be numerical. To convert categorical data to numerical, we encode the target labels with values between 0 and n-1, where n is the number of classes. For our iris data, we will use sklearn's [LabelEncoder](https://scikit-learn.org/stable/modules/generated/sklearn.preprocessing.LabelEncoder.html).\n",
    "\n",
    "**Question 1.3.** First import sklearn's LabelEncoder, then convert the targets from categorical to numerical. Assign your answer to `Y`. Consult the link above for help."
   ]
  },
  {
   "cell_type": "code",
   "execution_count": 79,
   "id": "2e76e4f8-40ca-489a-b0b4-cca01e7619c0",
   "metadata": {
    "deletable": false,
    "id": "2e76e4f8-40ca-489a-b0b4-cca01e7619c0",
    "nbgrader": {
     "cell_type": "code",
     "checksum": "27813338c3cb307a445498de79b21847",
     "grade": false,
     "grade_id": "cell-4514774fd91bfb1a",
     "locked": false,
     "schema_version": 3,
     "solution": true,
     "task": false
    }
   },
   "outputs": [],
   "source": [
    "# YOUR CODE HERE\n",
    "from sklearn.preprocessing import LabelEncoder\n",
    "le = LabelEncoder()\n",
    "le.fit(Y.unique())\n",
    "Y = le.transform(Y)"
   ]
  },
  {
   "cell_type": "code",
   "execution_count": null,
   "id": "1839e6b1-db40-4bf0-b3a4-2b2725a2c0ec",
   "metadata": {
    "deletable": false,
    "editable": false,
    "id": "1839e6b1-db40-4bf0-b3a4-2b2725a2c0ec",
    "nbgrader": {
     "cell_type": "code",
     "checksum": "b1317825047512364a64a8833b360b49",
     "grade": true,
     "grade_id": "cell-8be607f247525e6d",
     "locked": true,
     "points": 10,
     "schema_version": 3,
     "solution": false,
     "task": false
    }
   },
   "outputs": [],
   "source": []
  },
  {
   "cell_type": "markdown",
   "id": "da1a0bbc-a986-44de-9879-65040caaeb86",
   "metadata": {
    "deletable": false,
    "editable": false,
    "id": "da1a0bbc-a986-44de-9879-65040caaeb86",
    "nbgrader": {
     "cell_type": "markdown",
     "checksum": "313d6ddcc6a7abe70f8170f759a736c6",
     "grade": false,
     "grade_id": "cell-aec62e842e112565",
     "locked": true,
     "schema_version": 3,
     "solution": false,
     "task": false
    }
   },
   "source": [
    "# 2. Pipeline\n",
    "\n",
    "Before we learn what the Pipeline does, we have to split our X and Y datasets in two:\n",
    "1. Training set: this subset is used to train the model. It usually makes up 80% of the data;\n",
    "2. Testing set: this subset is used to test the model to see how it performs. It usually makes up 20% of the data.\n",
    "\n",
    "This is done for the features and the targets separately. It's important that the test data is not used to train the model because it could lead to memorizing the data.\n",
    "\n",
    "**Question 2.1.** First import sklearn's [train_test_split](https://scikit-learn.org/stable/modules/generated/sklearn.model_selection.train_test_split.html), then split the data into `X_train`, `X_test`. `Y_train`, and `Y_test` respectively. The parameter `test_size` sets the proportion of data for the testing subset (set to 0.2). The `random_state` parameter controls how much the data is shuffled before being split."
   ]
  },
  {
   "cell_type": "code",
   "execution_count": 80,
   "id": "27071f7f-1750-40a1-8780-df5a6df6ed7b",
   "metadata": {
    "deletable": false,
    "id": "27071f7f-1750-40a1-8780-df5a6df6ed7b",
    "nbgrader": {
     "cell_type": "code",
     "checksum": "084d7ce9725386afd589748889942809",
     "grade": true,
     "grade_id": "cell-cb98b994e6a03db1",
     "locked": false,
     "points": 15,
     "schema_version": 3,
     "solution": true,
     "task": false
    }
   },
   "outputs": [],
   "source": [
    "# YOUR CODE HERE\n",
    "from sklearn.model_selection import train_test_split\n",
    "X_train, X_test, Y_train, Y_test = train_test_split(X, Y, test_size=0.2, random_state=50)"
   ]
  },
  {
   "cell_type": "markdown",
   "id": "1866035d-9a12-472a-9d20-b83c21a0f97a",
   "metadata": {
    "deletable": false,
    "editable": false,
    "id": "1866035d-9a12-472a-9d20-b83c21a0f97a",
    "nbgrader": {
     "cell_type": "markdown",
     "checksum": "97a4a19b2f1fb88385e7e959688c035c",
     "grade": false,
     "grade_id": "cell-3422c6248633c290",
     "locked": true,
     "schema_version": 3,
     "solution": false,
     "task": false
    }
   },
   "source": [
    "The purpose of using the [Pipeline](https://scikit-learn.org/stable/modules/generated/sklearn.pipeline.Pipeline.html) function is to chain multiple steps into a single object. For this lab, we're going to go through two steps in our pipeline:\n",
    "1. **Standard Scalar**: this standardizes the features by removing the mean and scaling to a standard deviation of one;\n",
    "2. **Logistic Regression**: this fits a logistic regression model to the data.\n",
    "\n",
    "**Question 2.2.** Import the appropriate functions for the pipeline, logistic regression, and standard scalar. Next, use the pipeline function to assemble the steps 'scalar' and 'classifier'. For the function `LogisticRegression`, set the parameter `max_iter` to 200. Assign your answer to `pipeline`."
   ]
  },
  {
   "cell_type": "code",
   "execution_count": 113,
   "id": "e5d5ed0d-18bd-4ef3-8b2e-07dd5e1cbf13",
   "metadata": {
    "deletable": false,
    "id": "e5d5ed0d-18bd-4ef3-8b2e-07dd5e1cbf13",
    "nbgrader": {
     "cell_type": "code",
     "checksum": "17d89d4cad5c38bf55ae0caebadd97db",
     "grade": true,
     "grade_id": "cell-b521e8fae359af30",
     "locked": false,
     "points": 20,
     "schema_version": 3,
     "solution": true,
     "task": false
    }
   },
   "outputs": [],
   "source": [
    "# YOUR CODE HERE\n",
    "from sklearn.preprocessing import StandardScaler\n",
    "from sklearn.pipeline import Pipeline\n",
    "from sklearn.linear_model import LogisticRegression\n",
    "\n",
    "pipeline = Pipeline([\n",
    "                (\"scalar\",StandardScaler()), #Scalar = name of the step. Could name anything.\n",
    "                (\"classifier\", LogisticRegression(max_iter = 200)) # max_iter = max epochs\n",
    "                ])"
   ]
  },
  {
   "cell_type": "markdown",
   "id": "0ecdf91b-bbdd-49d9-88f9-0146995c4fb0",
   "metadata": {
    "deletable": false,
    "editable": false,
    "id": "0ecdf91b-bbdd-49d9-88f9-0146995c4fb0",
    "nbgrader": {
     "cell_type": "markdown",
     "checksum": "6b8b21f6fbd999f7caaec3d9c2088b46",
     "grade": false,
     "grade_id": "cell-2ecb6b31c0e38295",
     "locked": true,
     "schema_version": 3,
     "solution": false,
     "task": false
    }
   },
   "source": [
    "**Question 2.3.** Now, use the `.fit` method to fit the training data to our pipeline. The output will be a diagram that shows each step our pipeline takes to transform and fit the data to the logistic regression model. Click on the steps to expand them."
   ]
  },
  {
   "cell_type": "code",
   "execution_count": 82,
   "id": "7e4ac9f0-a7ca-4469-bfa6-9652573ce8a4",
   "metadata": {
    "deletable": false,
    "id": "7e4ac9f0-a7ca-4469-bfa6-9652573ce8a4",
    "nbgrader": {
     "cell_type": "code",
     "checksum": "567e40045262b2cf77eab08b630ca939",
     "grade": true,
     "grade_id": "cell-71881d8cdf4fbfd3",
     "locked": false,
     "points": 5,
     "schema_version": 3,
     "solution": true,
     "task": false
    }
   },
   "outputs": [
    {
     "data": {
      "text/html": [
       "<style>#sk-container-id-6 {color: black;}#sk-container-id-6 pre{padding: 0;}#sk-container-id-6 div.sk-toggleable {background-color: white;}#sk-container-id-6 label.sk-toggleable__label {cursor: pointer;display: block;width: 100%;margin-bottom: 0;padding: 0.3em;box-sizing: border-box;text-align: center;}#sk-container-id-6 label.sk-toggleable__label-arrow:before {content: \"▸\";float: left;margin-right: 0.25em;color: #696969;}#sk-container-id-6 label.sk-toggleable__label-arrow:hover:before {color: black;}#sk-container-id-6 div.sk-estimator:hover label.sk-toggleable__label-arrow:before {color: black;}#sk-container-id-6 div.sk-toggleable__content {max-height: 0;max-width: 0;overflow: hidden;text-align: left;background-color: #f0f8ff;}#sk-container-id-6 div.sk-toggleable__content pre {margin: 0.2em;color: black;border-radius: 0.25em;background-color: #f0f8ff;}#sk-container-id-6 input.sk-toggleable__control:checked~div.sk-toggleable__content {max-height: 200px;max-width: 100%;overflow: auto;}#sk-container-id-6 input.sk-toggleable__control:checked~label.sk-toggleable__label-arrow:before {content: \"▾\";}#sk-container-id-6 div.sk-estimator input.sk-toggleable__control:checked~label.sk-toggleable__label {background-color: #d4ebff;}#sk-container-id-6 div.sk-label input.sk-toggleable__control:checked~label.sk-toggleable__label {background-color: #d4ebff;}#sk-container-id-6 input.sk-hidden--visually {border: 0;clip: rect(1px 1px 1px 1px);clip: rect(1px, 1px, 1px, 1px);height: 1px;margin: -1px;overflow: hidden;padding: 0;position: absolute;width: 1px;}#sk-container-id-6 div.sk-estimator {font-family: monospace;background-color: #f0f8ff;border: 1px dotted black;border-radius: 0.25em;box-sizing: border-box;margin-bottom: 0.5em;}#sk-container-id-6 div.sk-estimator:hover {background-color: #d4ebff;}#sk-container-id-6 div.sk-parallel-item::after {content: \"\";width: 100%;border-bottom: 1px solid gray;flex-grow: 1;}#sk-container-id-6 div.sk-label:hover label.sk-toggleable__label {background-color: #d4ebff;}#sk-container-id-6 div.sk-serial::before {content: \"\";position: absolute;border-left: 1px solid gray;box-sizing: border-box;top: 0;bottom: 0;left: 50%;z-index: 0;}#sk-container-id-6 div.sk-serial {display: flex;flex-direction: column;align-items: center;background-color: white;padding-right: 0.2em;padding-left: 0.2em;position: relative;}#sk-container-id-6 div.sk-item {position: relative;z-index: 1;}#sk-container-id-6 div.sk-parallel {display: flex;align-items: stretch;justify-content: center;background-color: white;position: relative;}#sk-container-id-6 div.sk-item::before, #sk-container-id-6 div.sk-parallel-item::before {content: \"\";position: absolute;border-left: 1px solid gray;box-sizing: border-box;top: 0;bottom: 0;left: 50%;z-index: -1;}#sk-container-id-6 div.sk-parallel-item {display: flex;flex-direction: column;z-index: 1;position: relative;background-color: white;}#sk-container-id-6 div.sk-parallel-item:first-child::after {align-self: flex-end;width: 50%;}#sk-container-id-6 div.sk-parallel-item:last-child::after {align-self: flex-start;width: 50%;}#sk-container-id-6 div.sk-parallel-item:only-child::after {width: 0;}#sk-container-id-6 div.sk-dashed-wrapped {border: 1px dashed gray;margin: 0 0.4em 0.5em 0.4em;box-sizing: border-box;padding-bottom: 0.4em;background-color: white;}#sk-container-id-6 div.sk-label label {font-family: monospace;font-weight: bold;display: inline-block;line-height: 1.2em;}#sk-container-id-6 div.sk-label-container {text-align: center;}#sk-container-id-6 div.sk-container {/* jupyter's `normalize.less` sets `[hidden] { display: none; }` but bootstrap.min.css set `[hidden] { display: none !important; }` so we also need the `!important` here to be able to override the default hidden behavior on the sphinx rendered scikit-learn.org. See: https://github.com/scikit-learn/scikit-learn/issues/21755 */display: inline-block !important;position: relative;}#sk-container-id-6 div.sk-text-repr-fallback {display: none;}</style><div id=\"sk-container-id-6\" class=\"sk-top-container\"><div class=\"sk-text-repr-fallback\"><pre>Pipeline(steps=[(&#x27;scalar&#x27;, StandardScaler()),\n",
       "                (&#x27;classifier&#x27;, LogisticRegression(max_iter=200))])</pre><b>In a Jupyter environment, please rerun this cell to show the HTML representation or trust the notebook. <br />On GitHub, the HTML representation is unable to render, please try loading this page with nbviewer.org.</b></div><div class=\"sk-container\" hidden><div class=\"sk-item sk-dashed-wrapped\"><div class=\"sk-label-container\"><div class=\"sk-label sk-toggleable\"><input class=\"sk-toggleable__control sk-hidden--visually\" id=\"sk-estimator-id-10\" type=\"checkbox\" ><label for=\"sk-estimator-id-10\" class=\"sk-toggleable__label sk-toggleable__label-arrow\">Pipeline</label><div class=\"sk-toggleable__content\"><pre>Pipeline(steps=[(&#x27;scalar&#x27;, StandardScaler()),\n",
       "                (&#x27;classifier&#x27;, LogisticRegression(max_iter=200))])</pre></div></div></div><div class=\"sk-serial\"><div class=\"sk-item\"><div class=\"sk-estimator sk-toggleable\"><input class=\"sk-toggleable__control sk-hidden--visually\" id=\"sk-estimator-id-11\" type=\"checkbox\" ><label for=\"sk-estimator-id-11\" class=\"sk-toggleable__label sk-toggleable__label-arrow\">StandardScaler</label><div class=\"sk-toggleable__content\"><pre>StandardScaler()</pre></div></div></div><div class=\"sk-item\"><div class=\"sk-estimator sk-toggleable\"><input class=\"sk-toggleable__control sk-hidden--visually\" id=\"sk-estimator-id-12\" type=\"checkbox\" ><label for=\"sk-estimator-id-12\" class=\"sk-toggleable__label sk-toggleable__label-arrow\">LogisticRegression</label><div class=\"sk-toggleable__content\"><pre>LogisticRegression(max_iter=200)</pre></div></div></div></div></div></div></div>"
      ],
      "text/plain": [
       "Pipeline(steps=[('scalar', StandardScaler()),\n",
       "                ('classifier', LogisticRegression(max_iter=200))])"
      ]
     },
     "execution_count": 82,
     "metadata": {},
     "output_type": "execute_result"
    }
   ],
   "source": [
    "# YOUR CODE HERE\n",
    "pipeline.fit(X_train,Y_train)"
   ]
  },
  {
   "cell_type": "markdown",
   "id": "6e690034-4bb1-4cc7-953f-ca32b0dd50ae",
   "metadata": {
    "deletable": false,
    "editable": false,
    "id": "6e690034-4bb1-4cc7-953f-ca32b0dd50ae",
    "nbgrader": {
     "cell_type": "markdown",
     "checksum": "4ea56e2c2034b1d62d729d9e886ec1a5",
     "grade": false,
     "grade_id": "cell-b3a73f00ccae7045",
     "locked": true,
     "schema_version": 3,
     "solution": false,
     "task": false
    }
   },
   "source": [
    "# 3. Predicting and Assessing\n",
    "\n",
    "Now that we have our pipeline, we can start making predictions on our iris data.\n",
    "\n",
    "**Question 3.1.** Use the `.predict` method to make predictions and assign your answer to `Y_pred`. Make sure you use the right feature subset (training vs. testing)!"
   ]
  },
  {
   "cell_type": "code",
   "execution_count": 83,
   "id": "66f1dc5f-2517-4516-956d-c26a353a633b",
   "metadata": {
    "deletable": false,
    "id": "66f1dc5f-2517-4516-956d-c26a353a633b",
    "nbgrader": {
     "cell_type": "code",
     "checksum": "c0900a530d400be927d06ebe6c99289c",
     "grade": true,
     "grade_id": "cell-9153f96c4e41e37f",
     "locked": false,
     "points": 5,
     "schema_version": 3,
     "solution": true,
     "task": false
    }
   },
   "outputs": [
    {
     "name": "stdout",
     "output_type": "stream",
     "text": [
      "     SepalLengthCm  SepalWidthCm  PetalLengthCm  PetalWidthCm\n",
      "88             5.6           3.0            4.1           1.3\n",
      "72             6.3           2.5            4.9           1.5\n",
      "20             5.4           3.4            1.7           0.2\n",
      "16             5.4           3.9            1.3           0.4\n",
      "147            6.5           3.0            5.2           2.0\n",
      "140            6.7           3.1            5.6           2.4\n",
      "113            5.7           2.5            5.0           2.0\n",
      "23             5.1           3.3            1.7           0.5\n",
      "12             4.8           3.0            1.4           0.1\n",
      "68             6.2           2.2            4.5           1.5\n",
      "39             5.1           3.4            1.5           0.2\n",
      "130            7.4           2.8            6.1           1.9\n",
      "34             4.9           3.1            1.5           0.1\n",
      "112            6.8           3.0            5.5           2.1\n",
      "55             5.7           2.8            4.5           1.3\n",
      "25             5.0           3.0            1.6           0.2\n",
      "82             5.8           2.7            3.9           1.2\n",
      "48             5.3           3.7            1.5           0.2\n",
      "81             5.5           2.4            3.7           1.0\n",
      "77             6.7           3.0            5.0           1.7\n",
      "100            6.3           3.3            6.0           2.5\n",
      "80             5.5           2.4            3.8           1.1\n",
      "14             5.8           4.0            1.2           0.2\n",
      "131            7.9           3.8            6.4           2.0\n",
      "86             6.7           3.1            4.7           1.5\n",
      "118            7.7           2.6            6.9           2.3\n",
      "56             6.3           3.3            4.7           1.6\n",
      "54             6.5           2.8            4.6           1.5\n",
      "97             6.2           2.9            4.3           1.3\n",
      "143            6.8           3.2            5.9           2.3\n",
      "\n",
      "Y_pred:  [1 2 0 0 2 2 2 0 0 1 0 2 0 2 1 0 1 0 1 2 2 1 0 2 1 2 1 1 1 2]\n"
     ]
    }
   ],
   "source": [
    "# YOUR CODE HERE\n",
    "\n",
    "Y_pred = pipeline.predict(X_test)\n",
    "print(X_test)\n",
    "print(\"\\nY_pred: \", Y_pred)"
   ]
  },
  {
   "cell_type": "markdown",
   "id": "ca470663-784e-4ac2-ba83-f6646058c23e",
   "metadata": {
    "deletable": false,
    "editable": false,
    "id": "ca470663-784e-4ac2-ba83-f6646058c23e",
    "nbgrader": {
     "cell_type": "markdown",
     "checksum": "ae8e806540aec0f1b1b0e123b92a485e",
     "grade": false,
     "grade_id": "cell-5402e5054b631f02",
     "locked": true,
     "schema_version": 3,
     "solution": false,
     "task": false
    }
   },
   "source": [
    "We print the X_test subset and Y_pred to better understand what's going on. X_test contains 30 random flowers and their metrics. Y_pred is an array of 30 predictions where 0 denotes setosa, 1 denotes versicolor, and 2 denotes verginica.\n",
    "\n",
    "Now let's assess the performance of our predictor. The first tool that we can use is the [confusion matrix](https://scikit-learn.org/stable/modules/generated/sklearn.metrics.confusion_matrix.html) to get the true positive, true negative, false positive, and false negative of our predictor.\n",
    "\n",
    "**Question 3.2.** Import the confusion matrix function from `sklearn` and test the predictions made above. Assign your answer to `conf_matrix`."
   ]
  },
  {
   "cell_type": "code",
   "execution_count": 84,
   "id": "c265f724-d7e8-4273-9201-e5d1d1e477bb",
   "metadata": {
    "deletable": false,
    "id": "c265f724-d7e8-4273-9201-e5d1d1e477bb",
    "nbgrader": {
     "cell_type": "code",
     "checksum": "396aa6dd448ef07c2a032424a38ca4e5",
     "grade": true,
     "grade_id": "cell-c853d9f8a1e33def",
     "locked": false,
     "points": 10,
     "schema_version": 3,
     "solution": true,
     "task": false
    }
   },
   "outputs": [
    {
     "name": "stdout",
     "output_type": "stream",
     "text": [
      "Confusion Matrix:\n",
      " [[ 9  0  0]\n",
      " [ 0 10  2]\n",
      " [ 0  0  9]]\n"
     ]
    }
   ],
   "source": [
    "# YOUR CODE HERE\n",
    "from sklearn.metrics import confusion_matrix\n",
    "conf_matrix = confusion_matrix(Y_test, Y_pred)\n",
    "print(\"Confusion Matrix:\\n\", conf_matrix)"
   ]
  },
  {
   "cell_type": "markdown",
   "id": "15b603aa-5736-4a63-a9dc-492643ff624f",
   "metadata": {
    "deletable": false,
    "editable": false,
    "id": "15b603aa-5736-4a63-a9dc-492643ff624f",
    "nbgrader": {
     "cell_type": "markdown",
     "checksum": "8f4cf1e7adbeee951e77a891e726f63c",
     "grade": false,
     "grade_id": "cell-fe1ba56299262990",
     "locked": true,
     "schema_version": 3,
     "solution": false,
     "task": false
    }
   },
   "source": [
    "Now, run the cell below to better visualize the confusion matrix:"
   ]
  },
  {
   "cell_type": "code",
   "execution_count": 94,
   "id": "b7ca36a6-9b95-418b-8a1e-7576439da448",
   "metadata": {},
   "outputs": [
    {
     "data": {
      "image/png": "[encoded data removed]",
      "text/plain": [
       "<Figure size 800x600 with 2 Axes>"
      ]
     },
     "metadata": {},
     "output_type": "display_data"
    }
   ],
   "source": [
    "# Plot the confusion matrix\n",
    "plt.figure(figsize=(8, 6))\n",
    "sns.heatmap(conf_matrix, annot=True, fmt='d', cmap='Blues', xticklabels=le.classes_, yticklabels=le.classes_)\n",
    "plt.xlabel('Predicted')\n",
    "plt.ylabel('Actual')\n",
    "plt.title('Confusion Matrix')\n",
    "plt.show()"
   ]
  },
  {
   "cell_type": "markdown",
   "id": "2734f5b6-f8d7-4764-b00b-511ddbfbafbe",
   "metadata": {
    "deletable": false,
    "editable": false,
    "id": "2734f5b6-f8d7-4764-b00b-511ddbfbafbe",
    "nbgrader": {
     "cell_type": "markdown",
     "checksum": "a5a5c0c50c0a0aa64a3d8f7187cb2640",
     "grade": false,
     "grade_id": "cell-91d2a2c4298dee0a",
     "locked": true,
     "schema_version": 3,
     "solution": false,
     "task": false
    }
   },
   "source": [
    "**Question 3.3.** What is the TP, TN, FP, and FN of your predictor? What does this mean in terms of its performance?"
   ]
  },
  {
   "cell_type": "markdown",
   "id": "15429e7f-acdd-4b83-b298-f4fc3aa76a68",
   "metadata": {
    "deletable": false,
    "id": "15429e7f-acdd-4b83-b298-f4fc3aa76a68",
    "nbgrader": {
     "cell_type": "markdown",
     "checksum": "19f187814528529973eab9d420762e82",
     "grade": true,
     "grade_id": "cell-b81c82b179e5d145",
     "locked": false,
     "points": 5,
     "schema_version": 3,
     "solution": true,
     "task": false
    }
   },
   "source": [
    "We can see from the confusion matrix, that the predictor accurately predicted All 9 iris-setosa and All 9 iris-virginica. If we compare it to iris-versicolor, 10 were accurately predicted and 2 were miss-classified into iris-virginica.\n",
    "Iris Setosa:\n",
    "TP = 9;\n",
    "TN = 10 + 9 + 2 = 21;\n",
    "FP = 0;\n",
    "FN = 0;\n",
    ",\n",
    "Iris Versicolor:\n",
    "TP = 10;\n",
    "TN = 9 + 9 = 18;\n",
    "FP = 0;\n",
    "FN = 0 (The '2' classified as Iris-Verginca);\n",
    ",\n",
    "Iris Virginica:\n",
    "TP = 9;\n",
    "TN = 19;\n",
    "FP = 2 (2 Iris-versicolor classified as iris-verginca );\n",
    "FN = 0;\n"
   ]
  },
  {
   "cell_type": "markdown",
   "id": "2fedc8b6-4b9e-4e6b-9148-fe092cb36b9e",
   "metadata": {
    "deletable": false,
    "editable": false,
    "id": "2fedc8b6-4b9e-4e6b-9148-fe092cb36b9e",
    "nbgrader": {
     "cell_type": "markdown",
     "checksum": "df4b918a781dabc1d6ebeb0a15e60205",
     "grade": false,
     "grade_id": "cell-460c496f22f791a8",
     "locked": true,
     "schema_version": 3,
     "solution": false,
     "task": false
    }
   },
   "source": [
    "`sklearn` provides a function called [classification report](https://scikit-learn.org/stable/modules/generated/sklearn.metrics.classification_report.html), which calculates the precision, recall, F1-score, and support of a predictor. The support is how many samples there are in each class.\n",
    "\n",
    "**Question 3.4.** Import the classification report from `sklearn` and use it to assess the performance of your predictions. Assign your answer to `class_report`."
   ]
  },
  {
   "cell_type": "code",
   "execution_count": 114,
   "id": "e9cbf0fe-79e1-488b-9010-e02ec28dc81c",
   "metadata": {
    "deletable": false,
    "id": "e9cbf0fe-79e1-488b-9010-e02ec28dc81c",
    "nbgrader": {
     "cell_type": "code",
     "checksum": "a8d9be26b48c89422288d1184bba5e87",
     "grade": true,
     "grade_id": "cell-2e5e790cb2cbd8be",
     "locked": false,
     "points": 10,
     "schema_version": 3,
     "solution": true,
     "task": false
    }
   },
   "outputs": [
    {
     "name": "stdout",
     "output_type": "stream",
     "text": [
      "\n",
      "Classification Report:\n",
      "               precision    recall  f1-score   support\n",
      "\n",
      "           0       1.00      1.00      1.00         9\n",
      "           1       1.00      0.83      0.91        12\n",
      "           2       0.82      1.00      0.90         9\n",
      "\n",
      "    accuracy                           0.93        30\n",
      "   macro avg       0.94      0.94      0.94        30\n",
      "weighted avg       0.95      0.93      0.93        30\n",
      "\n"
     ]
    }
   ],
   "source": [
    "# YOUR CODE HERE\n",
    "from sklearn.metrics import classification_report\n",
    "\n",
    "class_report = classification_report(Y_test, Y_pred)\n",
    "print(\"\\nClassification Report:\\n\", class_report)"
   ]
  },
  {
   "cell_type": "markdown",
   "id": "4d9d331a-5726-47c2-b725-54e02a080a75",
   "metadata": {
    "deletable": false,
    "editable": false,
    "id": "4d9d331a-5726-47c2-b725-54e02a080a75",
    "nbgrader": {
     "cell_type": "markdown",
     "checksum": "e1c31a2586de624456cf9708e0ec11e6",
     "grade": false,
     "grade_id": "cell-07f743c66faaafba",
     "locked": true,
     "schema_version": 3,
     "solution": false,
     "task": false
    }
   },
   "source": [
    "**Question 3.5.** What is the precision, recall, and F1-score of each iris species? What does this tell us about the performance of the predictor?"
   ]
  },
  {
   "cell_type": "markdown",
   "id": "263d72ae-707a-4d2e-994a-663d2f07b948",
   "metadata": {
    "deletable": false,
    "id": "263d72ae-707a-4d2e-994a-663d2f07b948",
    "nbgrader": {
     "cell_type": "markdown",
     "checksum": "347a6403532be222606f163cc3e8cb05",
     "grade": true,
     "grade_id": "cell-0a779bad95e90247",
     "locked": false,
     "points": 5,
     "schema_version": 3,
     "solution": true,
     "task": false
    }
   },
   "source": [
    "The precision is [1, 1, 0.82], the recall is [1, 0.83, 1] and the f1-score is [1,0.91,0.9] for ['Iris-setosa', 'Iris-versicolor', 'Iris-virginica'] respectively.\n",
    "As we can see: precision, recall and f1-score are all high; ∈ [0.82,1]. This indicates that the model is performing really well. The model is desirable, and can be used in practical life."
   ]
  },
  {
   "cell_type": "markdown",
   "id": "5360de4e-aa72-412c-b322-c588eec53490",
   "metadata": {
    "deletable": false,
    "editable": false,
    "id": "5360de4e-aa72-412c-b322-c588eec53490",
    "nbgrader": {
     "cell_type": "markdown",
     "checksum": "66f9b5c1769bcc6c11950ae49c7b4ebd",
     "grade": false,
     "grade_id": "cell-8629210e98202357",
     "locked": true,
     "schema_version": 3,
     "solution": false,
     "task": false
    }
   },
   "source": [
    "# Rubric\n",
    "\n",
    "| Question | Points|\n",
    "|----------|----------|\n",
    "| 1.1.    | 5   |\n",
    "| 1.2.    | 10   |\n",
    "| 1.3.    | 10   |\n",
    "| 2.1.    | 15   |\n",
    "| 2.2.    | 20   |\n",
    "| 2.3.    | 5   |\n",
    "| 3.1.    | 5   |\n",
    "| 3.2.    | 10   |\n",
    "| 3.3.    | 5   |\n",
    "| 3.4.    | 10   |\n",
    "| 3.5.    | 5   |\n",
    "| Total:    | 100   |"
   ]
  }
 ],
 "metadata": {
  "colab": {
   "provenance": []
  },
  "kernelspec": {
   "display_name": "Python 3 (ipykernel)",
   "language": "python",
   "name": "python3"
  },
  "language_info": {
   "codemirror_mode": {
    "name": "ipython",
    "version": 3
   },
   "file_extension": ".py",
   "mimetype": "text/x-python",
   "name": "python",
   "nbconvert_exporter": "python",
   "pygments_lexer": "ipython3",
   "version": "3.9.6"
  }
 },
 "nbformat": 4,
 "nbformat_minor": 5
}
