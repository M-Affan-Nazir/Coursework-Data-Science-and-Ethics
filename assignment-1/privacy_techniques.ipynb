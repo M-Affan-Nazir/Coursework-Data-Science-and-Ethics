{
 "cells": [
  {
   "cell_type": "markdown",
   "metadata": {
    "deletable": false,
    "editable": false,
    "id": "3_ps3FP3hqnJ",
    "nbgrader": {
     "cell_type": "markdown",
     "checksum": "1f55a026a5ea08f29755d386542fa472",
     "grade": false,
     "grade_id": "cell-85cb841f3b71186f",
     "locked": true,
     "schema_version": 3,
     "solution": false,
     "task": false
    }
   },
   "source": [
    "<!-- # CMPUT 200 Fall 2024  Ethics of Data Science and AI\n",
    " -->\n",
    "# Assignment 1: Applying and Analyzing Privacy Techniques"
   ]
  },
  {
   "cell_type": "markdown",
   "metadata": {
    "deletable": false,
    "editable": false,
    "id": "bnjUUzZwhqnO",
    "jp-MarkdownHeadingCollapsed": true,
    "nbgrader": {
     "cell_type": "markdown",
     "checksum": "cfe6cd832762707f49bcbba9d5efc791",
     "grade": false,
     "grade_id": "cell-bbe580836b49d0aa",
     "locked": true,
     "schema_version": 3,
     "solution": false,
     "task": false
    }
   },
   "source": [
    "In this assignment you will apply basic privacy techniques to a dataset of your choosing. By the end of this assignment, you should be able to:\n",
    "1. Understand and implement randomized response on binary data;\n",
    "2. Calculate the sensititivity of a non-binary feature;\n",
    "3. Add noise to a non-binary feature;\n",
    "4. Compute aggregate statistics.\n",
    "\n",
    "### Instructions\n",
    "<!-- **Deadline.**  This assignment is due at ****.  Please check the syllabus for late submissions. -->\n",
    "You are expected to write clear, detailed, and complete answers when analysing your data. Lack of this may result in point deductions.\n",
    "\n",
    "**Reminder.** You must submit your own work. The collaboration policy for the assignments is Group Collaboration. You may work together in groups of up to 2.\n",
    " On Canvas we added a group set called \"Assignment Group\".  We have enabled self-signup for you to signup as a group.  If you don't select your group by Wednesday Sep 25th 11:59pm, we will assume you are working on your own.\n",
    " Under the group collaboration policy, besides working with your group member, you can discuss concepts with. your peers. However, the work must be by your own group, and all sources of information used including books, websites, students you talked to, must be cited in the submission. Please see the course FAQ document for details on this collaboration policy. We will adhere to current Faculty of Science guidelines on dealing with suspected cases of violation of academic integrity.\n",
    "\n",
    "You must use this notebook to complete your assignment. You will execute the questions in the notebook. The questions might ask for a short answer in text form or for you to write and execute a piece of code. **Make sure you enter your answer in either case only in the cell provided.**  Do not use a different cell and do not create a new cell. Do not delete any test cells.  Creating new cells for your code and deleting test cells is not compatible with the auto-grading system we are using and thus your assignment will not be graded properly and you will lose marks for that question.\n",
    "\n",
    "Your submitted notebook should run on our local installation.  So if you are importing packages not listed in the notebook or using local data files not included in the assignment package, make sure the notebook is self-contained with a requirements.txt file or cells in the notebook itself to install the extra packages.  If we cannot run your notebook, you will lose 50% of the marks, and any additional marks that may be lost due to wrong answers.\n",
    "\n",
    "### Submission Instructions\n",
    "When you are done, you will submit your work from the notebook. Make sure to save your notebook before running it, and then submit on Canvas the notebook file with your work completed.\n",
    "\n",
    "**IMPORTANT: Name your file with your *Student ID number* and the assignment number (ex: 1234567_A1.ipynb). Failure to do so will result in a zero!**"
   ]
  },
  {
   "cell_type": "code",
   "execution_count": 1,
   "metadata": {
    "deletable": false,
    "editable": false,
    "id": "srxwLEJ2hqnQ",
    "nbgrader": {
     "cell_type": "code",
     "checksum": "b612f2b2a645984be2bcb918f9efcf53",
     "grade": false,
     "grade_id": "cell-0dc3ce7e70d5f3f6",
     "locked": true,
     "schema_version": 3,
     "solution": false,
     "task": false
    }
   },
   "outputs": [],
   "source": [
    "# Run this cell to set up; Please don't change this cell.\n",
    "\n",
    "import numpy as np\n",
    "from numpy.random import default_rng\n",
    "rng = default_rng()\n",
    "import pandas as pd\n",
    "from scipy.optimize import minimize\n",
    "\n",
    "# These lines do some fancy plotting magic.\n",
    "import matplotlib\n",
    "# This is a magic function that renders the figure in the notebook, instead of displaying a dump of the figure object.\n",
    "%matplotlib inline\n",
    "import matplotlib.pyplot as plt\n",
    "plt.style.use('fivethirtyeight')\n",
    "import warnings\n",
    "warnings.simplefilter('ignore', FutureWarning)"
   ]
  },
  {
   "cell_type": "markdown",
   "metadata": {
    "deletable": false,
    "editable": false,
    "id": "NNZORqFmhqnS",
    "nbgrader": {
     "cell_type": "markdown",
     "checksum": "a34fe4c6a7be2d19d5570926b244b4de",
     "grade": false,
     "grade_id": "cell-7c937b0b6dd4862c",
     "locked": true,
     "schema_version": 3,
     "solution": false,
     "task": false
    }
   },
   "source": [
    "## Part 1: Data\n",
    "\n",
    "**Question 1.1.** We will first load the data, carry out some cleaning and pre-processing, and inspect the data to understand what exploratory steps we will take. Name the DataFrame `df`."
   ]
  },
  {
   "cell_type": "code",
   "execution_count": 2,
   "metadata": {
    "colab": {
     "base_uri": "https://localhost:8080/",
     "height": 219
    },
    "deletable": false,
    "id": "TGrPOrmihqnS",
    "nbgrader": {
     "cell_type": "code",
     "checksum": "f4bd21c8663237fc1f1e4f3953408fee",
     "grade": false,
     "grade_id": "cell-9a1579125766c11b",
     "locked": false,
     "schema_version": 3,
     "solution": true,
     "task": false
    },
    "outputId": "66c1820e-c5bd-44b3-d4b6-625a0c99abc5",
    "tags": []
   },
   "outputs": [
    {
     "name": "stdout",
     "output_type": "stream",
     "text": [
      "Shape:  (7214, 53)\n"
     ]
    },
    {
     "data": {
      "text/html": [
       "<div>\n",
       "<style scoped>\n",
       "    .dataframe tbody tr th:only-of-type {\n",
       "        vertical-align: middle;\n",
       "    }\n",
       "\n",
       "    .dataframe tbody tr th {\n",
       "        vertical-align: top;\n",
       "    }\n",
       "\n",
       "    .dataframe thead th {\n",
       "        text-align: right;\n",
       "    }\n",
       "</style>\n",
       "<table border=\"1\" class=\"dataframe\">\n",
       "  <thead>\n",
       "    <tr style=\"text-align: right;\">\n",
       "      <th></th>\n",
       "      <th>id</th>\n",
       "      <th>name</th>\n",
       "      <th>first</th>\n",
       "      <th>last</th>\n",
       "      <th>compas_screening_date</th>\n",
       "      <th>sex</th>\n",
       "      <th>dob</th>\n",
       "      <th>age</th>\n",
       "      <th>age_cat</th>\n",
       "      <th>race</th>\n",
       "      <th>...</th>\n",
       "      <th>v_decile_score</th>\n",
       "      <th>v_score_text</th>\n",
       "      <th>v_screening_date</th>\n",
       "      <th>in_custody</th>\n",
       "      <th>out_custody</th>\n",
       "      <th>priors_count.1</th>\n",
       "      <th>start</th>\n",
       "      <th>end</th>\n",
       "      <th>event</th>\n",
       "      <th>two_year_recid</th>\n",
       "    </tr>\n",
       "  </thead>\n",
       "  <tbody>\n",
       "    <tr>\n",
       "      <th>0</th>\n",
       "      <td>1</td>\n",
       "      <td>miguel hernandez</td>\n",
       "      <td>miguel</td>\n",
       "      <td>hernandez</td>\n",
       "      <td>2013-08-14</td>\n",
       "      <td>Male</td>\n",
       "      <td>1947-04-18</td>\n",
       "      <td>69</td>\n",
       "      <td>Greater than 45</td>\n",
       "      <td>Other</td>\n",
       "      <td>...</td>\n",
       "      <td>1</td>\n",
       "      <td>Low</td>\n",
       "      <td>2013-08-14</td>\n",
       "      <td>2014-07-07</td>\n",
       "      <td>2014-07-14</td>\n",
       "      <td>0</td>\n",
       "      <td>0</td>\n",
       "      <td>327</td>\n",
       "      <td>0</td>\n",
       "      <td>0</td>\n",
       "    </tr>\n",
       "    <tr>\n",
       "      <th>1</th>\n",
       "      <td>3</td>\n",
       "      <td>kevon dixon</td>\n",
       "      <td>kevon</td>\n",
       "      <td>dixon</td>\n",
       "      <td>2013-01-27</td>\n",
       "      <td>Male</td>\n",
       "      <td>1982-01-22</td>\n",
       "      <td>34</td>\n",
       "      <td>25 - 45</td>\n",
       "      <td>African-American</td>\n",
       "      <td>...</td>\n",
       "      <td>1</td>\n",
       "      <td>Low</td>\n",
       "      <td>2013-01-27</td>\n",
       "      <td>2013-01-26</td>\n",
       "      <td>2013-02-05</td>\n",
       "      <td>0</td>\n",
       "      <td>9</td>\n",
       "      <td>159</td>\n",
       "      <td>1</td>\n",
       "      <td>1</td>\n",
       "    </tr>\n",
       "    <tr>\n",
       "      <th>2</th>\n",
       "      <td>4</td>\n",
       "      <td>ed philo</td>\n",
       "      <td>ed</td>\n",
       "      <td>philo</td>\n",
       "      <td>2013-04-14</td>\n",
       "      <td>Male</td>\n",
       "      <td>1991-05-14</td>\n",
       "      <td>24</td>\n",
       "      <td>Less than 25</td>\n",
       "      <td>African-American</td>\n",
       "      <td>...</td>\n",
       "      <td>3</td>\n",
       "      <td>Low</td>\n",
       "      <td>2013-04-14</td>\n",
       "      <td>2013-06-16</td>\n",
       "      <td>2013-06-16</td>\n",
       "      <td>4</td>\n",
       "      <td>0</td>\n",
       "      <td>63</td>\n",
       "      <td>0</td>\n",
       "      <td>1</td>\n",
       "    </tr>\n",
       "    <tr>\n",
       "      <th>3</th>\n",
       "      <td>5</td>\n",
       "      <td>marcu brown</td>\n",
       "      <td>marcu</td>\n",
       "      <td>brown</td>\n",
       "      <td>2013-01-13</td>\n",
       "      <td>Male</td>\n",
       "      <td>1993-01-21</td>\n",
       "      <td>23</td>\n",
       "      <td>Less than 25</td>\n",
       "      <td>African-American</td>\n",
       "      <td>...</td>\n",
       "      <td>6</td>\n",
       "      <td>Medium</td>\n",
       "      <td>2013-01-13</td>\n",
       "      <td>NaN</td>\n",
       "      <td>NaN</td>\n",
       "      <td>1</td>\n",
       "      <td>0</td>\n",
       "      <td>1174</td>\n",
       "      <td>0</td>\n",
       "      <td>0</td>\n",
       "    </tr>\n",
       "    <tr>\n",
       "      <th>4</th>\n",
       "      <td>6</td>\n",
       "      <td>bouthy pierrelouis</td>\n",
       "      <td>bouthy</td>\n",
       "      <td>pierrelouis</td>\n",
       "      <td>2013-03-26</td>\n",
       "      <td>Male</td>\n",
       "      <td>1973-01-22</td>\n",
       "      <td>43</td>\n",
       "      <td>25 - 45</td>\n",
       "      <td>Other</td>\n",
       "      <td>...</td>\n",
       "      <td>1</td>\n",
       "      <td>Low</td>\n",
       "      <td>2013-03-26</td>\n",
       "      <td>NaN</td>\n",
       "      <td>NaN</td>\n",
       "      <td>2</td>\n",
       "      <td>0</td>\n",
       "      <td>1102</td>\n",
       "      <td>0</td>\n",
       "      <td>0</td>\n",
       "    </tr>\n",
       "  </tbody>\n",
       "</table>\n",
       "<p>5 rows × 53 columns</p>\n",
       "</div>"
      ],
      "text/plain": [
       "   id                name   first         last compas_screening_date   sex  \\\n",
       "0   1    miguel hernandez  miguel    hernandez            2013-08-14  Male   \n",
       "1   3         kevon dixon   kevon        dixon            2013-01-27  Male   \n",
       "2   4            ed philo      ed        philo            2013-04-14  Male   \n",
       "3   5         marcu brown   marcu        brown            2013-01-13  Male   \n",
       "4   6  bouthy pierrelouis  bouthy  pierrelouis            2013-03-26  Male   \n",
       "\n",
       "          dob  age          age_cat              race  ...  v_decile_score  \\\n",
       "0  1947-04-18   69  Greater than 45             Other  ...               1   \n",
       "1  1982-01-22   34          25 - 45  African-American  ...               1   \n",
       "2  1991-05-14   24     Less than 25  African-American  ...               3   \n",
       "3  1993-01-21   23     Less than 25  African-American  ...               6   \n",
       "4  1973-01-22   43          25 - 45             Other  ...               1   \n",
       "\n",
       "   v_score_text  v_screening_date  in_custody  out_custody  priors_count.1  \\\n",
       "0           Low        2013-08-14  2014-07-07   2014-07-14               0   \n",
       "1           Low        2013-01-27  2013-01-26   2013-02-05               0   \n",
       "2           Low        2013-04-14  2013-06-16   2013-06-16               4   \n",
       "3        Medium        2013-01-13         NaN          NaN               1   \n",
       "4           Low        2013-03-26         NaN          NaN               2   \n",
       "\n",
       "  start   end event two_year_recid  \n",
       "0     0   327     0              0  \n",
       "1     9   159     1              1  \n",
       "2     0    63     0              1  \n",
       "3     0  1174     0              0  \n",
       "4     0  1102     0              0  \n",
       "\n",
       "[5 rows x 53 columns]"
      ]
     },
     "execution_count": 2,
     "metadata": {},
     "output_type": "execute_result"
    }
   ],
   "source": [
    "# YOUR CODE HERE\n",
    "import pandas as pd\n",
    "df = pd.read_csv(\"./compas_data_two_years.csv\")\n",
    "print(\"Shape: \", df.shape)\n",
    "df.head(5)"
   ]
  },
  {
   "cell_type": "markdown",
   "metadata": {
    "deletable": false,
    "editable": false,
    "id": "1CdvRl4zhqnT",
    "nbgrader": {
     "cell_type": "markdown",
     "checksum": "dbb0f68efc79b0b0f0f2dd82db7b55b9",
     "grade": false,
     "grade_id": "cell-2f34e241ce98983e",
     "locked": true,
     "schema_version": 3,
     "solution": false,
     "task": false
    }
   },
   "source": [
    "**Question 1.2.** Describe your data and its purpose. Identify one variable that is binary or that could be classified into a binary feature. Identify another that is not a binary feature."
   ]
  },
  {
   "cell_type": "markdown",
   "metadata": {
    "deletable": false,
    "id": "gNuFF9f5hqnT",
    "nbgrader": {
     "cell_type": "markdown",
     "checksum": "82da7e7ba1a0b933c69deab40101fca4",
     "grade": true,
     "grade_id": "cell-32e0d9ee7f1babd3",
     "locked": false,
     "points": 10,
     "schema_version": 3,
     "solution": true,
     "task": false
    }
   },
   "source": [
    "Answer: The COMPAS (Correctional Offender Management Profiling for Alternative Sanctions) dataset is used to access a convicted criminals likelihood of reoffending. The dataset has almmost 7214 records of individuals, with almost 53 attribute columns; including sensitive attributes like first and last names, date of birth and race. The is_violent_recid variable can be classified as a binary feature. In contrast, the 'age' attribute can not be classified into a binary feature."
   ]
  },
  {
   "cell_type": "markdown",
   "metadata": {
    "deletable": false,
    "editable": false,
    "id": "_iWxagNahqnU",
    "nbgrader": {
     "cell_type": "markdown",
     "checksum": "902fd4e9bc4ef801b90a290e429f53ae",
     "grade": false,
     "grade_id": "cell-117d5bc0fc4a2ada",
     "locked": true,
     "schema_version": 3,
     "solution": false,
     "task": false
    },
    "tags": []
   },
   "source": [
    "## Part 2: Data pre-processing\n",
    "\n",
    "**Question 2.1.** If your data has missing values or empty rows, remove them in the cell below. If the feature that you chose above has to be classified into a binary feature, convert it. Finally, if your binary feature is categorical, convert it to numerial."
   ]
  },
  {
   "cell_type": "code",
   "execution_count": 3,
   "metadata": {
    "deletable": false,
    "id": "qRR7pvMxhqnV",
    "nbgrader": {
     "cell_type": "code",
     "checksum": "5ebc0601fca7a16dc2f277c9d21a8886",
     "grade": true,
     "grade_id": "cell-03b21af0a44f6265",
     "locked": false,
     "points": 5,
     "schema_version": 3,
     "solution": true,
     "task": false
    },
    "scrolled": true
   },
   "outputs": [],
   "source": [
    "# YOUR CODE HERE\n",
    "import numbers\n",
    "\n",
    "#Dropping Columns which have ALOT of NaN values. Then, dropping rows with NaN values, Effectively making a clean dataset.\n",
    "null_counts = df.isnull().sum()\n",
    "df = df.loc[:,null_counts<1000] #df.loc[:,[True, True, False, False, ....]] : A Boolean mask for columns\n",
    "df = df.dropna()\n",
    "\n",
    "#Comverting all Categorical 'Binary' Features, into Binary Numerical.\n",
    "binary_columns = df.columns[df.columns.map(lambda column: len(df[column].unique()) == 2)]\n",
    "binary_types = binary_columns.map(lambda x: df[x].unique())\n",
    "conversion = []\n",
    "for i in range(0,len(binary_types)):\n",
    "    if isinstance(binary_types[i][0], numbers.Number) ==  False:\n",
    "        data = [binary_columns[i],binary_types[i][0], 0]\n",
    "        data2 = [binary_columns[i],binary_types[i][1], 1]\n",
    "        conversion.append(data)\n",
    "        conversion.append(data2)\n",
    "for ar in conversion:\n",
    "    df[ar[0]] = df[ar[0]].replace({ar[1]:ar[2]})"
   ]
  },
  {
   "cell_type": "code",
   "execution_count": null,
   "metadata": {},
   "outputs": [],
   "source": []
  },
  {
   "cell_type": "markdown",
   "metadata": {
    "deletable": false,
    "editable": false,
    "id": "Kl_I9T9QhqnV",
    "nbgrader": {
     "cell_type": "markdown",
     "checksum": "04f90b2024c5d0472c1c811346143d42",
     "grade": false,
     "grade_id": "cell-84e70288b5aa22bb",
     "locked": true,
     "schema_version": 3,
     "solution": false,
     "task": false
    },
    "tags": []
   },
   "source": [
    "## Part 3: Randomized Response\n",
    "\n",
    "Now let's implement a Randomized Response mechanism. First we have to identify what the query on our **binary** variable will be. Then we can create our own randomized mechanism."
   ]
  },
  {
   "cell_type": "markdown",
   "metadata": {
    "deletable": false,
    "editable": false,
    "id": "LL0DlqwJhqnW",
    "nbgrader": {
     "cell_type": "markdown",
     "checksum": "aab18be6b50176fec04daa9b50ee2240",
     "grade": false,
     "grade_id": "cell-47f6741b7fe3f858",
     "locked": true,
     "schema_version": 3,
     "solution": false,
     "task": false
    }
   },
   "source": [
    "**Question 3.1.** Write a query on your binary feature."
   ]
  },
  {
   "cell_type": "markdown",
   "metadata": {
    "deletable": false,
    "id": "yCoar396hqnW",
    "nbgrader": {
     "cell_type": "markdown",
     "checksum": "0d3a5bfc107c20195c55e99e4101f804",
     "grade": true,
     "grade_id": "cell-8fb2ecdd479463c4",
     "locked": false,
     "points": 5,
     "schema_version": 3,
     "solution": true,
     "task": false
    }
   },
   "source": [
    "Answer: The binary variable is 'is_violent_recid'-- which states whether the culprit commited a violent crime after previously commiting another violent crime. For this variable, the query is: \"Did you (the culprit) commit a violent crime after previously commiting a crime\"?"
   ]
  },
  {
   "cell_type": "markdown",
   "metadata": {
    "deletable": false,
    "editable": false,
    "id": "8fnNcBpnhqnW",
    "nbgrader": {
     "cell_type": "markdown",
     "checksum": "3026c9891d7c63e559148fca5f62136b",
     "grade": false,
     "grade_id": "cell-4407970f091c22db",
     "locked": true,
     "schema_version": 3,
     "solution": false,
     "task": false
    }
   },
   "source": [
    "**Question 3.2.** Create your own randomized response mechanism for the query you defined above. You may NOT use the coin example from class, try to be creative!"
   ]
  },
  {
   "cell_type": "markdown",
   "metadata": {
    "deletable": false,
    "id": "XycQE8yAhqnW",
    "nbgrader": {
     "cell_type": "markdown",
     "checksum": "30418cce3dce9fdb8d918260cbad55a2",
     "grade": true,
     "grade_id": "cell-3b5b1d7448385db4",
     "locked": false,
     "points": 10,
     "schema_version": 3,
     "solution": true,
     "task": false
    }
   },
   "source": [
    "Answer: We ask culprit to pick a number from 1 to 6. Then, we roll a fair 6-sided die. We ask the user to give a 'false' response if the number he picked is rolled. If the number rolled is not the one he picked, then he must give the correct answer. In this manner, we have a 83.33% (5/6) chance of obtaining a correct answer; and 16.6% (1/6) of a wrong answer."
   ]
  },
  {
   "cell_type": "markdown",
   "metadata": {
    "deletable": false,
    "editable": false,
    "id": "158f191ChqnW",
    "nbgrader": {
     "cell_type": "markdown",
     "checksum": "ecbe48db032b1e45576344618a9a7fcd",
     "grade": false,
     "grade_id": "cell-c963142ddee9a91e",
     "locked": true,
     "schema_version": 3,
     "solution": false,
     "task": false
    }
   },
   "source": [
    "**Question 3.3.** Implement a function for your mechanism in 3.2. in the code cell below. The function should accept a value `0` or `1` and return the reported answer according to the randomized response above. Name your function `rand_resp`."
   ]
  },
  {
   "cell_type": "code",
   "execution_count": 4,
   "metadata": {
    "deletable": false,
    "id": "wH7Wu3ujhqnX",
    "nbgrader": {
     "cell_type": "code",
     "checksum": "ec64f7a1be3aa3d5ec7387815033f834",
     "grade": true,
     "grade_id": "cell-1286084e2f0e7be5",
     "locked": false,
     "points": 10,
     "schema_version": 3,
     "solution": true,
     "task": false
    }
   },
   "outputs": [],
   "source": [
    "# YOUR CODE HERE\n",
    "import random\n",
    "def rand_resp(actual_value):\n",
    "    chosen = random.randint(1,6) #Simulate a user choosing a number\n",
    "    rolled = random.randint(1,6) #Simulate the roll of a fair 6-sided die\n",
    "    if chosen != rolled:\n",
    "        return actual_value\n",
    "    return abs(actual_value - 1)"
   ]
  },
  {
   "cell_type": "markdown",
   "metadata": {
    "deletable": false,
    "editable": false,
    "id": "O5fH396xhqnX",
    "nbgrader": {
     "cell_type": "markdown",
     "checksum": "cf25a045f8ba8fc3a19dcdbacfed4496",
     "grade": false,
     "grade_id": "cell-3aadbbd90ba83533",
     "locked": true,
     "schema_version": 3,
     "solution": false,
     "task": false
    }
   },
   "source": [
    "**Question 3.4.** For each value in your dataframe's binary feature column, call your function. Store the results in a new column in df named `rrc1`."
   ]
  },
  {
   "cell_type": "code",
   "execution_count": 5,
   "metadata": {
    "deletable": false,
    "id": "YyQoTnpwhqnX",
    "nbgrader": {
     "cell_type": "code",
     "checksum": "3af7fa9fc588c3e0aac70d1b2f5f8b1d",
     "grade": true,
     "grade_id": "cell-060720cfa4db841f",
     "locked": false,
     "points": 2,
     "schema_version": 3,
     "solution": true,
     "task": false
    }
   },
   "outputs": [],
   "source": [
    "true_responses = df[\"is_violent_recid\"] #6900 responses\n",
    "reported = []\n",
    "for response in true_responses:\n",
    "    reported.append( rand_resp(response) )\n",
    "df[\"rrc1\"] = reported"
   ]
  },
  {
   "cell_type": "markdown",
   "metadata": {
    "deletable": false,
    "editable": false,
    "id": "owjv95YohqnY",
    "nbgrader": {
     "cell_type": "markdown",
     "checksum": "d87ac09513030c7e91318a7b72503e54",
     "grade": false,
     "grade_id": "cell-f43f33a280852d6d",
     "locked": true,
     "schema_version": 3,
     "solution": false,
     "task": false
    }
   },
   "source": [
    "**Question 3.5.** Now get the **estimate** for the true number of people who answered `1`.  Write this result into the variable `count_est_true_yes`.  Given the number of reported `1`'s, we know how to estimate the proportion or number of true `1`'s.\n",
    "\n",
    "Calculate the true number of people who answered `1` (the true answer in the data we imported) and write it into the variable `count_true_yes`."
   ]
  },
  {
   "cell_type": "code",
   "execution_count": 6,
   "metadata": {
    "deletable": false,
    "id": "DLoMMeydhqnY",
    "nbgrader": {
     "cell_type": "code",
     "checksum": "7b78a4cc2e2bb49274b91c1dd71628ec",
     "grade": true,
     "grade_id": "cell-b56691cfab40d118",
     "locked": false,
     "points": 8,
     "schema_version": 3,
     "solution": true,
     "task": false
    }
   },
   "outputs": [
    {
     "name": "stdout",
     "output_type": "stream",
     "text": [
      "Estimated true yes count:  916.5\n",
      "True yes count:  803\n"
     ]
    }
   ],
   "source": [
    "# YOUR CODE HERE\n",
    "\n",
    "#Calculating estimate using probability and mathematical manipulation:\n",
    "total_reported_yes = 0\n",
    "for i in df[\"rrc1\"]:\n",
    "    if i == 1:\n",
    "        total_reported_yes += 1\n",
    "count_est_true_yes = (6 * total_reported_yes- 6900)/4\n",
    "\n",
    "\n",
    "#Calculating Actual ones:\n",
    "count_true_yes = 0\n",
    "for i in df[\"is_violent_recid\"]:\n",
    "    if i == 1:\n",
    "       count_true_yes += 1\n",
    "\n",
    "print(\"Estimated true yes count: \", count_est_true_yes)\n",
    "print(\"True yes count: \", count_true_yes)"
   ]
  },
  {
   "cell_type": "markdown",
   "metadata": {
    "deletable": false,
    "editable": false,
    "id": "aJziAGxRhqnY",
    "nbgrader": {
     "cell_type": "markdown",
     "checksum": "75e51284fc25764d267507d6fd50e9e6",
     "grade": false,
     "grade_id": "cell-41ba749ce89e3c9f",
     "locked": true,
     "schema_version": 3,
     "solution": false,
     "task": false
    }
   },
   "source": [
    "**Question 3.6.** Comment on your results from above. What can you say about the privacy-accuracy tradeoff of your randomized response mechanism?"
   ]
  },
  {
   "cell_type": "markdown",
   "metadata": {
    "deletable": false,
    "id": "tfVw8paDhqnY",
    "nbgrader": {
     "cell_type": "markdown",
     "checksum": "47d43d526ddeae6b9c70036bff3f7325",
     "grade": true,
     "grade_id": "cell-dae0ea7d4a64d684",
     "locked": false,
     "points": 5,
     "schema_version": 3,
     "solution": true,
     "task": false
    }
   },
   "source": [
    "Answer: As we can see, the Estimated true count of '1' responses is very close to the True yes count. Through the use of dice randomized response mehcanism, we have successfully preserved the privacy of individuals, but at the same time kept the accuracy of the response when calculating aggregate statistics."
   ]
  },
  {
   "cell_type": "markdown",
   "metadata": {
    "deletable": false,
    "editable": false,
    "id": "Gntud8gdhqnY",
    "nbgrader": {
     "cell_type": "markdown",
     "checksum": "ac9397d4192c28edffbf1e57b5074d74",
     "grade": false,
     "grade_id": "cell-eafddfe8f7aca23b",
     "locked": true,
     "schema_version": 3,
     "solution": false,
     "task": false
    }
   },
   "source": [
    "**Question 3.7.** We learned in class that data analysts are still able to obtain aggregate statistics from the results of a randomized response survey. Using the column you made above, `rrc1`, to calculate the mean and median for the estimated true responses. Do the same for your true responses. Name your answers `mean_est_true_yes`, `mean_true_yes`, `median_est_true_yes`, and `median_true_yes` respectively."
   ]
  },
  {
   "cell_type": "code",
   "execution_count": 7,
   "metadata": {
    "deletable": false,
    "id": "UvkhUEb1hqnZ",
    "nbgrader": {
     "cell_type": "code",
     "checksum": "1d73234db34666effd05da1ff008df13",
     "grade": true,
     "grade_id": "cell-f3e375d99ed535c8",
     "locked": false,
     "points": 6,
     "schema_version": 3,
     "solution": true,
     "task": false
    }
   },
   "outputs": [
    {
     "name": "stdout",
     "output_type": "stream",
     "text": [
      "Mean:  0.13282608695652173 0.11637681159420289\n",
      "Median:  0 0\n"
     ]
    }
   ],
   "source": [
    "# YOUR CODE HERE\n",
    "\n",
    "#Mean:\n",
    "mean_est_true_yes = count_est_true_yes / 6900\n",
    "mean_true_yes = count_true_yes / 6900\n",
    "\n",
    "#Median:\n",
    "number_of_ones_reported = count_est_true_yes\n",
    "number_of_zeros_reported = 6900 - number_of_ones_reported\n",
    "median_est_true_yes = 1\n",
    "median_index = 6900/2\n",
    "if(number_of_zeros_reported > median_index):\n",
    "    median_est_true_yes = 0\n",
    "    \n",
    "number_of_ones_actual = count_true_yes\n",
    "number_of_zeros_actual = 6900 - number_of_ones_actual\n",
    "median_true_yes = 1\n",
    "median_index = 6900/2\n",
    "if (number_of_zeros_actual > median_index):\n",
    "    median_true_yes = 0\n",
    "\n",
    "\n",
    "\n",
    "\n",
    "print(\"Mean: \", mean_est_true_yes, mean_true_yes)\n",
    "print(\"Median: \", median_est_true_yes, median_true_yes)"
   ]
  },
  {
   "cell_type": "markdown",
   "metadata": {
    "deletable": false,
    "editable": false,
    "id": "nJ3G_lIEhqnZ",
    "nbgrader": {
     "cell_type": "markdown",
     "checksum": "52554cc31240325f4a919d04976aa0c2",
     "grade": false,
     "grade_id": "cell-3ce7f027660070ac",
     "locked": true,
     "schema_version": 3,
     "solution": false,
     "task": false
    }
   },
   "source": [
    "**Question 3.8.** Comment on your results from above. Are the results from your mechanism useable? What can you say about the privacy when it comes to randomized response? Comment on the distributions of your data."
   ]
  },
  {
   "cell_type": "markdown",
   "metadata": {
    "deletable": false,
    "id": "2-MauRHehqnZ",
    "nbgrader": {
     "cell_type": "markdown",
     "checksum": "0e2af0b0e133fd482ad756e648342935",
     "grade": true,
     "grade_id": "cell-f2908db35a79d9d1",
     "locked": false,
     "points": 8,
     "schema_version": 3,
     "solution": true,
     "task": false
    }
   },
   "source": [
    "Answer: Both Mean and Median are fairly accurate, and match the actual data itself. Looking at these results, we can easily deduce that the privacy of individuals is protected while attribute disclosure is prevented. The distributions of both datasets are identical."
   ]
  },
  {
   "cell_type": "markdown",
   "metadata": {
    "deletable": false,
    "editable": false,
    "id": "rjX9OIaghqnZ",
    "nbgrader": {
     "cell_type": "markdown",
     "checksum": "7d2e52045a04a6de615232b0fb72a872",
     "grade": false,
     "grade_id": "cell-0797ecda97e707cd",
     "locked": true,
     "schema_version": 3,
     "solution": false,
     "task": false
    }
   },
   "source": [
    "## Part 4: Adding Noise\n",
    "\n",
    "We are going to use the non-binary feature that you chose earlier and add noise to it. To do this, we apply the same steps that we would for differential privacy: $f(D) + Z$."
   ]
  },
  {
   "cell_type": "markdown",
   "metadata": {
    "deletable": false,
    "editable": false,
    "id": "DaV0DzKQhqnZ",
    "nbgrader": {
     "cell_type": "markdown",
     "checksum": "51b25737bf7d7de445bcd23517c979b0",
     "grade": false,
     "grade_id": "cell-df33f1c2165af95c",
     "locked": true,
     "schema_version": 3,
     "solution": false,
     "task": false
    }
   },
   "source": [
    "**Question 4.1.** Suppose the function we wish to query is **count**. What would the global sensitivity, $S(f)$, be? Explain why."
   ]
  },
  {
   "cell_type": "markdown",
   "metadata": {
    "deletable": false,
    "id": "l_bqurl1hqna",
    "nbgrader": {
     "cell_type": "markdown",
     "checksum": "756998959732dfea941f6ad46d81c9de",
     "grade": true,
     "grade_id": "cell-502ab5d1f21f72f7",
     "locked": false,
     "points": 2,
     "schema_version": 3,
     "solution": true,
     "task": false
    }
   },
   "source": [
    "Answer: For the count query, we wish to count the total occurances of unique value in the dataset, for a specific feature. In this case, adding or removing a person will change the count by 1. Therefore, the Global Sensitivity Value for the 'count' query is 1."
   ]
  },
  {
   "cell_type": "markdown",
   "metadata": {
    "deletable": false,
    "editable": false,
    "id": "BYAmTAcEhqna",
    "nbgrader": {
     "cell_type": "markdown",
     "checksum": "2093bb37fe089b872dc0d061c655b513",
     "grade": false,
     "grade_id": "cell-6b48a0d881fa8954",
     "locked": true,
     "schema_version": 3,
     "solution": false,
     "task": false
    }
   },
   "source": [
    "**Question 4.2.** In the cell below, write a function that adds Laplace noise to a value given the sensitivity and the privacy parameter, epsilon. Name your function `add_laplace_noise`."
   ]
  },
  {
   "cell_type": "code",
   "execution_count": 8,
   "metadata": {
    "deletable": false,
    "id": "gDc_iQaWhqna",
    "nbgrader": {
     "cell_type": "code",
     "checksum": "f605c6ed7573b20a07839b2a9312ebf1",
     "grade": true,
     "grade_id": "cell-0d6870f79e562acf",
     "locked": false,
     "points": 10,
     "schema_version": 3,
     "solution": true,
     "task": false
    }
   },
   "outputs": [],
   "source": [
    "# YOUR CODE HERE\n",
    "import numpy as np\n",
    "def add_laplace_noise(value, sensitivity, epsilon):\n",
    "    scale = sensitivity/epsilon\n",
    "    noise = np.random.laplace(0,scale)\n",
    "    return value+noise"
   ]
  },
  {
   "cell_type": "markdown",
   "metadata": {
    "deletable": false,
    "editable": false,
    "id": "8K-ojBPahqnb",
    "nbgrader": {
     "cell_type": "markdown",
     "checksum": "63f925c43da0d33a0d92f960699df870",
     "grade": false,
     "grade_id": "cell-5c811b351ea655a6",
     "locked": true,
     "schema_version": 3,
     "solution": false,
     "task": false
    }
   },
   "source": [
    "Since our query is on count, we'll have to obtain the count of each unique value of our feature.\n",
    "\n",
    "**Question 4.3.** Define a variable called that holds the count of each unique value of your feature. *Hint: there's a method that does this for us!*"
   ]
  },
  {
   "cell_type": "code",
   "execution_count": 9,
   "metadata": {
    "deletable": false,
    "id": "jKFTjPdPhqnb",
    "nbgrader": {
     "cell_type": "code",
     "checksum": "c1eed849003f495f73beb56289124a64",
     "grade": true,
     "grade_id": "cell-6cb69d668685337b",
     "locked": false,
     "points": 5,
     "schema_version": 3,
     "solution": true,
     "task": false
    }
   },
   "outputs": [],
   "source": [
    "# YOUR CODE HERE\n",
    "unqiue_value_count = df[\"age\"].value_counts()"
   ]
  },
  {
   "cell_type": "markdown",
   "metadata": {
    "deletable": false,
    "editable": false,
    "id": "NYeKsT0dhqnc",
    "nbgrader": {
     "cell_type": "markdown",
     "checksum": "29de733f610e21a8610ad4b5949424f6",
     "grade": false,
     "grade_id": "cell-d4eb8e6344ac3d16",
     "locked": true,
     "schema_version": 3,
     "solution": false,
     "task": false
    }
   },
   "source": [
    "**Question 4.4.** Before we add noise, let's calculate some stats from your variable from 4.3. Calculate the mean, median, and count and name them `mean_count`, `median_count`, and `total_count` respectively."
   ]
  },
  {
   "cell_type": "code",
   "execution_count": 10,
   "metadata": {
    "deletable": false,
    "id": "PK9-W8_yhqnd",
    "nbgrader": {
     "cell_type": "code",
     "checksum": "c3b1ed05a6c2e19714047fcc829e51d5",
     "grade": true,
     "grade_id": "cell-8f858d34972474e3",
     "locked": false,
     "points": 3,
     "schema_version": 3,
     "solution": true,
     "task": false
    }
   },
   "outputs": [
    {
     "name": "stdout",
     "output_type": "stream",
     "text": [
      "Mean of true counts: 34.655072463768114\n",
      "Median of true counts: 31.0\n",
      "Total count of true records: 6900\n"
     ]
    }
   ],
   "source": [
    "# YOUR CODE HERE\n",
    "import statistics\n",
    "mean_count = statistics.mean(df[\"age\"])\n",
    "median_count = statistics.median(df[\"age\"])\n",
    "total_count = len(df[\"age\"])\n",
    "\n",
    "print(f\"Mean of true counts: {mean_count}\")\n",
    "print(f\"Median of true counts: {median_count}\")\n",
    "print(f\"Total count of true records: {total_count}\")"
   ]
  },
  {
   "cell_type": "markdown",
   "metadata": {
    "deletable": false,
    "editable": false,
    "id": "_gxN7lGEhqnd",
    "nbgrader": {
     "cell_type": "markdown",
     "checksum": "706b643c55baaeae1f065deb533fda43",
     "grade": false,
     "grade_id": "cell-d04a42ead80f7dd9",
     "locked": true,
     "schema_version": 3,
     "solution": false,
     "task": false
    }
   },
   "source": [
    "**Question 4.5.** Now we can start adding noise. Use your Laplace function and your variable from 4.3. to calculate a noisy representation of each value in your feature. Set your value of epsilon to 1 for now."
   ]
  },
  {
   "cell_type": "code",
   "execution_count": 11,
   "metadata": {
    "deletable": false,
    "id": "2O5Ist5zhqnd",
    "nbgrader": {
     "cell_type": "code",
     "checksum": "4bdf6ec29c5644ada946ca5f541e1588",
     "grade": true,
     "grade_id": "cell-34dd646d28e9db27",
     "locked": false,
     "points": 5,
     "schema_version": 3,
     "solution": true,
     "task": false
    }
   },
   "outputs": [],
   "source": [
    "# YOUR CODE HERE\n",
    "df['age'] = df['age'].astype(float)\n",
    "age_noisy = []\n",
    "for i in range(0, len(df[\"age\"])):\n",
    "    value = df.iloc[i][\"age\"]\n",
    "    count = unqiue_value_count[value]\n",
    "    age_noisy.append(add_laplace_noise(df.iloc[i][\"age\"], count, 1))\n",
    "df[\"age_noisy\"] = age_noisy"
   ]
  },
  {
   "cell_type": "markdown",
   "metadata": {
    "deletable": false,
    "editable": false,
    "id": "Dhedz-yVhqne",
    "nbgrader": {
     "cell_type": "markdown",
     "checksum": "90dcc2d26b82b5e04e7095e9d0d9552d",
     "grade": false,
     "grade_id": "cell-9e6925243c1347aa",
     "locked": true,
     "schema_version": 3,
     "solution": false,
     "task": false
    }
   },
   "source": [
    "**Question 4.6.** Now calculate the stats for your noisy values. Calculate the mean, median, and count and name them `mean_noisy_count`, `median_noisy_count`, and `total_noisy_count` respectively."
   ]
  },
  {
   "cell_type": "code",
   "execution_count": 13,
   "metadata": {
    "deletable": false,
    "id": "U94Fgwadhqnf",
    "nbgrader": {
     "cell_type": "code",
     "checksum": "f9734ed220b93dcfd8c159b369217a8b",
     "grade": true,
     "grade_id": "cell-b0ab0880d8389c51",
     "locked": false,
     "points": 3,
     "schema_version": 3,
     "solution": true,
     "task": false
    }
   },
   "outputs": [
    {
     "name": "stdout",
     "output_type": "stream",
     "text": [
      "Noisy mean of true counts: 26.600354413940735\n",
      "Noisy median of true counts: 41.24017792959074\n",
      "Total noisy count of true records: 6900\n"
     ]
    }
   ],
   "source": [
    "# YOUR CODE HERE\n",
    "import statistics\n",
    "mean_noisy_count = statistics.mean(df[\"age_noisy\"])\n",
    "median_noisy_count = statistics.median(df[\"age_noisy\"])\n",
    "total_noisy_count = len(df[\"age_noisy\"])\n",
    "\n",
    "\n",
    "print(f\"Noisy mean of true counts: {mean_noisy_count}\")\n",
    "print(f\"Noisy median of true counts: {median_noisy_count}\")\n",
    "print(f\"Total noisy count of true records: {total_noisy_count}\")"
   ]
  },
  {
   "cell_type": "markdown",
   "metadata": {
    "deletable": false,
    "editable": false,
    "id": "2NDTJNS0hqnf",
    "nbgrader": {
     "cell_type": "markdown",
     "checksum": "9d8a4b9c2dd7736a886e038a42ccaa4b",
     "grade": false,
     "grade_id": "cell-b986966aec384ba8",
     "locked": true,
     "schema_version": 3,
     "solution": false,
     "task": false
    }
   },
   "source": [
    "**Question 4.7.** Comment on the differences in aggregate statistics between the original and the noisy values. What can you say about the utility and privacy?  "
   ]
  },
  {
   "cell_type": "markdown",
   "metadata": {
    "deletable": false,
    "id": "NIFwdzYRhqnf",
    "nbgrader": {
     "cell_type": "markdown",
     "checksum": "d610a5e55733cf09e5c06b0946271ffb",
     "grade": true,
     "grade_id": "cell-33877cebebd188da",
     "locked": false,
     "points": 5,
     "schema_version": 3,
     "solution": true,
     "task": false
    }
   },
   "source": [
    "Answer: The mean of the noisy count and the true count are very similar, one is 36 and the other is 34. On the other hand, we can see that the median differs due to the noise added to the middle value. The median for true count is 31, whereas the median for the noisy count is 46."
   ]
  },
  {
   "cell_type": "markdown",
   "metadata": {
    "deletable": false,
    "editable": false,
    "id": "d6v7eVPahqng",
    "nbgrader": {
     "cell_type": "markdown",
     "checksum": "7f021a4eb6d6f96ebe23791a6bccc44d",
     "grade": false,
     "grade_id": "cell-da625dca70e546df",
     "locked": true,
     "schema_version": 3,
     "solution": false,
     "task": false
    }
   },
   "source": [
    "**Question 4.8.** Go back to question 4.5. and change the value of epsilon. Repeat this until you notice a pattern in your aggregate statistics. What happens as epsilon changes? What happens to the privacy and the accuracy?"
   ]
  },
  {
   "cell_type": "markdown",
   "metadata": {
    "deletable": false,
    "id": "nH_V5gG6hqng",
    "nbgrader": {
     "cell_type": "markdown",
     "checksum": "f08d8d365bf95eacb9c448e1b4f7aa6e",
     "grade": true,
     "grade_id": "cell-93c428f6d7fab324",
     "locked": false,
     "points": 8,
     "schema_version": 3,
     "solution": true,
     "task": false
    }
   },
   "source": [
    "Answer: As the epsilon changes, the mean and median of the noisy count gets closer to the true count. This means, an increase in the value of epsilon increases the accuracy; but decrease the privacy."
   ]
  },
  {
   "cell_type": "markdown",
   "metadata": {
    "deletable": false,
    "editable": false,
    "id": "q-8z-HhIhqnh",
    "nbgrader": {
     "cell_type": "markdown",
     "checksum": "13a772aa3ec189376a79b289b443c394",
     "grade": false,
     "grade_id": "cell-af46aacbedd8faa3",
     "locked": true,
     "schema_version": 3,
     "solution": false,
     "task": false
    }
   },
   "source": [
    "# Rubric\n",
    "\n",
    "| Question | Points|\n",
    "|----------|----------|\n",
    "| 1.1.   | 5   |\n",
    "| 1.2.    | 10   |\n",
    "| 2.1.    | 5   |\n",
    "| 3.1.   | 5   |\n",
    "| 3.2.    | 10  |\n",
    "| 3.3.  | 10   |\n",
    "| 3.4.    | 2   |\n",
    "| 3.5.   | 8   |\n",
    "| 3.6.   | 5   |\n",
    "| 3.7.   | 6   |\n",
    "| 3.8.   | 8   |\n",
    "| 4.1.   | 2   |\n",
    "| 4.2.    | 10  |\n",
    "| 4.3.  | 5   |\n",
    "| 4.4.    | 3   |\n",
    "| 4.5.   | 5   |\n",
    "| 4.6.   | 3   |\n",
    "| 4.7.   | 5   |\n",
    "| 4.8.   | 8   |\n",
    "| Total  | 115   |\n",
    "\n",
    "\n"
   ]
  }
 ],
 "metadata": {
  "colab": {
   "provenance": []
  },
  "kernelspec": {
   "display_name": "Python 3 (ipykernel)",
   "language": "python",
   "name": "python3"
  },
  "language_info": {
   "codemirror_mode": {
    "name": "ipython",
    "version": 3
   },
   "file_extension": ".py",
   "mimetype": "text/x-python",
   "name": "python",
   "nbconvert_exporter": "python",
   "pygments_lexer": "ipython3",
   "version": "3.9.6"
  }
 },
 "nbformat": 4,
 "nbformat_minor": 4
}
