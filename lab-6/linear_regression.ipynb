{
 "cells": [
  {
   "cell_type": "markdown",
   "id": "28363508-f510-4af0-9ee4-0c6c1d2652a7",
   "metadata": {
    "deletable": false,
    "editable": false,
    "nbgrader": {
     "cell_type": "markdown",
     "checksum": "52a699d5ffb0adfb989eb7cf8a151420",
     "grade": false,
     "grade_id": "cell-2dd6366b47c8d0f6",
     "locked": true,
     "schema_version": 3,
     "solution": false,
     "task": false
    }
   },
   "source": [
    "# Lab 6: Linear Regression"
   ]
  },
  {
   "cell_type": "markdown",
   "id": "b327ae5e-357e-4ea3-a947-3b6b908718c7",
   "metadata": {},
   "source": [
    "***\n",
    "- **FIRST name**: Muhammad Affan\n",
    "- **LAST name**: Nazir\n",
    "- **Student ID**: 1807593\n",
    "\n",
    "Leave blank if individual:\n",
    "- **Collaborator names**:\n",
    "- **Collaborator student IDs**:\n",
    "***"
   ]
  },
  {
   "cell_type": "markdown",
   "id": "41cf6373-016f-418b-a0d0-1c8cfa660d66",
   "metadata": {
    "deletable": false,
    "editable": false,
    "nbgrader": {
     "cell_type": "markdown",
     "checksum": "3862b94015c458a82da6d326c2866093",
     "grade": false,
     "grade_id": "cell-9ae026be34b39acb",
     "locked": true,
     "schema_version": 3,
     "solution": false,
     "task": false
    }
   },
   "source": [
    "In today's lab, you will learn:\n",
    "\n",
    "1.   The process of making predictions;\n",
    "2.   linear regression.\n",
    "\n",
    "For this lab, you'll need the dataset `family_heights.csv`.\n",
    "\n",
    "### Instructions\n",
    "<!-- **Deadline.**  This assignment is due at ****.  Please check the syllabus for late submissions. -->\n",
    "You are expected to write clear, detailed, and complete answers when analysing your data. Lack of this may result in point deductions.\n",
    "\n",
    "**Reminder.** You must submit your own work.  The collaboration policy for the assignments is Consultation Collaboration. You may verbally discuss concepts with your classmates, without exchanging written text, code, or detailed advice.  You must develop your own solution and submit your own work.  All sources of information used including books, websites, students you talked to, must be cited in the submission.  Please see the course FAQ document for details on this collaboration policy.  We will adhere to current Faculty of Science guidelines on dealing with suspected cases of plagiarism.\n",
    "\n",
    "You must use this notebook to complete your assignment. You will execute the questions in the notebook. The questions might ask for a short answer in text form or for you to write and execute a piece of code. Make sure you enter your answer in either case only in the cell provided. Do not use a different cell and do not create a new cell. Creating new cells for your code is not compatible with the auto-grading system we are using and thus your assignment will not get grading properly and you will lose marks for that question.\n",
    "\n",
    "Your submitted notebook should run on our local installation.  So if you are importing packages not listed in the notebook or using local data files not included in the assignment package, make sure the notebook is self-contained with a requirements.txt file or cells in the notebook itself to install the extra packages.  If we cannot run your notebook, you will lose 50% of the marks, and any additional marks that may be lost due to wrong answers.\n",
    "\n",
    "### Submission Instructions\n",
    "When you are done, you will submit your work from the notebook. Make sure to save your notebook before running it, and then submit on Canvas the notebook file with your work completed. Name your file with your **Student ID number** and the assignment number (ex: 1234567_L6.ipynb). Failure to do so will result in a zero!"
   ]
  },
  {
   "cell_type": "code",
   "execution_count": 4,
   "id": "c70e61d4-37ee-4a71-bedf-84aa25823f2e",
   "metadata": {
    "deletable": false,
    "editable": false,
    "nbgrader": {
     "cell_type": "code",
     "checksum": "9e436fe28eb2698f0a85bfd7537a4778",
     "grade": false,
     "grade_id": "cell-c36480541444f37f",
     "locked": true,
     "schema_version": 3,
     "solution": false,
     "task": false
    }
   },
   "outputs": [],
   "source": [
    "#run this cell\n",
    "import numpy as np\n",
    "import pandas as pd\n",
    "import matplotlib.pyplot as plt"
   ]
  },
  {
   "cell_type": "markdown",
   "id": "ddf94eb3-f0ba-4666-87d5-76ecea1aa000",
   "metadata": {
    "deletable": false,
    "editable": false,
    "nbgrader": {
     "cell_type": "markdown",
     "checksum": "2d8bb84b9074f3db45ee8e5a9817052a",
     "grade": false,
     "grade_id": "cell-43621d90140949d1",
     "locked": true,
     "schema_version": 3,
     "solution": false,
     "task": false
    }
   },
   "source": [
    "# 1. Predictions\n",
    "\n",
    "Predictions are an important part of data science because they allow us to make educated guesses based on incomplete data. These guesses are usually in the form of continuous or categorical values. The primary goal of building a predictive model is to make accurate and reliable forecasts based on historical data. "
   ]
  },
  {
   "cell_type": "markdown",
   "id": "b98adb6c-d03d-4e75-9ae5-ff6c10eed99b",
   "metadata": {
    "deletable": false,
    "editable": false,
    "nbgrader": {
     "cell_type": "markdown",
     "checksum": "798287d5a1f11a64c0357bd63ae32172",
     "grade": false,
     "grade_id": "cell-5d54cf282a267c58",
     "locked": true,
     "schema_version": 3,
     "solution": false,
     "task": false
    }
   },
   "source": [
    "**Question 1.1.** Load the dataset `family_heights.csv` and assign it to the name `heights`. This dataset contains data on the midparent height and child’s height (all in inches) for a population of 934 adult “children”. The midpoint height is an average of the heights of the two parents."
   ]
  },
  {
   "cell_type": "code",
   "execution_count": 6,
   "id": "298ba573-0682-4134-8534-f8bb94110650",
   "metadata": {
    "deletable": false,
    "nbgrader": {
     "cell_type": "code",
     "checksum": "b1430696102dedcbf3ff698ab5b7c431",
     "grade": false,
     "grade_id": "cell-befd147bc1746d66",
     "locked": false,
     "schema_version": 3,
     "solution": true,
     "task": false
    }
   },
   "outputs": [
    {
     "data": {
      "text/html": [
       "<div>\n",
       "<style scoped>\n",
       "    .dataframe tbody tr th:only-of-type {\n",
       "        vertical-align: middle;\n",
       "    }\n",
       "\n",
       "    .dataframe tbody tr th {\n",
       "        vertical-align: top;\n",
       "    }\n",
       "\n",
       "    .dataframe thead th {\n",
       "        text-align: right;\n",
       "    }\n",
       "</style>\n",
       "<table border=\"1\" class=\"dataframe\">\n",
       "  <thead>\n",
       "    <tr style=\"text-align: right;\">\n",
       "      <th></th>\n",
       "      <th>family</th>\n",
       "      <th>father</th>\n",
       "      <th>mother</th>\n",
       "      <th>midparentHeight</th>\n",
       "      <th>children</th>\n",
       "      <th>childNum</th>\n",
       "      <th>sex</th>\n",
       "      <th>childHeight</th>\n",
       "    </tr>\n",
       "  </thead>\n",
       "  <tbody>\n",
       "    <tr>\n",
       "      <th>0</th>\n",
       "      <td>1</td>\n",
       "      <td>78.5</td>\n",
       "      <td>67.0</td>\n",
       "      <td>75.43</td>\n",
       "      <td>4</td>\n",
       "      <td>1</td>\n",
       "      <td>male</td>\n",
       "      <td>73.2</td>\n",
       "    </tr>\n",
       "    <tr>\n",
       "      <th>1</th>\n",
       "      <td>1</td>\n",
       "      <td>78.5</td>\n",
       "      <td>67.0</td>\n",
       "      <td>75.43</td>\n",
       "      <td>4</td>\n",
       "      <td>2</td>\n",
       "      <td>female</td>\n",
       "      <td>69.2</td>\n",
       "    </tr>\n",
       "    <tr>\n",
       "      <th>2</th>\n",
       "      <td>1</td>\n",
       "      <td>78.5</td>\n",
       "      <td>67.0</td>\n",
       "      <td>75.43</td>\n",
       "      <td>4</td>\n",
       "      <td>3</td>\n",
       "      <td>female</td>\n",
       "      <td>69.0</td>\n",
       "    </tr>\n",
       "    <tr>\n",
       "      <th>3</th>\n",
       "      <td>1</td>\n",
       "      <td>78.5</td>\n",
       "      <td>67.0</td>\n",
       "      <td>75.43</td>\n",
       "      <td>4</td>\n",
       "      <td>4</td>\n",
       "      <td>female</td>\n",
       "      <td>69.0</td>\n",
       "    </tr>\n",
       "    <tr>\n",
       "      <th>4</th>\n",
       "      <td>2</td>\n",
       "      <td>75.5</td>\n",
       "      <td>66.5</td>\n",
       "      <td>73.66</td>\n",
       "      <td>4</td>\n",
       "      <td>1</td>\n",
       "      <td>male</td>\n",
       "      <td>73.5</td>\n",
       "    </tr>\n",
       "    <tr>\n",
       "      <th>...</th>\n",
       "      <td>...</td>\n",
       "      <td>...</td>\n",
       "      <td>...</td>\n",
       "      <td>...</td>\n",
       "      <td>...</td>\n",
       "      <td>...</td>\n",
       "      <td>...</td>\n",
       "      <td>...</td>\n",
       "    </tr>\n",
       "    <tr>\n",
       "      <th>929</th>\n",
       "      <td>203</td>\n",
       "      <td>62.0</td>\n",
       "      <td>66.0</td>\n",
       "      <td>66.64</td>\n",
       "      <td>3</td>\n",
       "      <td>1</td>\n",
       "      <td>male</td>\n",
       "      <td>64.0</td>\n",
       "    </tr>\n",
       "    <tr>\n",
       "      <th>930</th>\n",
       "      <td>203</td>\n",
       "      <td>62.0</td>\n",
       "      <td>66.0</td>\n",
       "      <td>66.64</td>\n",
       "      <td>3</td>\n",
       "      <td>2</td>\n",
       "      <td>female</td>\n",
       "      <td>62.0</td>\n",
       "    </tr>\n",
       "    <tr>\n",
       "      <th>931</th>\n",
       "      <td>203</td>\n",
       "      <td>62.0</td>\n",
       "      <td>66.0</td>\n",
       "      <td>66.64</td>\n",
       "      <td>3</td>\n",
       "      <td>3</td>\n",
       "      <td>female</td>\n",
       "      <td>61.0</td>\n",
       "    </tr>\n",
       "    <tr>\n",
       "      <th>932</th>\n",
       "      <td>204</td>\n",
       "      <td>62.5</td>\n",
       "      <td>63.0</td>\n",
       "      <td>65.27</td>\n",
       "      <td>2</td>\n",
       "      <td>1</td>\n",
       "      <td>male</td>\n",
       "      <td>66.5</td>\n",
       "    </tr>\n",
       "    <tr>\n",
       "      <th>933</th>\n",
       "      <td>204</td>\n",
       "      <td>62.5</td>\n",
       "      <td>63.0</td>\n",
       "      <td>65.27</td>\n",
       "      <td>2</td>\n",
       "      <td>2</td>\n",
       "      <td>female</td>\n",
       "      <td>57.0</td>\n",
       "    </tr>\n",
       "  </tbody>\n",
       "</table>\n",
       "<p>934 rows × 8 columns</p>\n",
       "</div>"
      ],
      "text/plain": [
       "    family  father  mother  midparentHeight  children  childNum     sex  \\\n",
       "0        1    78.5    67.0            75.43         4         1    male   \n",
       "1        1    78.5    67.0            75.43         4         2  female   \n",
       "2        1    78.5    67.0            75.43         4         3  female   \n",
       "3        1    78.5    67.0            75.43         4         4  female   \n",
       "4        2    75.5    66.5            73.66         4         1    male   \n",
       "..     ...     ...     ...              ...       ...       ...     ...   \n",
       "929    203    62.0    66.0            66.64         3         1    male   \n",
       "930    203    62.0    66.0            66.64         3         2  female   \n",
       "931    203    62.0    66.0            66.64         3         3  female   \n",
       "932    204    62.5    63.0            65.27         2         1    male   \n",
       "933    204    62.5    63.0            65.27         2         2  female   \n",
       "\n",
       "     childHeight  \n",
       "0           73.2  \n",
       "1           69.2  \n",
       "2           69.0  \n",
       "3           69.0  \n",
       "4           73.5  \n",
       "..           ...  \n",
       "929         64.0  \n",
       "930         62.0  \n",
       "931         61.0  \n",
       "932         66.5  \n",
       "933         57.0  \n",
       "\n",
       "[934 rows x 8 columns]"
      ]
     },
     "execution_count": 6,
     "metadata": {},
     "output_type": "execute_result"
    }
   ],
   "source": [
    "# YOUR CODE HERE\n",
    "heights = pd.read_csv(\"./family_heights.csv\")\n",
    "\n",
    "\n",
    "heights"
   ]
  },
  {
   "cell_type": "code",
   "execution_count": null,
   "id": "0813a1da-9768-45e6-8fd4-0e0274571cde",
   "metadata": {
    "deletable": false,
    "editable": false,
    "nbgrader": {
     "cell_type": "code",
     "checksum": "17c8d405aca692ec2abedfb1de57d4ae",
     "grade": true,
     "grade_id": "cell-d9782ba6c80e4ba5",
     "locked": true,
     "points": 2,
     "schema_version": 3,
     "solution": false,
     "task": false
    }
   },
   "outputs": [],
   "source": [
    "# TEST CELL: do not delete!"
   ]
  },
  {
   "cell_type": "markdown",
   "id": "f94a6353-56ed-4783-9ba8-eeb13a78b9f4",
   "metadata": {
    "deletable": false,
    "editable": false,
    "nbgrader": {
     "cell_type": "markdown",
     "checksum": "5ad3a17a8eeff9c7902f890135e9498c",
     "grade": false,
     "grade_id": "cell-e9489963c094a6f3",
     "locked": true,
     "schema_version": 3,
     "solution": false,
     "task": false
    }
   },
   "source": [
    "**Question 1.2.** Use matplot's `scatter` function to make a scatter plot where `midparentHeight` is the x-axis and `childHeight` is the y-axis. Make sure to include the appropriate labels! "
   ]
  },
  {
   "cell_type": "code",
   "execution_count": 11,
   "id": "2b1a2793-13cb-46dd-839c-44b6ea2d2387",
   "metadata": {
    "deletable": false,
    "nbgrader": {
     "cell_type": "code",
     "checksum": "353998d22434a3f3008b954d28b26294",
     "grade": true,
     "grade_id": "cell-89b994396aed4b6b",
     "locked": false,
     "points": 10,
     "schema_version": 3,
     "solution": true,
     "task": false
    }
   },
   "outputs": [
    {
     "data": {
      "text/plain": [
       "Text(0.5, 1.0, 'Child Height vs Mid-Parent Height')"
      ]
     },
     "execution_count": 11,
     "metadata": {},
     "output_type": "execute_result"
    },
    {
     "data": {
      "image/png": "[encoded data removed]",
      "text/plain": [
       "<Figure size 640x480 with 1 Axes>"
      ]
     },
     "metadata": {},
     "output_type": "display_data"
    }
   ],
   "source": [
    "# YOUR CODE HERE\n",
    "plt.scatter(heights[\"midparentHeight\"], heights[\"childHeight\"])\n",
    "plt.xlabel(\"Mid-Parent Height\")\n",
    "plt.ylabel(\"Child Height\")\n",
    "plt.title(\"Child Height vs Mid-Parent Height\")"
   ]
  },
  {
   "cell_type": "markdown",
   "id": "d3b12f56-828c-4c23-8db8-c5d7817096f9",
   "metadata": {
    "deletable": false,
    "editable": false,
    "nbgrader": {
     "cell_type": "markdown",
     "checksum": "666d1fe974bb42c3e074db719a4be4bd",
     "grade": false,
     "grade_id": "cell-200b5693fe10502e",
     "locked": true,
     "schema_version": 3,
     "solution": false,
     "task": false
    }
   },
   "source": [
    "The reason for studying this data is to be able to predict the adult height of a child born to parents who are similar to those in the dataset. Suppose there's a new couple that wants to predict their child's height. Let the average height of the couple be 70 inches. How would we make a reasonable prediction? </p>\n",
    "\n",
    "One approach would be to make our prediction based on the parent average around a height of 70 inches, say within .5 inches. The prediction equals the average child's height calculated from those points alone."
   ]
  },
  {
   "cell_type": "markdown",
   "id": "3c3ca38f-ec2e-414c-9ac8-ba54ff74bdce",
   "metadata": {
    "deletable": false,
    "editable": false,
    "nbgrader": {
     "cell_type": "markdown",
     "checksum": "b6289027cef7d64608e9615db3c39fac",
     "grade": false,
     "grade_id": "cell-36f954a8f1c701f9",
     "locked": true,
     "schema_version": 3,
     "solution": false,
     "task": false
    }
   },
   "source": [
    "**Question 1.3.** Find the average of the parent heights between 69.5 and 70.5 inches, rounded to four decimal points. Assign your answer to the name `close_to_70`."
   ]
  },
  {
   "cell_type": "code",
   "execution_count": 19,
   "id": "00353a19-3194-4196-a19b-74a8e106b8c1",
   "metadata": {
    "deletable": false,
    "nbgrader": {
     "cell_type": "code",
     "checksum": "36ffe40174be9f859959525316418841",
     "grade": false,
     "grade_id": "cell-4cc0fe7b7dbaac3e",
     "locked": false,
     "schema_version": 3,
     "solution": true,
     "task": false
    }
   },
   "outputs": [
    {
     "data": {
      "text/plain": [
       "69.98586425339367"
      ]
     },
     "execution_count": 19,
     "metadata": {},
     "output_type": "execute_result"
    }
   ],
   "source": [
    "# YOUR CODE HERE\n",
    "close_to_70 = heights[ (heights[\"midparentHeight\"] >= 69.5) & (heights[\"midparentHeight\"] <= 70.5)]\n",
    "close_to_70 = close_to_70[\"midparentHeight\"].mean()\n",
    "\n",
    "close_to_70"
   ]
  },
  {
   "cell_type": "code",
   "execution_count": 20,
   "id": "1961634e-48f6-4157-b6f1-0a43fdd9d960",
   "metadata": {
    "deletable": false,
    "editable": false,
    "nbgrader": {
     "cell_type": "code",
     "checksum": "8ec3b2ecfebbaed226eabe54937cf5c5",
     "grade": true,
     "grade_id": "cell-b9aca2d89736367c",
     "locked": true,
     "points": 10,
     "schema_version": 3,
     "solution": false,
     "task": false
    }
   },
   "outputs": [],
   "source": [
    "# TEST CELL: do not delete!"
   ]
  },
  {
   "cell_type": "markdown",
   "id": "ba00a008-9039-480e-b049-f34c7ad8f08c",
   "metadata": {
    "deletable": false,
    "editable": false,
    "nbgrader": {
     "cell_type": "markdown",
     "checksum": "39de407322adb05e1d1f76f6b42b7699",
     "grade": false,
     "grade_id": "cell-16d9e4e0d3856198",
     "locked": true,
     "schema_version": 3,
     "solution": false,
     "task": false
    }
   },
   "source": [
    "Run the cell below. The red lines show us the data points considered in our calculation above. The gold point represents our predicted child height based on the parent's height. "
   ]
  },
  {
   "cell_type": "code",
   "execution_count": 34,
   "id": "8887e793-76a2-4f2d-a02c-9aac459df192",
   "metadata": {
    "deletable": false,
    "editable": false,
    "nbgrader": {
     "cell_type": "code",
     "checksum": "b4ba956ecd8ca6e0e9b4a6d18a19f0c1",
     "grade": false,
     "grade_id": "cell-9a7da97b2d6070ea",
     "locked": true,
     "schema_version": 3,
     "solution": false,
     "task": false
    }
   },
   "outputs": [
    {
     "ename": "NameError",
     "evalue": "name 'midParentHeight' is not defined",
     "output_type": "error",
     "traceback": [
      "\u001b[1;31m---------------------------------------------------------------------------\u001b[0m",
      "\u001b[1;31mNameError\u001b[0m                                 Traceback (most recent call last)",
      "Cell \u001b[1;32mIn[34], line 1\u001b[0m\n\u001b[1;32m----> 1\u001b[0m plt\u001b[38;5;241m.\u001b[39mscatter(\u001b[43mmidParentHeight\u001b[49m, child, s \u001b[38;5;241m=\u001b[39m \u001b[38;5;241m10\u001b[39m)\n\u001b[0;32m      2\u001b[0m plt\u001b[38;5;241m.\u001b[39mxlabel(\u001b[38;5;124m'\u001b[39m\u001b[38;5;124mParent Average\u001b[39m\u001b[38;5;124m'\u001b[39m)\n\u001b[0;32m      3\u001b[0m plt\u001b[38;5;241m.\u001b[39mylabel(\u001b[38;5;124m'\u001b[39m\u001b[38;5;124mChild\u001b[39m\u001b[38;5;124m'\u001b[39m)\n",
      "\u001b[1;31mNameError\u001b[0m: name 'midParentHeight' is not defined"
     ]
    }
   ],
   "source": [
    "plt.scatter(midParentHeight, child, s = 10)\n",
    "plt.xlabel('Parent Average')\n",
    "plt.ylabel('Child')\n",
    "\n",
    "plt.plot([69.5, 69.5], [50, 85], color='red', lw=2)  # plots red vertical lines\n",
    "plt.plot([70.5, 70.5], [50, 85], color='red', lw=2)\n",
    "plt.scatter(70, close_to_70, color='gold', s=40);  # plots gold point"
   ]
  },
  {
   "cell_type": "markdown",
   "id": "8c87d47e-6d99-4701-8ef4-384ac2a46847",
   "metadata": {
    "deletable": false,
    "editable": false,
    "nbgrader": {
     "cell_type": "markdown",
     "checksum": "a244fc3d2265f63fcf5bf0420f578889",
     "grade": false,
     "grade_id": "cell-abac1cd46766e22d",
     "locked": true,
     "schema_version": 3,
     "solution": false,
     "task": false
    }
   },
   "source": [
    "Instead of repeating these steps for each point we'd like to predict, we can implement a function instead!"
   ]
  },
  {
   "cell_type": "markdown",
   "id": "242d0e5d-10b9-43ec-91c0-7c431248e00b",
   "metadata": {
    "deletable": false,
    "editable": false,
    "nbgrader": {
     "cell_type": "markdown",
     "checksum": "2e2b0ce07ca85a82028a6d7f980f2b7e",
     "grade": false,
     "grade_id": "cell-cc0eb260186fb1c3",
     "locked": true,
     "schema_version": 3,
     "solution": false,
     "task": false
    }
   },
   "source": [
    "**Question 1.4.** Implement a function called `predict_child` whose only argument is the average height of the parents. The function should return the predicted height of the child, rounded to four decimal points."
   ]
  },
  {
   "cell_type": "code",
   "execution_count": 76,
   "id": "2b5476d1-8736-4e90-8528-48923ff082c9",
   "metadata": {
    "deletable": false,
    "nbgrader": {
     "cell_type": "code",
     "checksum": "2e375861e9993f632f84bd70c2638f2a",
     "grade": false,
     "grade_id": "cell-e7eb587ecc865daa",
     "locked": false,
     "schema_version": 3,
     "solution": true,
     "task": false
    }
   },
   "outputs": [
    {
     "data": {
      "text/plain": [
       "67.2729"
      ]
     },
     "execution_count": 76,
     "metadata": {},
     "output_type": "execute_result"
    }
   ],
   "source": [
    "# YOUR CODE HERE\n",
    "def predict_child(avg):\n",
    "    lower_bound = avg - 0.5\n",
    "    upper_bound = avg + 0.5\n",
    "    \n",
    "    filtered_children = heights[\n",
    "        (heights['midparentHeight'] >= lower_bound) &\n",
    "        (heights['midparentHeight'] <= upper_bound)\n",
    "    ]['childHeight']\n",
    "    predicted_height = round(filtered_children.mean(), 4)\n",
    "    return predicted_height\n",
    "predict_child(70)"
   ]
  },
  {
   "cell_type": "code",
   "execution_count": 78,
   "id": "c52dff12-12a5-4fb9-84ea-66c520374b2a",
   "metadata": {
    "deletable": false,
    "editable": false,
    "nbgrader": {
     "cell_type": "code",
     "checksum": "91b6d17b865215e6c6f008eaf8b0e1ef",
     "grade": true,
     "grade_id": "cell-ffd5859e1d7ad753",
     "locked": true,
     "points": 10,
     "schema_version": 3,
     "solution": false,
     "task": false
    }
   },
   "outputs": [],
   "source": [
    "# TEST CELL: do not delete!\n",
    "### VISIBLE TESTS\n",
    "assert(predict_child(70) == 67.2729)"
   ]
  },
  {
   "cell_type": "markdown",
   "id": "e8371421-c849-470d-a649-8f0eea63c14d",
   "metadata": {
    "deletable": false,
    "editable": false,
    "nbgrader": {
     "cell_type": "markdown",
     "checksum": "1e1be077dc744d4e693e7a516aeb0ba0",
     "grade": false,
     "grade_id": "cell-af4a588c0318f491",
     "locked": true,
     "schema_version": 3,
     "solution": false,
     "task": false
    }
   },
   "source": [
    "We can get a sense of how good our predictions are by comparing the predictions with the data we already have. Let's use our function defined above to calculate the predicted child height of each average couple height."
   ]
  },
  {
   "cell_type": "markdown",
   "id": "52deb8f3-0633-4403-aa8a-38bfd4c1633b",
   "metadata": {
    "deletable": false,
    "editable": false,
    "nbgrader": {
     "cell_type": "markdown",
     "checksum": "32ef6e8a29626bddbb579430508c1512",
     "grade": false,
     "grade_id": "cell-bbd4392af62d2976",
     "locked": true,
     "schema_version": 3,
     "solution": false,
     "task": false
    }
   },
   "source": [
    "**Question 1.5.** Write a `for` loop that goes through each average parent height in `heights` and uses the `child_predictions` function to calculate the child's height. Append each answer to the array `child_predictions`."
   ]
  },
  {
   "cell_type": "code",
   "execution_count": 85,
   "id": "db846e20-e3a6-4888-8d20-31e50d130ce3",
   "metadata": {
    "deletable": false,
    "nbgrader": {
     "cell_type": "code",
     "checksum": "fe52ae5282ff54664d2ee01492e78a32",
     "grade": false,
     "grade_id": "cell-8719809a5cb6218c",
     "locked": false,
     "schema_version": 3,
     "solution": true,
     "task": false
    }
   },
   "outputs": [
    {
     "data": {
      "text/html": [
       "<div>\n",
       "<style scoped>\n",
       "    .dataframe tbody tr th:only-of-type {\n",
       "        vertical-align: middle;\n",
       "    }\n",
       "\n",
       "    .dataframe tbody tr th {\n",
       "        vertical-align: top;\n",
       "    }\n",
       "\n",
       "    .dataframe thead th {\n",
       "        text-align: right;\n",
       "    }\n",
       "</style>\n",
       "<table border=\"1\" class=\"dataframe\">\n",
       "  <thead>\n",
       "    <tr style=\"text-align: right;\">\n",
       "      <th></th>\n",
       "      <th>family</th>\n",
       "      <th>father</th>\n",
       "      <th>mother</th>\n",
       "      <th>midparentHeight</th>\n",
       "      <th>children</th>\n",
       "      <th>childNum</th>\n",
       "      <th>sex</th>\n",
       "      <th>childHeight</th>\n",
       "      <th>Predictions</th>\n",
       "    </tr>\n",
       "  </thead>\n",
       "  <tbody>\n",
       "    <tr>\n",
       "      <th>0</th>\n",
       "      <td>1</td>\n",
       "      <td>78.5</td>\n",
       "      <td>67.0</td>\n",
       "      <td>75.43</td>\n",
       "      <td>4</td>\n",
       "      <td>1</td>\n",
       "      <td>male</td>\n",
       "      <td>73.2</td>\n",
       "      <td>70.1000</td>\n",
       "    </tr>\n",
       "    <tr>\n",
       "      <th>1</th>\n",
       "      <td>1</td>\n",
       "      <td>78.5</td>\n",
       "      <td>67.0</td>\n",
       "      <td>75.43</td>\n",
       "      <td>4</td>\n",
       "      <td>2</td>\n",
       "      <td>female</td>\n",
       "      <td>69.2</td>\n",
       "      <td>70.1000</td>\n",
       "    </tr>\n",
       "    <tr>\n",
       "      <th>2</th>\n",
       "      <td>1</td>\n",
       "      <td>78.5</td>\n",
       "      <td>67.0</td>\n",
       "      <td>75.43</td>\n",
       "      <td>4</td>\n",
       "      <td>3</td>\n",
       "      <td>female</td>\n",
       "      <td>69.0</td>\n",
       "      <td>70.1000</td>\n",
       "    </tr>\n",
       "    <tr>\n",
       "      <th>3</th>\n",
       "      <td>1</td>\n",
       "      <td>78.5</td>\n",
       "      <td>67.0</td>\n",
       "      <td>75.43</td>\n",
       "      <td>4</td>\n",
       "      <td>4</td>\n",
       "      <td>female</td>\n",
       "      <td>69.0</td>\n",
       "      <td>70.1000</td>\n",
       "    </tr>\n",
       "    <tr>\n",
       "      <th>4</th>\n",
       "      <td>2</td>\n",
       "      <td>75.5</td>\n",
       "      <td>66.5</td>\n",
       "      <td>73.66</td>\n",
       "      <td>4</td>\n",
       "      <td>1</td>\n",
       "      <td>male</td>\n",
       "      <td>73.5</td>\n",
       "      <td>70.4158</td>\n",
       "    </tr>\n",
       "    <tr>\n",
       "      <th>...</th>\n",
       "      <td>...</td>\n",
       "      <td>...</td>\n",
       "      <td>...</td>\n",
       "      <td>...</td>\n",
       "      <td>...</td>\n",
       "      <td>...</td>\n",
       "      <td>...</td>\n",
       "      <td>...</td>\n",
       "      <td>...</td>\n",
       "    </tr>\n",
       "    <tr>\n",
       "      <th>929</th>\n",
       "      <td>203</td>\n",
       "      <td>62.0</td>\n",
       "      <td>66.0</td>\n",
       "      <td>66.64</td>\n",
       "      <td>3</td>\n",
       "      <td>1</td>\n",
       "      <td>male</td>\n",
       "      <td>64.0</td>\n",
       "      <td>65.1566</td>\n",
       "    </tr>\n",
       "    <tr>\n",
       "      <th>930</th>\n",
       "      <td>203</td>\n",
       "      <td>62.0</td>\n",
       "      <td>66.0</td>\n",
       "      <td>66.64</td>\n",
       "      <td>3</td>\n",
       "      <td>2</td>\n",
       "      <td>female</td>\n",
       "      <td>62.0</td>\n",
       "      <td>65.1566</td>\n",
       "    </tr>\n",
       "    <tr>\n",
       "      <th>931</th>\n",
       "      <td>203</td>\n",
       "      <td>62.0</td>\n",
       "      <td>66.0</td>\n",
       "      <td>66.64</td>\n",
       "      <td>3</td>\n",
       "      <td>3</td>\n",
       "      <td>female</td>\n",
       "      <td>61.0</td>\n",
       "      <td>65.1566</td>\n",
       "    </tr>\n",
       "    <tr>\n",
       "      <th>932</th>\n",
       "      <td>204</td>\n",
       "      <td>62.5</td>\n",
       "      <td>63.0</td>\n",
       "      <td>65.27</td>\n",
       "      <td>2</td>\n",
       "      <td>1</td>\n",
       "      <td>male</td>\n",
       "      <td>66.5</td>\n",
       "      <td>64.2296</td>\n",
       "    </tr>\n",
       "    <tr>\n",
       "      <th>933</th>\n",
       "      <td>204</td>\n",
       "      <td>62.5</td>\n",
       "      <td>63.0</td>\n",
       "      <td>65.27</td>\n",
       "      <td>2</td>\n",
       "      <td>2</td>\n",
       "      <td>female</td>\n",
       "      <td>57.0</td>\n",
       "      <td>64.2296</td>\n",
       "    </tr>\n",
       "  </tbody>\n",
       "</table>\n",
       "<p>934 rows × 9 columns</p>\n",
       "</div>"
      ],
      "text/plain": [
       "    family  father  mother  midparentHeight  children  childNum     sex  \\\n",
       "0        1    78.5    67.0            75.43         4         1    male   \n",
       "1        1    78.5    67.0            75.43         4         2  female   \n",
       "2        1    78.5    67.0            75.43         4         3  female   \n",
       "3        1    78.5    67.0            75.43         4         4  female   \n",
       "4        2    75.5    66.5            73.66         4         1    male   \n",
       "..     ...     ...     ...              ...       ...       ...     ...   \n",
       "929    203    62.0    66.0            66.64         3         1    male   \n",
       "930    203    62.0    66.0            66.64         3         2  female   \n",
       "931    203    62.0    66.0            66.64         3         3  female   \n",
       "932    204    62.5    63.0            65.27         2         1    male   \n",
       "933    204    62.5    63.0            65.27         2         2  female   \n",
       "\n",
       "     childHeight  Predictions  \n",
       "0           73.2      70.1000  \n",
       "1           69.2      70.1000  \n",
       "2           69.0      70.1000  \n",
       "3           69.0      70.1000  \n",
       "4           73.5      70.4158  \n",
       "..           ...          ...  \n",
       "929         64.0      65.1566  \n",
       "930         62.0      65.1566  \n",
       "931         61.0      65.1566  \n",
       "932         66.5      64.2296  \n",
       "933         57.0      64.2296  \n",
       "\n",
       "[934 rows x 9 columns]"
      ]
     },
     "execution_count": 85,
     "metadata": {},
     "output_type": "execute_result"
    }
   ],
   "source": [
    "child_predictions = []\n",
    "\n",
    "# YOUR CODE HERE\n",
    "for i in heights[\"midparentHeight\"]:\n",
    "    child_predictions.append(predict_child(i))\n",
    "\n",
    "# the code below makes a copy of heights and inserts the Predictions column\n",
    "height_and_prediction = heights.copy()\n",
    "height_and_prediction.insert(8, \"Predictions\", child_predictions, True)\n",
    "height_and_prediction"
   ]
  },
  {
   "cell_type": "code",
   "execution_count": null,
   "id": "fd9441dd-6b9a-4de7-a73c-62e14fda96d0",
   "metadata": {
    "deletable": false,
    "editable": false,
    "nbgrader": {
     "cell_type": "code",
     "checksum": "620d0bacaea1284b1c948d1c52a38f2a",
     "grade": true,
     "grade_id": "cell-1a26fed518da4288",
     "locked": true,
     "points": 5,
     "schema_version": 3,
     "solution": false,
     "task": false
    }
   },
   "outputs": [],
   "source": [
    "# TEST CELL: do not delete!"
   ]
  },
  {
   "cell_type": "markdown",
   "id": "217b4cea-2759-489d-80f0-6e6ed5322356",
   "metadata": {
    "deletable": false,
    "editable": false,
    "nbgrader": {
     "cell_type": "markdown",
     "checksum": "5331c192453fd0c29721c36fbd7fca5c",
     "grade": false,
     "grade_id": "cell-4fa7c200de110a93",
     "locked": true,
     "schema_version": 3,
     "solution": false,
     "task": false
    }
   },
   "source": [
    "To compare two sets of data, we can scatter two plots on the same set of axes *as long as the x-axis is the same for both datasets*. "
   ]
  },
  {
   "cell_type": "markdown",
   "id": "cdfe970b-ddff-4d89-bfdd-b444b12d0afe",
   "metadata": {
    "deletable": false,
    "editable": false,
    "nbgrader": {
     "cell_type": "markdown",
     "checksum": "03aaf493d5381b1d3a7f6162ede91c5f",
     "grade": false,
     "grade_id": "cell-2a0dbaede447360f",
     "locked": true,
     "schema_version": 3,
     "solution": false,
     "task": false
    }
   },
   "source": [
    "**Question 1.6.** Scatter the parent average data like you did above, then plot the `Predictions` data that you found. Make sure that both x-axes are the same and include the appropriate labels!"
   ]
  },
  {
   "cell_type": "code",
   "execution_count": 92,
   "id": "bb1c6475-6743-4eca-90cc-c837df9c3211",
   "metadata": {
    "deletable": false,
    "nbgrader": {
     "cell_type": "code",
     "checksum": "25600d999ccb537030f69dfb3d12a15f",
     "grade": true,
     "grade_id": "cell-f06596ecae9203ec",
     "locked": false,
     "points": 15,
     "schema_version": 3,
     "solution": true,
     "task": false
    }
   },
   "outputs": [
    {
     "data": {
      "image/png": "[encoded data removed]",
      "text/plain": [
       "<Figure size 640x480 with 1 Axes>"
      ]
     },
     "metadata": {},
     "output_type": "display_data"
    },
    {
     "data": {
      "image/png": "[encoded data removed]",
      "text/plain": [
       "<Figure size 640x480 with 1 Axes>"
      ]
     },
     "metadata": {},
     "output_type": "display_data"
    }
   ],
   "source": [
    "# YOUR CODE HERE\n",
    "plt.scatter(height_and_prediction[\"midparentHeight\"], height_and_prediction[\"childHeight\"])\n",
    "plt.xlabel(\"Mid-Parent Height\")\n",
    "plt.ylabel(\"Child Height\")\n",
    "plt.title(\"Child Height vs Mid-Parent Height\")\n",
    "plt.show()\n",
    "\n",
    "\n",
    "plt.scatter(height_and_prediction[\"midparentHeight\"], height_and_prediction[\"Predictions\"])\n",
    "plt.xlabel(\"Mid-Parent Height\")\n",
    "plt.ylabel(\"Predicted Child Height\")\n",
    "plt.title(\"Predicted Child Height vs Mid-Parent Height\")\n",
    "\n",
    "plt.show()"
   ]
  },
  {
   "cell_type": "markdown",
   "id": "9fe88c86-40f9-427b-9a8b-1b28279d4037",
   "metadata": {
    "deletable": false,
    "editable": false,
    "nbgrader": {
     "cell_type": "markdown",
     "checksum": "04f51cb69791d54cfc5b536e2a3abb95",
     "grade": false,
     "grade_id": "cell-ff2c0c62638305af",
     "locked": true,
     "schema_version": 3,
     "solution": false,
     "task": false
    }
   },
   "source": [
    "The graph of predictions is called a *graph of averages* because each dot is the average of a vertical strip (like we did in question 1.3.). Notice how the graph of averages roughly follows a straight line. This line is called the *regression line* and is a common method for making predictions."
   ]
  },
  {
   "cell_type": "markdown",
   "id": "d3bf33e8-4111-4d83-9a2c-bbb6cd0d30b3",
   "metadata": {
    "deletable": false,
    "editable": false,
    "nbgrader": {
     "cell_type": "markdown",
     "checksum": "cdbe4c597af4b8e7ee3e3f7493ac75c7",
     "grade": false,
     "grade_id": "cell-2bbbfd686e77fa47",
     "locked": true,
     "schema_version": 3,
     "solution": false,
     "task": false
    }
   },
   "source": [
    "# 2. Regression Models"
   ]
  },
  {
   "cell_type": "markdown",
   "id": "2824a01b-a0ed-4322-9c7c-155decdcb22e",
   "metadata": {
    "deletable": false,
    "editable": false,
    "nbgrader": {
     "cell_type": "markdown",
     "checksum": "f5a8123a09522a5728a11a2ea310dc80",
     "grade": false,
     "grade_id": "cell-eb178d5b94cd2494",
     "locked": true,
     "schema_version": 3,
     "solution": false,
     "task": false
    }
   },
   "source": [
    "You may recall from you stats classes the correlation coefficient, $r$, and how it's used to quantify the linear relationship between two variables. It turns out that  $r$ also helps us identify the straight line about which our datapoints are clustered, making useful for linear regression models. "
   ]
  },
  {
   "cell_type": "markdown",
   "id": "7d6adfd0-22cc-4717-b29c-481c4dd19d8c",
   "metadata": {
    "deletable": false,
    "editable": false,
    "nbgrader": {
     "cell_type": "markdown",
     "checksum": "6fda826cd109f050029540a64858fbdc",
     "grade": false,
     "grade_id": "cell-117b1eaafac37398",
     "locked": true,
     "schema_version": 3,
     "solution": false,
     "task": false
    }
   },
   "source": [
    "**Question 2.1.** Use the `corrcoef` function to calculate the correlation coefficient between the predicted data above and the average parent height. Assign your answer to the name `correlation_coefficient`."
   ]
  },
  {
   "cell_type": "code",
   "execution_count": 96,
   "id": "1ce2d719-a305-4fd6-9bb4-4f7875f95d10",
   "metadata": {
    "deletable": false,
    "nbgrader": {
     "cell_type": "code",
     "checksum": "c2ba697236e7697d8f95db87bc82cbfc",
     "grade": false,
     "grade_id": "cell-b4cd34a12549c83a",
     "locked": false,
     "schema_version": 3,
     "solution": true,
     "task": false
    }
   },
   "outputs": [],
   "source": [
    "# YOUR CODE HERE\n",
    "correlation_coefficient = np.corrcoef(height_and_prediction['midparentHeight'], height_and_prediction['Predictions'])"
   ]
  },
  {
   "cell_type": "code",
   "execution_count": null,
   "id": "832d234b-979d-4871-b316-246052da8d1a",
   "metadata": {
    "deletable": false,
    "editable": false,
    "nbgrader": {
     "cell_type": "code",
     "checksum": "901ea8d6ea0cdbc948b2e5723f74682d",
     "grade": true,
     "grade_id": "cell-1f1ac502a1bb4681",
     "locked": true,
     "points": 5,
     "schema_version": 3,
     "solution": false,
     "task": false
    }
   },
   "outputs": [],
   "source": [
    "# TEST CELL: do not delete!"
   ]
  },
  {
   "cell_type": "markdown",
   "id": "a80e1889-e24b-40da-9b14-3b1639158882",
   "metadata": {
    "deletable": false,
    "editable": false,
    "nbgrader": {
     "cell_type": "markdown",
     "checksum": "3da710406c6603c686a254094dedf74d",
     "grade": false,
     "grade_id": "cell-df979720afbbc983",
     "locked": true,
     "schema_version": 3,
     "solution": false,
     "task": false
    }
   },
   "source": [
    "**Question 2.2.** What does this correlation coefficient tell us about the relationships in `Predictions`? Is the data i.i.d.?"
   ]
  },
  {
   "attachments": {},
   "cell_type": "markdown",
   "id": "253ba02f-30e0-495a-9624-dbe534a8e12e",
   "metadata": {},
   "source": [
    "The corealtion coefficent is 0.97321412. This suggests a strong linear relationship."
   ]
  },
  {
   "cell_type": "markdown",
   "id": "1c0fdcea-b401-48d9-95a0-8ee4f54958ad",
   "metadata": {
    "deletable": false,
    "editable": false,
    "nbgrader": {
     "cell_type": "markdown",
     "checksum": "3abc6e097e8938ea58e393992c712b33",
     "grade": false,
     "grade_id": "cell-5a9e33c987ad25ca",
     "locked": true,
     "schema_version": 3,
     "solution": false,
     "task": false
    }
   },
   "source": [
    "## 2.1. Standard Units\n",
    "\n",
    "Notice that when we calculate $r$, it doesn't use any units. This is because $r$ is based on *standard units*.  To calculate standard units, subtract the mean from the data point and divide by the standard deviation: $$Z = \\frac{X - \\mu}{\\sigma}$$"
   ]
  },
  {
   "cell_type": "markdown",
   "id": "9cfcb1ec-f878-4a1f-a651-a68b26ecf83f",
   "metadata": {
    "deletable": false,
    "editable": false,
    "nbgrader": {
     "cell_type": "markdown",
     "checksum": "1b6bb36cf0045ae51790ff43899a7559",
     "grade": false,
     "grade_id": "cell-2bac14ccf53cae68",
     "locked": true,
     "schema_version": 3,
     "solution": false,
     "task": false
    }
   },
   "source": [
    "**Question 2.1.1.** Create a function that converts an array of numbers to standard units. The function takes one argument which is the original array and returns the converted array. Then, create a new DataFrame that contains the converted data with the columns `MidParent SU` and `Child SU`.   Assign your new DataFrame to `heights_SU`."
   ]
  },
  {
   "cell_type": "code",
   "execution_count": 132,
   "id": "4ac70089-806b-4ddf-81e9-766725b4f266",
   "metadata": {
    "deletable": false,
    "nbgrader": {
     "cell_type": "code",
     "checksum": "a6435e9f22df3469db0c39ade9f45a44",
     "grade": false,
     "grade_id": "cell-abb9ef863959e4ff",
     "locked": false,
     "schema_version": 3,
     "solution": true,
     "task": false
    }
   },
   "outputs": [],
   "source": [
    "# YOUR CODE HERE\n",
    "def standerdizeArray(array):\n",
    "    mean = np.array(array).mean()\n",
    "    std = np.array(array).std()\n",
    "    stdArray = [ (x-mean)/std for x in array ]\n",
    "    return stdArray\n",
    "    \n",
    "heights_SU = heights.copy()\n",
    "heights_SU[\"MidParent SU\"] = standerdizeArray(stdHeights[\"midparentHeight\"])\n",
    "heights_SU[\"Child SU\"] = standerdizeArray(stdHeights[\"childHeight\"])"
   ]
  },
  {
   "cell_type": "code",
   "execution_count": null,
   "id": "981df77c-113e-4ce9-bfda-6645f1149458",
   "metadata": {
    "deletable": false,
    "editable": false,
    "nbgrader": {
     "cell_type": "code",
     "checksum": "4b57bd4f8a4183bc6b32ce9d98dd3159",
     "grade": true,
     "grade_id": "cell-782fcfa43e7b0640",
     "locked": true,
     "points": 20,
     "schema_version": 3,
     "solution": false,
     "task": false
    }
   },
   "outputs": [],
   "source": [
    "# TEST CELL: do not delete!"
   ]
  },
  {
   "cell_type": "markdown",
   "id": "268e8188-5a8b-4898-a9a2-8bb6b545e276",
   "metadata": {
    "deletable": false,
    "editable": false,
    "nbgrader": {
     "cell_type": "markdown",
     "checksum": "2f0b2992337fd67592511454d7bee97e",
     "grade": false,
     "grade_id": "cell-8394a47f0a4c84a3",
     "locked": true,
     "schema_version": 3,
     "solution": false,
     "task": false
    }
   },
   "source": [
    "On this scale, we can calculate our predictions exactly as before. But first we have to figure out how to convert our old definition of “close” points to a value on the new scale. We had said that midparent heights were “close” if they were within 0.5 inches of each other. Since standard units measure distances in units of SDs, we have to figure out how many SDs of midparent height correspond to 0.5 inches."
   ]
  },
  {
   "cell_type": "markdown",
   "id": "f6f1078f-469f-4889-81eb-760f770a26f0",
   "metadata": {
    "deletable": false,
    "editable": false,
    "nbgrader": {
     "cell_type": "markdown",
     "checksum": "d9015d1ccc8008b48ee8599cb376678d",
     "grade": false,
     "grade_id": "cell-b6450f713590ddee",
     "locked": true,
     "schema_version": 3,
     "solution": false,
     "task": false
    }
   },
   "source": [
    "**Question 2.1.2.** Calculate how many inches **one** SD of midparent heights is. How many SDs would 0.5 inches be? Assign your answers to `sd_midparent` and `close` respectively."
   ]
  },
  {
   "cell_type": "code",
   "execution_count": 133,
   "id": "f8092206-6596-40ea-9408-f294c1b05658",
   "metadata": {
    "deletable": false,
    "nbgrader": {
     "cell_type": "code",
     "checksum": "468e3f7a2b47a3facad5d6746603e48c",
     "grade": false,
     "grade_id": "cell-6317ff7126753c15",
     "locked": false,
     "schema_version": 3,
     "solution": true,
     "task": false
    }
   },
   "outputs": [],
   "source": [
    "# YOUR CODE HERE\n",
    "sd_midparent = heights_SU[\"midparentHeight\"].std()\n",
    "close = 0.5 / sd_midparent"
   ]
  },
  {
   "cell_type": "code",
   "execution_count": null,
   "id": "a62f2440-7f8d-40d3-b198-d10752027393",
   "metadata": {
    "deletable": false,
    "editable": false,
    "nbgrader": {
     "cell_type": "code",
     "checksum": "94397e69c2d16e05db6c2d1c0a0c8e5c",
     "grade": true,
     "grade_id": "cell-c895e7e7e6725473",
     "locked": true,
     "points": 8,
     "schema_version": 3,
     "solution": false,
     "task": false
    }
   },
   "outputs": [],
   "source": [
    "# TEST CELL: do not delete!"
   ]
  },
  {
   "cell_type": "markdown",
   "id": "b000fcb2-36f1-4e21-8cd7-34b190128ced",
   "metadata": {
    "deletable": false,
    "editable": false,
    "nbgrader": {
     "cell_type": "markdown",
     "checksum": "c785e61672fec1a7e3fbb6a5bd816e29",
     "grade": false,
     "grade_id": "cell-15961e3779f6e835",
     "locked": true,
     "schema_version": 3,
     "solution": false,
     "task": false
    }
   },
   "source": [
    "**Question 2.1.3.** Now, make a function like you did in question 1.4. but instead of subtracting and adding 0.5, use your `close` variable that you defined above. Name your function `predict_child_SU` and round your answer to 4 decimal points."
   ]
  },
  {
   "cell_type": "code",
   "execution_count": 134,
   "id": "443ea591-d056-4e36-8746-990675bf8d3c",
   "metadata": {
    "deletable": false,
    "nbgrader": {
     "cell_type": "code",
     "checksum": "ed1c4e0e4c4860ae52802a4f6ae47f1f",
     "grade": false,
     "grade_id": "cell-afdea85c4f53e688",
     "locked": false,
     "schema_version": 3,
     "solution": true,
     "task": false
    }
   },
   "outputs": [],
   "source": [
    "# YOUR CODE HERE\n",
    "def predict_child_SU(avg):\n",
    "    lower_bound = avg - close\n",
    "    upper_bound = avg + close\n",
    "    \n",
    "    filtered_children = stdHeights[\n",
    "        (heights_SU['MidParent SU'] >= lower_bound) &\n",
    "        (heights_SU['MidParent SU'] <= upper_bound)\n",
    "    ]['Child SU']\n",
    "    predicted_height = round(filtered_children.mean(), 4)\n",
    "    return predicted_height"
   ]
  },
  {
   "cell_type": "markdown",
   "id": "f142180d-e7eb-442f-932f-e2cad9df74e7",
   "metadata": {
    "deletable": false,
    "editable": false,
    "nbgrader": {
     "cell_type": "markdown",
     "checksum": "ff2bd4340152618cc42d5f73b0e49c57",
     "grade": false,
     "grade_id": "cell-f6f54a36a373c12e",
     "locked": true,
     "schema_version": 3,
     "solution": false,
     "task": false
    }
   },
   "source": [
    "Write a for loop that iterates through all of `MidParent SU` and uses `predict_child_SU` to predict the child's SU. Append your answers to `child_predictions_SU`."
   ]
  },
  {
   "cell_type": "code",
   "execution_count": 137,
   "id": "97ec5f00-f254-4459-800f-02487719cd76",
   "metadata": {
    "deletable": false,
    "nbgrader": {
     "cell_type": "code",
     "checksum": "1b0b298a4b51226e7ede709cdfded051",
     "grade": false,
     "grade_id": "cell-d48e03c1b4e6a5e0",
     "locked": false,
     "schema_version": 3,
     "solution": true,
     "task": false
    }
   },
   "outputs": [
    {
     "data": {
      "text/html": [
       "<div>\n",
       "<style scoped>\n",
       "    .dataframe tbody tr th:only-of-type {\n",
       "        vertical-align: middle;\n",
       "    }\n",
       "\n",
       "    .dataframe tbody tr th {\n",
       "        vertical-align: top;\n",
       "    }\n",
       "\n",
       "    .dataframe thead th {\n",
       "        text-align: right;\n",
       "    }\n",
       "</style>\n",
       "<table border=\"1\" class=\"dataframe\">\n",
       "  <thead>\n",
       "    <tr style=\"text-align: right;\">\n",
       "      <th></th>\n",
       "      <th>family</th>\n",
       "      <th>father</th>\n",
       "      <th>Predictions SU</th>\n",
       "      <th>mother</th>\n",
       "      <th>midparentHeight</th>\n",
       "      <th>children</th>\n",
       "      <th>childNum</th>\n",
       "      <th>sex</th>\n",
       "      <th>childHeight</th>\n",
       "      <th>MidParent SU</th>\n",
       "      <th>Child SU</th>\n",
       "    </tr>\n",
       "  </thead>\n",
       "  <tbody>\n",
       "    <tr>\n",
       "      <th>0</th>\n",
       "      <td>1</td>\n",
       "      <td>78.5</td>\n",
       "      <td>0.9376</td>\n",
       "      <td>67.0</td>\n",
       "      <td>75.43</td>\n",
       "      <td>4</td>\n",
       "      <td>1</td>\n",
       "      <td>male</td>\n",
       "      <td>73.2</td>\n",
       "      <td>3.454652</td>\n",
       "      <td>1.804156</td>\n",
       "    </tr>\n",
       "    <tr>\n",
       "      <th>1</th>\n",
       "      <td>1</td>\n",
       "      <td>78.5</td>\n",
       "      <td>0.9376</td>\n",
       "      <td>67.0</td>\n",
       "      <td>75.43</td>\n",
       "      <td>4</td>\n",
       "      <td>2</td>\n",
       "      <td>female</td>\n",
       "      <td>69.2</td>\n",
       "      <td>3.454652</td>\n",
       "      <td>0.686005</td>\n",
       "    </tr>\n",
       "    <tr>\n",
       "      <th>2</th>\n",
       "      <td>1</td>\n",
       "      <td>78.5</td>\n",
       "      <td>0.9376</td>\n",
       "      <td>67.0</td>\n",
       "      <td>75.43</td>\n",
       "      <td>4</td>\n",
       "      <td>3</td>\n",
       "      <td>female</td>\n",
       "      <td>69.0</td>\n",
       "      <td>3.454652</td>\n",
       "      <td>0.630097</td>\n",
       "    </tr>\n",
       "    <tr>\n",
       "      <th>3</th>\n",
       "      <td>1</td>\n",
       "      <td>78.5</td>\n",
       "      <td>0.9376</td>\n",
       "      <td>67.0</td>\n",
       "      <td>75.43</td>\n",
       "      <td>4</td>\n",
       "      <td>4</td>\n",
       "      <td>female</td>\n",
       "      <td>69.0</td>\n",
       "      <td>3.454652</td>\n",
       "      <td>0.630097</td>\n",
       "    </tr>\n",
       "    <tr>\n",
       "      <th>4</th>\n",
       "      <td>2</td>\n",
       "      <td>75.5</td>\n",
       "      <td>1.0259</td>\n",
       "      <td>66.5</td>\n",
       "      <td>73.66</td>\n",
       "      <td>4</td>\n",
       "      <td>1</td>\n",
       "      <td>male</td>\n",
       "      <td>73.5</td>\n",
       "      <td>2.472085</td>\n",
       "      <td>1.888017</td>\n",
       "    </tr>\n",
       "    <tr>\n",
       "      <th>...</th>\n",
       "      <td>...</td>\n",
       "      <td>...</td>\n",
       "      <td>...</td>\n",
       "      <td>...</td>\n",
       "      <td>...</td>\n",
       "      <td>...</td>\n",
       "      <td>...</td>\n",
       "      <td>...</td>\n",
       "      <td>...</td>\n",
       "      <td>...</td>\n",
       "      <td>...</td>\n",
       "    </tr>\n",
       "    <tr>\n",
       "      <th>929</th>\n",
       "      <td>203</td>\n",
       "      <td>62.0</td>\n",
       "      <td>-0.4443</td>\n",
       "      <td>66.0</td>\n",
       "      <td>66.64</td>\n",
       "      <td>3</td>\n",
       "      <td>1</td>\n",
       "      <td>male</td>\n",
       "      <td>64.0</td>\n",
       "      <td>-1.424873</td>\n",
       "      <td>-0.767591</td>\n",
       "    </tr>\n",
       "    <tr>\n",
       "      <th>930</th>\n",
       "      <td>203</td>\n",
       "      <td>62.0</td>\n",
       "      <td>-0.4443</td>\n",
       "      <td>66.0</td>\n",
       "      <td>66.64</td>\n",
       "      <td>3</td>\n",
       "      <td>2</td>\n",
       "      <td>female</td>\n",
       "      <td>62.0</td>\n",
       "      <td>-1.424873</td>\n",
       "      <td>-1.326667</td>\n",
       "    </tr>\n",
       "    <tr>\n",
       "      <th>931</th>\n",
       "      <td>203</td>\n",
       "      <td>62.0</td>\n",
       "      <td>-0.4443</td>\n",
       "      <td>66.0</td>\n",
       "      <td>66.64</td>\n",
       "      <td>3</td>\n",
       "      <td>3</td>\n",
       "      <td>female</td>\n",
       "      <td>61.0</td>\n",
       "      <td>-1.424873</td>\n",
       "      <td>-1.606205</td>\n",
       "    </tr>\n",
       "    <tr>\n",
       "      <th>932</th>\n",
       "      <td>204</td>\n",
       "      <td>62.5</td>\n",
       "      <td>-0.7034</td>\n",
       "      <td>63.0</td>\n",
       "      <td>65.27</td>\n",
       "      <td>2</td>\n",
       "      <td>1</td>\n",
       "      <td>male</td>\n",
       "      <td>66.5</td>\n",
       "      <td>-2.185390</td>\n",
       "      <td>-0.068747</td>\n",
       "    </tr>\n",
       "    <tr>\n",
       "      <th>933</th>\n",
       "      <td>204</td>\n",
       "      <td>62.5</td>\n",
       "      <td>-0.7034</td>\n",
       "      <td>63.0</td>\n",
       "      <td>65.27</td>\n",
       "      <td>2</td>\n",
       "      <td>2</td>\n",
       "      <td>female</td>\n",
       "      <td>57.0</td>\n",
       "      <td>-2.185390</td>\n",
       "      <td>-2.724356</td>\n",
       "    </tr>\n",
       "  </tbody>\n",
       "</table>\n",
       "<p>934 rows × 11 columns</p>\n",
       "</div>"
      ],
      "text/plain": [
       "    family  father  Predictions SU  mother  midparentHeight  children  \\\n",
       "0        1    78.5          0.9376    67.0            75.43         4   \n",
       "1        1    78.5          0.9376    67.0            75.43         4   \n",
       "2        1    78.5          0.9376    67.0            75.43         4   \n",
       "3        1    78.5          0.9376    67.0            75.43         4   \n",
       "4        2    75.5          1.0259    66.5            73.66         4   \n",
       "..     ...     ...             ...     ...              ...       ...   \n",
       "929    203    62.0         -0.4443    66.0            66.64         3   \n",
       "930    203    62.0         -0.4443    66.0            66.64         3   \n",
       "931    203    62.0         -0.4443    66.0            66.64         3   \n",
       "932    204    62.5         -0.7034    63.0            65.27         2   \n",
       "933    204    62.5         -0.7034    63.0            65.27         2   \n",
       "\n",
       "     childNum     sex  childHeight  MidParent SU  Child SU  \n",
       "0           1    male         73.2      3.454652  1.804156  \n",
       "1           2  female         69.2      3.454652  0.686005  \n",
       "2           3  female         69.0      3.454652  0.630097  \n",
       "3           4  female         69.0      3.454652  0.630097  \n",
       "4           1    male         73.5      2.472085  1.888017  \n",
       "..        ...     ...          ...           ...       ...  \n",
       "929         1    male         64.0     -1.424873 -0.767591  \n",
       "930         2  female         62.0     -1.424873 -1.326667  \n",
       "931         3  female         61.0     -1.424873 -1.606205  \n",
       "932         1    male         66.5     -2.185390 -0.068747  \n",
       "933         2  female         57.0     -2.185390 -2.724356  \n",
       "\n",
       "[934 rows x 11 columns]"
      ]
     },
     "execution_count": 137,
     "metadata": {},
     "output_type": "execute_result"
    }
   ],
   "source": [
    "child_predictions_SU = []\n",
    "\n",
    "# YOUR CODE HERE\n",
    "for i in heights_SU[\"MidParent SU\"]:\n",
    "    child_predictions_SU.append(predict_child_SU(i))\n",
    "\n",
    "# the code below makes a copy of heights_SU and inserts the Predictions SU column\n",
    "height_and_prediction_SU = heights_SU.copy()\n",
    "height_and_prediction_SU.insert(2, \"Predictions SU\", child_predictions_SU, True)\n",
    "height_and_prediction_SU"
   ]
  },
  {
   "cell_type": "code",
   "execution_count": null,
   "id": "117fff73-32ee-4491-a796-77f180cc682d",
   "metadata": {
    "deletable": false,
    "editable": false,
    "nbgrader": {
     "cell_type": "code",
     "checksum": "7fd9c5c734c607a393cbae6e800f61d4",
     "grade": true,
     "grade_id": "cell-c52f03e34fe4a4a4",
     "locked": true,
     "points": 20,
     "schema_version": 3,
     "solution": false,
     "task": false
    }
   },
   "outputs": [],
   "source": [
    "# TEST CELL: do not delete!"
   ]
  },
  {
   "cell_type": "markdown",
   "id": "7d3f94c7-2527-46a3-9ee6-b0d670d5a186",
   "metadata": {
    "deletable": false,
    "editable": false,
    "nbgrader": {
     "cell_type": "markdown",
     "checksum": "e17ad96ddd174d8cae0982dbe1e1544e",
     "grade": false,
     "grade_id": "cell-10180fc50e532442",
     "locked": true,
     "schema_version": 3,
     "solution": false,
     "task": false
    }
   },
   "source": [
    "**Question 2.1.4.** Now make a scatter plot that uses the SU data. "
   ]
  },
  {
   "cell_type": "code",
   "execution_count": 139,
   "id": "ff8c3404-b42e-4d6e-af78-387235dbb9ec",
   "metadata": {
    "deletable": false,
    "nbgrader": {
     "cell_type": "code",
     "checksum": "0eed67dfc73dc5759b1e811b95fe00f0",
     "grade": true,
     "grade_id": "cell-e24f189df18ede57",
     "locked": false,
     "points": 10,
     "schema_version": 3,
     "solution": true,
     "task": false
    }
   },
   "outputs": [
    {
     "data": {
      "image/png": "[encoded data removed]",
      "text/plain": [
       "<Figure size 640x480 with 1 Axes>"
      ]
     },
     "metadata": {},
     "output_type": "display_data"
    }
   ],
   "source": [
    "# YOUR CODE HERE\n",
    "plt.scatter(height_and_prediction_SU[\"MidParent SU\"],height_and_prediction_SU[\"Predictions SU\"])\n",
    "plt.xlabel(\"Mid Parent SU\")\n",
    "plt.ylabel(\"Predictions SU\")\n",
    "\n",
    "plt.show()"
   ]
  },
  {
   "cell_type": "markdown",
   "id": "74655e19-380d-4c8c-9aeb-10bb7336d86d",
   "metadata": {
    "deletable": false,
    "editable": false,
    "nbgrader": {
     "cell_type": "markdown",
     "checksum": "320b81d0ccc97b7fb805dad176fe1884",
     "grade": false,
     "grade_id": "cell-6fca5ed4effdd90f",
     "locked": true,
     "schema_version": 3,
     "solution": false,
     "task": false
    }
   },
   "source": [
    "Notice how the plotted SU data is the exact same as the original data, only the axes are different. This confirms that we can understand the prediction process using standard units."
   ]
  },
  {
   "cell_type": "markdown",
   "id": "009098de-91b2-4d2b-9c64-f60059488836",
   "metadata": {
    "deletable": false,
    "editable": false,
    "nbgrader": {
     "cell_type": "markdown",
     "checksum": "1e5f8dc5d281ba38b1d24908a64ec8f7",
     "grade": false,
     "grade_id": "cell-e2e12997156f525a",
     "locked": true,
     "schema_version": 3,
     "solution": false,
     "task": false
    }
   },
   "source": [
    "## 2.2. The Regression Line\n",
    "\n",
    "In regression, we use the value of one variable, $x$, to predict the value of another, $y$. When the variables are measured in standard units, the regression line for predicting based on has slope $$r * \\frac{SD_y}{SD_x}$$\n",
    " and passes through the origin $$\\bar{y} - slope * \\bar{x}$$"
   ]
  },
  {
   "cell_type": "markdown",
   "id": "03b9cf75-bfbb-4e11-a5f1-ed4a955d480b",
   "metadata": {
    "deletable": false,
    "editable": false,
    "nbgrader": {
     "cell_type": "markdown",
     "checksum": "de7b28f32e6fc311967ce5cea4e52211",
     "grade": false,
     "grade_id": "cell-bd41985e4e2af5d9",
     "locked": true,
     "schema_version": 3,
     "solution": false,
     "task": false
    }
   },
   "source": [
    "**Question 2.2.1.** Write two functions called `slope` and `intercept` that use the equations above. Both functions should have three arguments that take in a Dataframe, label x, and label y."
   ]
  },
  {
   "cell_type": "code",
   "execution_count": 147,
   "id": "17d10b45-1055-431f-9ade-11d7b27c8799",
   "metadata": {
    "deletable": false,
    "nbgrader": {
     "cell_type": "code",
     "checksum": "6c8925b173be8e2f0679ea797dd634fe",
     "grade": false,
     "grade_id": "cell-57c875d3901815cb",
     "locked": false,
     "schema_version": 3,
     "solution": true,
     "task": false
    }
   },
   "outputs": [],
   "source": [
    "# YOUR CODE HERE\n",
    "def slope(df, label_x, label_y):\n",
    "    sd_x = df[label_x].std()\n",
    "    sd_y = df[label_y].std()\n",
    "    \n",
    "    r = df[label_x].corr(df[label_y])\n",
    "\n",
    "    slope_value = r * (sd_y / sd_x)\n",
    "    return slope_value\n",
    "\n",
    "def intercept(df, label_x, label_y):\n",
    "    mean_x = df[label_x].mean()\n",
    "    mean_y = df[label_y].mean()\n",
    "    \n",
    "    intercept_value = mean_y - slope(df, label_x, label_y) * mean_x\n",
    "    return intercept_value\n"
   ]
  },
  {
   "cell_type": "code",
   "execution_count": 146,
   "id": "728b9c3d-fc11-4e6a-a593-774edf254b9a",
   "metadata": {
    "deletable": false,
    "editable": false,
    "nbgrader": {
     "cell_type": "code",
     "checksum": "0efb83a5962966790ff0aba6019eeb73",
     "grade": false,
     "grade_id": "cell-d4ab24c6f80a3af8",
     "locked": true,
     "schema_version": 3,
     "solution": false,
     "task": false
    }
   },
   "outputs": [
    {
     "data": {
      "text/plain": [
       "(0.637360896969479, 22.63624054958975)"
      ]
     },
     "execution_count": 146,
     "metadata": {},
     "output_type": "execute_result"
    }
   ],
   "source": [
    "#run this cell\n",
    "family_slope = slope(heights, 'midparentHeight', 'childHeight')\n",
    "family_intercept = intercept(heights, 'midparentHeight', 'childHeight')\n",
    "family_slope, family_intercept"
   ]
  },
  {
   "cell_type": "code",
   "execution_count": null,
   "id": "f1e7f7dc-9498-4ec9-b136-e2bbadd75823",
   "metadata": {
    "deletable": false,
    "editable": false,
    "nbgrader": {
     "cell_type": "code",
     "checksum": "7a2e6f64bb89ee1f40992cf5a040f7a8",
     "grade": true,
     "grade_id": "cell-450631dcec1bfb4c",
     "locked": true,
     "points": 10,
     "schema_version": 3,
     "solution": false,
     "task": false
    }
   },
   "outputs": [],
   "source": [
    "# TEST CELL: do not delete!"
   ]
  },
  {
   "cell_type": "markdown",
   "id": "5d42755e-09ad-48c4-904c-903563c29642",
   "metadata": {
    "deletable": false,
    "editable": false,
    "nbgrader": {
     "cell_type": "markdown",
     "checksum": "958b70c7fb9a5fa306014cefe13af694",
     "grade": false,
     "grade_id": "cell-0c432a480a44e62e",
     "locked": true,
     "schema_version": 3,
     "solution": false,
     "task": false
    }
   },
   "source": [
    "The equation for the regression line is $$estimate\\:of\\:child's\\:height = 0.64 * midParent\\:height + 22.64$$ For example, for a midparent height of 70.48 inches, the regression equation predicts the child’s height to be 67.56 inches."
   ]
  },
  {
   "cell_type": "code",
   "execution_count": 148,
   "id": "6a6fc78f-6e25-4167-ab36-68d68e2c85f7",
   "metadata": {
    "deletable": false,
    "editable": false,
    "nbgrader": {
     "cell_type": "code",
     "checksum": "01dcb4c14757fbe208b387f5f4b08014",
     "grade": false,
     "grade_id": "cell-1411fa83633b4102",
     "locked": true,
     "schema_version": 3,
     "solution": false,
     "task": false
    }
   },
   "outputs": [
    {
     "data": {
      "text/plain": [
       "67.55743656799862"
      ]
     },
     "execution_count": 148,
     "metadata": {},
     "output_type": "execute_result"
    }
   ],
   "source": [
    "family_slope * 70.48 + family_intercept"
   ]
  },
  {
   "cell_type": "markdown",
   "id": "01c34909-91b8-426a-bf5f-74fd0db28bef",
   "metadata": {
    "deletable": false,
    "editable": false,
    "nbgrader": {
     "cell_type": "markdown",
     "checksum": "4211394c40e288705b097b411d36a6a8",
     "grade": false,
     "grade_id": "cell-4d1a2db61ea6c012",
     "locked": true,
     "schema_version": 3,
     "solution": false,
     "task": false
    }
   },
   "source": [
    "**Question 2.2.2.** Write a function called `reg_prediction` that takes in one argument as the parent height average and returns the regression equation that predicts the child's height. Then, use that function and a for loop to calculate the regression predictions. Append your answers to `regression_predictions`. "
   ]
  },
  {
   "cell_type": "code",
   "execution_count": 149,
   "id": "4df2fc73-4800-4877-b007-576aebcf65c0",
   "metadata": {
    "deletable": false,
    "nbgrader": {
     "cell_type": "code",
     "checksum": "0cca96fa6f5c2cb2bf73ca61334df283",
     "grade": false,
     "grade_id": "cell-bcea03ff2229def9",
     "locked": false,
     "schema_version": 3,
     "solution": true,
     "task": false
    }
   },
   "outputs": [],
   "source": [
    "# YOUR CODE HERE\n",
    "def reg_prediction(avg):\n",
    "    return 0.64 * avg + 22.64"
   ]
  },
  {
   "cell_type": "code",
   "execution_count": 153,
   "id": "c8055ad4-0b73-41c9-9285-1efbb9dc168b",
   "metadata": {
    "deletable": false,
    "nbgrader": {
     "cell_type": "code",
     "checksum": "c65f4dbebfcee5d76626ac53104948f7",
     "grade": false,
     "grade_id": "cell-41ae175368dfaada",
     "locked": false,
     "schema_version": 3,
     "solution": true,
     "task": false
    }
   },
   "outputs": [
    {
     "data": {
      "text/html": [
       "<div>\n",
       "<style scoped>\n",
       "    .dataframe tbody tr th:only-of-type {\n",
       "        vertical-align: middle;\n",
       "    }\n",
       "\n",
       "    .dataframe tbody tr th {\n",
       "        vertical-align: top;\n",
       "    }\n",
       "\n",
       "    .dataframe thead th {\n",
       "        text-align: right;\n",
       "    }\n",
       "</style>\n",
       "<table border=\"1\" class=\"dataframe\">\n",
       "  <thead>\n",
       "    <tr style=\"text-align: right;\">\n",
       "      <th></th>\n",
       "      <th>family</th>\n",
       "      <th>father</th>\n",
       "      <th>mother</th>\n",
       "      <th>midparentHeight</th>\n",
       "      <th>children</th>\n",
       "      <th>childNum</th>\n",
       "      <th>sex</th>\n",
       "      <th>childHeight</th>\n",
       "      <th>Predictions</th>\n",
       "      <th>Regression Predictions</th>\n",
       "      <th>Regression Predictions</th>\n",
       "    </tr>\n",
       "  </thead>\n",
       "  <tbody>\n",
       "    <tr>\n",
       "      <th>0</th>\n",
       "      <td>1</td>\n",
       "      <td>78.5</td>\n",
       "      <td>67.0</td>\n",
       "      <td>75.43</td>\n",
       "      <td>4</td>\n",
       "      <td>1</td>\n",
       "      <td>male</td>\n",
       "      <td>73.2</td>\n",
       "      <td>70.1000</td>\n",
       "      <td>70.9152</td>\n",
       "      <td>70.9152</td>\n",
       "    </tr>\n",
       "    <tr>\n",
       "      <th>1</th>\n",
       "      <td>1</td>\n",
       "      <td>78.5</td>\n",
       "      <td>67.0</td>\n",
       "      <td>75.43</td>\n",
       "      <td>4</td>\n",
       "      <td>2</td>\n",
       "      <td>female</td>\n",
       "      <td>69.2</td>\n",
       "      <td>70.1000</td>\n",
       "      <td>70.9152</td>\n",
       "      <td>70.9152</td>\n",
       "    </tr>\n",
       "    <tr>\n",
       "      <th>2</th>\n",
       "      <td>1</td>\n",
       "      <td>78.5</td>\n",
       "      <td>67.0</td>\n",
       "      <td>75.43</td>\n",
       "      <td>4</td>\n",
       "      <td>3</td>\n",
       "      <td>female</td>\n",
       "      <td>69.0</td>\n",
       "      <td>70.1000</td>\n",
       "      <td>70.9152</td>\n",
       "      <td>70.9152</td>\n",
       "    </tr>\n",
       "    <tr>\n",
       "      <th>3</th>\n",
       "      <td>1</td>\n",
       "      <td>78.5</td>\n",
       "      <td>67.0</td>\n",
       "      <td>75.43</td>\n",
       "      <td>4</td>\n",
       "      <td>4</td>\n",
       "      <td>female</td>\n",
       "      <td>69.0</td>\n",
       "      <td>70.1000</td>\n",
       "      <td>70.9152</td>\n",
       "      <td>70.9152</td>\n",
       "    </tr>\n",
       "    <tr>\n",
       "      <th>4</th>\n",
       "      <td>2</td>\n",
       "      <td>75.5</td>\n",
       "      <td>66.5</td>\n",
       "      <td>73.66</td>\n",
       "      <td>4</td>\n",
       "      <td>1</td>\n",
       "      <td>male</td>\n",
       "      <td>73.5</td>\n",
       "      <td>70.4158</td>\n",
       "      <td>69.7824</td>\n",
       "      <td>69.7824</td>\n",
       "    </tr>\n",
       "    <tr>\n",
       "      <th>...</th>\n",
       "      <td>...</td>\n",
       "      <td>...</td>\n",
       "      <td>...</td>\n",
       "      <td>...</td>\n",
       "      <td>...</td>\n",
       "      <td>...</td>\n",
       "      <td>...</td>\n",
       "      <td>...</td>\n",
       "      <td>...</td>\n",
       "      <td>...</td>\n",
       "      <td>...</td>\n",
       "    </tr>\n",
       "    <tr>\n",
       "      <th>929</th>\n",
       "      <td>203</td>\n",
       "      <td>62.0</td>\n",
       "      <td>66.0</td>\n",
       "      <td>66.64</td>\n",
       "      <td>3</td>\n",
       "      <td>1</td>\n",
       "      <td>male</td>\n",
       "      <td>64.0</td>\n",
       "      <td>65.1566</td>\n",
       "      <td>65.2896</td>\n",
       "      <td>65.2896</td>\n",
       "    </tr>\n",
       "    <tr>\n",
       "      <th>930</th>\n",
       "      <td>203</td>\n",
       "      <td>62.0</td>\n",
       "      <td>66.0</td>\n",
       "      <td>66.64</td>\n",
       "      <td>3</td>\n",
       "      <td>2</td>\n",
       "      <td>female</td>\n",
       "      <td>62.0</td>\n",
       "      <td>65.1566</td>\n",
       "      <td>65.2896</td>\n",
       "      <td>65.2896</td>\n",
       "    </tr>\n",
       "    <tr>\n",
       "      <th>931</th>\n",
       "      <td>203</td>\n",
       "      <td>62.0</td>\n",
       "      <td>66.0</td>\n",
       "      <td>66.64</td>\n",
       "      <td>3</td>\n",
       "      <td>3</td>\n",
       "      <td>female</td>\n",
       "      <td>61.0</td>\n",
       "      <td>65.1566</td>\n",
       "      <td>65.2896</td>\n",
       "      <td>65.2896</td>\n",
       "    </tr>\n",
       "    <tr>\n",
       "      <th>932</th>\n",
       "      <td>204</td>\n",
       "      <td>62.5</td>\n",
       "      <td>63.0</td>\n",
       "      <td>65.27</td>\n",
       "      <td>2</td>\n",
       "      <td>1</td>\n",
       "      <td>male</td>\n",
       "      <td>66.5</td>\n",
       "      <td>64.2296</td>\n",
       "      <td>64.4128</td>\n",
       "      <td>64.4128</td>\n",
       "    </tr>\n",
       "    <tr>\n",
       "      <th>933</th>\n",
       "      <td>204</td>\n",
       "      <td>62.5</td>\n",
       "      <td>63.0</td>\n",
       "      <td>65.27</td>\n",
       "      <td>2</td>\n",
       "      <td>2</td>\n",
       "      <td>female</td>\n",
       "      <td>57.0</td>\n",
       "      <td>64.2296</td>\n",
       "      <td>64.4128</td>\n",
       "      <td>64.4128</td>\n",
       "    </tr>\n",
       "  </tbody>\n",
       "</table>\n",
       "<p>934 rows × 11 columns</p>\n",
       "</div>"
      ],
      "text/plain": [
       "    family  father  mother  midparentHeight  children  childNum     sex  \\\n",
       "0        1    78.5    67.0            75.43         4         1    male   \n",
       "1        1    78.5    67.0            75.43         4         2  female   \n",
       "2        1    78.5    67.0            75.43         4         3  female   \n",
       "3        1    78.5    67.0            75.43         4         4  female   \n",
       "4        2    75.5    66.5            73.66         4         1    male   \n",
       "..     ...     ...     ...              ...       ...       ...     ...   \n",
       "929    203    62.0    66.0            66.64         3         1    male   \n",
       "930    203    62.0    66.0            66.64         3         2  female   \n",
       "931    203    62.0    66.0            66.64         3         3  female   \n",
       "932    204    62.5    63.0            65.27         2         1    male   \n",
       "933    204    62.5    63.0            65.27         2         2  female   \n",
       "\n",
       "     childHeight  Predictions  Regression Predictions  Regression Predictions  \n",
       "0           73.2      70.1000                 70.9152                 70.9152  \n",
       "1           69.2      70.1000                 70.9152                 70.9152  \n",
       "2           69.0      70.1000                 70.9152                 70.9152  \n",
       "3           69.0      70.1000                 70.9152                 70.9152  \n",
       "4           73.5      70.4158                 69.7824                 69.7824  \n",
       "..           ...          ...                     ...                     ...  \n",
       "929         64.0      65.1566                 65.2896                 65.2896  \n",
       "930         62.0      65.1566                 65.2896                 65.2896  \n",
       "931         61.0      65.1566                 65.2896                 65.2896  \n",
       "932         66.5      64.2296                 64.4128                 64.4128  \n",
       "933         57.0      64.2296                 64.4128                 64.4128  \n",
       "\n",
       "[934 rows x 11 columns]"
      ]
     },
     "execution_count": 153,
     "metadata": {},
     "output_type": "execute_result"
    }
   ],
   "source": [
    "regression_predictions = []\n",
    "\n",
    "# YOUR CODE HERE\n",
    "for i in heights[\"midparentHeight\"]:\n",
    "    regression_predictions.append( reg_prediction(i) )\n",
    "\n",
    "# the code below makes a copy of heights and inserts the Predictions column\n",
    "height_and_prediction.insert(9, \"Regression Predictions\", regression_predictions, True)\n",
    "height_and_prediction"
   ]
  },
  {
   "cell_type": "code",
   "execution_count": null,
   "id": "a283bcdd-39db-400e-a10c-41ed87b86c10",
   "metadata": {
    "deletable": false,
    "editable": false,
    "nbgrader": {
     "cell_type": "code",
     "checksum": "f8efe012815ee54ad77d4cdc4fbedd7b",
     "grade": true,
     "grade_id": "cell-466f92eeb9b2200e",
     "locked": true,
     "points": 10,
     "schema_version": 3,
     "solution": false,
     "task": false
    }
   },
   "outputs": [],
   "source": [
    "# TEST CELL: do not delete!"
   ]
  },
  {
   "cell_type": "markdown",
   "id": "82d727a6-212f-430c-8564-f3cb252244c5",
   "metadata": {
    "deletable": false,
    "editable": false,
    "nbgrader": {
     "cell_type": "markdown",
     "checksum": "12dcd371014b5b9a80dcfc11747edc1b",
     "grade": false,
     "grade_id": "cell-15f721b94c9ffec2",
     "locked": true,
     "schema_version": 3,
     "solution": false,
     "task": false
    }
   },
   "source": [
    "**Question 2.2.3.** Now, make a scatter plot that includes the original child height data, the predicted data, and the regression prediction data."
   ]
  },
  {
   "cell_type": "code",
   "execution_count": 158,
   "id": "8e843787-2869-41f8-b551-5cdab94d2c87",
   "metadata": {
    "deletable": false,
    "nbgrader": {
     "cell_type": "code",
     "checksum": "a0cf3b5e8c854457cbc00092c620e68c",
     "grade": true,
     "grade_id": "cell-8134d39b62596452",
     "locked": false,
     "points": 10,
     "schema_version": 3,
     "solution": true,
     "task": false
    }
   },
   "outputs": [
    {
     "data": {
      "image/png": "[encoded data removed]",
      "text/plain": [
       "<Figure size 640x480 with 1 Axes>"
      ]
     },
     "metadata": {},
     "output_type": "display_data"
    }
   ],
   "source": [
    "# YOUR CODE HERE\n",
    "\n",
    "plt.scatter(height_and_prediction['midparentHeight'], height_and_prediction['childHeight'], color='blue', label='Original Data', alpha=0.6)\n",
    "\n",
    "plt.scatter(height_and_prediction['midparentHeight'], height_and_prediction['Predictions'], color='yellow', label='Predicted Data', alpha=0.6)\n",
    "\n",
    "plt.plot(height_and_prediction['midparentHeight'], height_and_prediction['Regression Predictions'], color='red', label='Regression Prediction', linewidth=2.5)\n",
    "\n",
    "plt.title('Child Height Analysis', fontsize=16)\n",
    "plt.xlabel(\"Mid-Parent Height\")\n",
    "plt.ylabel(\"Child Height\")\n",
    "\n",
    "plt.show()"
   ]
  },
  {
   "cell_type": "markdown",
   "id": "1d26f8b1-0c29-4798-a7a1-1736eeca6fa7",
   "metadata": {
    "deletable": false,
    "editable": false,
    "nbgrader": {
     "cell_type": "markdown",
     "checksum": "8e32c13c3548cf760584bdfd2414f9ee",
     "grade": false,
     "grade_id": "cell-d4e15fcf63654f61",
     "locked": true,
     "schema_version": 3,
     "solution": false,
     "task": false
    }
   },
   "source": [
    "**Question 2.2.4.** Briefly comment on the regression predictions and how well it does in approximating the child heights."
   ]
  },
  {
   "cell_type": "markdown",
   "id": "97a167b6-6df8-4b78-b946-b17e5892d619",
   "metadata": {
    "deletable": false,
    "nbgrader": {
     "cell_type": "markdown",
     "checksum": "aa5e25c645fcf72ffeb6a986f7d5217c",
     "grade": true,
     "grade_id": "cell-e4d95ffb138b226d",
     "locked": false,
     "points": 3,
     "schema_version": 3,
     "solution": true,
     "task": false
    }
   },
   "source": [
    "In the scatter plot, the blue dots represent the actual data. The Golden/Yellow dots represent the predicted data, and the red line presents the height predicted using the regression. As seen, the predictions using regression are very accurate, and approcimate the childs height with decent accuracy"
   ]
  },
  {
   "cell_type": "markdown",
   "id": "5eed6a7c-f13b-454e-b092-8f4f98f6a05a",
   "metadata": {
    "deletable": false,
    "editable": false,
    "nbgrader": {
     "cell_type": "markdown",
     "checksum": "47e2410d7ba0b972418bc055ac1cb0bb",
     "grade": false,
     "grade_id": "cell-51c2dd3350f541d9",
     "locked": true,
     "schema_version": 3,
     "solution": false,
     "task": false
    }
   },
   "source": [
    "# Rubric\n",
    "\n",
    "| Question | Points| \n",
    "|----------|----------|\n",
    "| 1.1.   | 2   | \n",
    "| 1.2.    | 10   | \n",
    "| 1.3.    | 10   | \n",
    "| 1.4.   | 10   | \n",
    "| 1.5.    | 5  | \n",
    "| 1.6.   | 15   | \n",
    "| 2.1.    | 5  | \n",
    "| 2.2.   | 5   | \n",
    "| 2.1.1.   | 20   | \n",
    "| 2.1.2.    | 8  | \n",
    "| 2.1.3.   | 20   | \n",
    "|2.1.4.    | 10  | \n",
    "| 2.2.1.   | 10   | \n",
    "| 2.2.2.  | 10   | \n",
    "| 2.2.3.   | 10   | \n",
    "| 2.2.4.    | 3  |  \n",
    "| Total:    | 153   | \n"
   ]
  },
  {
   "cell_type": "markdown",
   "id": "f8d737b8-b6da-4c24-9341-ed47fc71831e",
   "metadata": {
    "deletable": false,
    "editable": false,
    "nbgrader": {
     "cell_type": "markdown",
     "checksum": "8cea6c340752f9fd3bce495bef0d6d41",
     "grade": false,
     "grade_id": "cell-0db5814a4ee1c909",
     "locked": true,
     "schema_version": 3,
     "solution": false,
     "task": false
    }
   },
   "source": [
    "family_heights: data8"
   ]
  }
 ],
 "metadata": {
  "kernelspec": {
   "display_name": "Python 3 (ipykernel)",
   "language": "python",
   "name": "python3"
  },
  "language_info": {
   "codemirror_mode": {
    "name": "ipython",
    "version": 3
   },
   "file_extension": ".py",
   "mimetype": "text/x-python",
   "name": "python",
   "nbconvert_exporter": "python",
   "pygments_lexer": "ipython3",
   "version": "3.9.6"
  }
 },
 "nbformat": 4,
 "nbformat_minor": 5
}
