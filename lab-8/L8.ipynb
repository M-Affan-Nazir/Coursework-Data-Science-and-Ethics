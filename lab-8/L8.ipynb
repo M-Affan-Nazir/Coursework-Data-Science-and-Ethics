{
 "cells": [
  {
   "cell_type": "markdown",
   "id": "gLHdRXwEPmaY",
   "metadata": {
    "id": "gLHdRXwEPmaY"
   },
   "source": [
    "# Lab 8 Explainability"
   ]
  },
  {
   "cell_type": "markdown",
   "id": "b327ae5e-357e-4ea3-a947-3b6b908718c7",
   "metadata": {
    "id": "b327ae5e-357e-4ea3-a947-3b6b908718c7"
   },
   "source": [
    "***\n",
    "- **FIRST name**: Muhammad Affan\n",
    "- **LAST name**: Nazir\n",
    "- **Student ID**:\n",
    "\n",
    "Leave blank if individual:\n",
    "- **Collaborator names**:\n",
    "- **Collaborator student IDs**:\n",
    "***"
   ]
  },
  {
   "cell_type": "markdown",
   "id": "c8be7cd7-8ce4-4742-a7c3-60930f33184e",
   "metadata": {
    "deletable": false,
    "editable": false,
    "id": "c8be7cd7-8ce4-4742-a7c3-60930f33184e",
    "nbgrader": {
     "cell_type": "markdown",
     "checksum": "3e12839608ab76a01e0bc8276c3d5a70",
     "grade": false,
     "grade_id": "cell-962bb44b817b427d",
     "locked": true,
     "schema_version": 3,
     "solution": false,
     "task": false
    }
   },
   "source": [
    "# Lab 8:\n",
    "\n",
    "In today's lab, you will learn:\n",
    "\n",
    "1.   Using the LIME package for explanations.\n",
    "\n",
    "For this lab, you'll need the dataset `iris.csv`.\n"
   ]
  },
  {
   "cell_type": "code",
   "execution_count": 2,
   "id": "e0675794-08ef-4ee2-a8da-ace0626f50a4",
   "metadata": {
    "deletable": false,
    "editable": false,
    "id": "e0675794-08ef-4ee2-a8da-ace0626f50a4",
    "nbgrader": {
     "cell_type": "code",
     "checksum": "ac99a6fea94dc6939d276fd7d795e01b",
     "grade": false,
     "grade_id": "cell-1749414a9f901003",
     "locked": true,
     "schema_version": 3,
     "solution": false,
     "task": false
    }
   },
   "outputs": [
    {
     "name": "stdout",
     "output_type": "stream",
     "text": [
      "Requirement already satisfied: lime in c:\\made\\program files\\python\\lib\\site-packages (0.2.0.1)\n",
      "Requirement already satisfied: matplotlib in c:\\made\\program files\\python\\lib\\site-packages (from lime) (3.8.0)\n",
      "Requirement already satisfied: numpy in c:\\made\\program files\\python\\lib\\site-packages (from lime) (1.26.1)\n",
      "Requirement already satisfied: scipy in c:\\made\\program files\\python\\lib\\site-packages (from lime) (1.11.4)\n",
      "Requirement already satisfied: tqdm in c:\\made\\program files\\python\\lib\\site-packages (from lime) (4.66.1)\n",
      "Requirement already satisfied: scikit-learn>=0.18 in c:\\made\\program files\\python\\lib\\site-packages (from lime) (1.3.2)\n",
      "Requirement already satisfied: scikit-image>=0.12 in c:\\made\\program files\\python\\lib\\site-packages (from lime) (0.24.0)\n",
      "Requirement already satisfied: networkx>=2.8 in c:\\made\\program files\\python\\lib\\site-packages (from scikit-image>=0.12->lime) (3.2.1)\n",
      "Requirement already satisfied: pillow>=9.1 in c:\\made\\program files\\python\\lib\\site-packages (from scikit-image>=0.12->lime) (10.1.0)\n",
      "Requirement already satisfied: imageio>=2.33 in c:\\made\\program files\\python\\lib\\site-packages (from scikit-image>=0.12->lime) (2.36.0)\n",
      "Requirement already satisfied: tifffile>=2022.8.12 in c:\\made\\program files\\python\\lib\\site-packages (from scikit-image>=0.12->lime) (2024.8.30)\n",
      "Requirement already satisfied: packaging>=21 in c:\\made\\program files\\python\\lib\\site-packages (from scikit-image>=0.12->lime) (23.2)\n",
      "Requirement already satisfied: lazy-loader>=0.4 in c:\\made\\program files\\python\\lib\\site-packages (from scikit-image>=0.12->lime) (0.4)\n",
      "Requirement already satisfied: joblib>=1.1.1 in c:\\made\\program files\\python\\lib\\site-packages (from scikit-learn>=0.18->lime) (1.3.2)\n",
      "Requirement already satisfied: threadpoolctl>=2.0.0 in c:\\made\\program files\\python\\lib\\site-packages (from scikit-learn>=0.18->lime) (3.2.0)\n",
      "Requirement already satisfied: contourpy>=1.0.1 in c:\\made\\program files\\python\\lib\\site-packages (from matplotlib->lime) (1.1.1)\n",
      "Requirement already satisfied: cycler>=0.10 in c:\\made\\program files\\python\\lib\\site-packages (from matplotlib->lime) (0.12.1)\n",
      "Requirement already satisfied: fonttools>=4.22.0 in c:\\made\\program files\\python\\lib\\site-packages (from matplotlib->lime) (4.43.1)\n",
      "Requirement already satisfied: kiwisolver>=1.0.1 in c:\\made\\program files\\python\\lib\\site-packages (from matplotlib->lime) (1.4.5)\n",
      "Requirement already satisfied: pyparsing>=2.3.1 in c:\\made\\program files\\python\\lib\\site-packages (from matplotlib->lime) (3.1.1)\n",
      "Requirement already satisfied: python-dateutil>=2.7 in c:\\made\\program files\\python\\lib\\site-packages (from matplotlib->lime) (2.8.2)\n",
      "Requirement already satisfied: importlib-resources>=3.2.0 in c:\\made\\program files\\python\\lib\\site-packages (from matplotlib->lime) (6.1.0)\n",
      "Requirement already satisfied: colorama in c:\\made\\program files\\python\\lib\\site-packages (from tqdm->lime) (0.4.6)\n",
      "Requirement already satisfied: zipp>=3.1.0 in c:\\made\\program files\\python\\lib\\site-packages (from importlib-resources>=3.2.0->matplotlib->lime) (3.17.0)\n",
      "Requirement already satisfied: six>=1.5 in c:\\made\\program files\\python\\lib\\site-packages (from python-dateutil>=2.7->matplotlib->lime) (1.16.0)\n"
     ]
    }
   ],
   "source": [
    "#run this cell\n",
    "!pip install lime\n",
    "import sklearn\n",
    "import sklearn.ensemble\n",
    "import numpy as np\n",
    "import pandas as pd\n",
    "import matplotlib.pyplot as plt\n",
    "import seaborn as sns\n",
    "from __future__ import print_function\n",
    "np.random.seed(1)\n",
    "import numpy as np\n",
    "import pandas as pd\n",
    "import matplotlib.pyplot as plt\n",
    "import seaborn as sns\n",
    "from sklearn.datasets import load_iris\n",
    "from sklearn.model_selection import train_test_split\n",
    "from sklearn.preprocessing import StandardScaler\n",
    "from sklearn.ensemble import RandomForestClassifier\n",
    "import lime\n",
    "import lime.lime_tabular\n",
    "\n",
    "np.random.seed(1)"
   ]
  },
  {
   "cell_type": "markdown",
   "id": "49217ead-9e37-4d1a-9be3-a044a7df00b5",
   "metadata": {
    "deletable": false,
    "editable": false,
    "id": "49217ead-9e37-4d1a-9be3-a044a7df00b5",
    "nbgrader": {
     "cell_type": "markdown",
     "checksum": "686550eb789736f772f763efdf0840f1",
     "grade": false,
     "grade_id": "cell-7c7a486082a3c928",
     "locked": true,
     "schema_version": 3,
     "solution": false,
     "task": false
    }
   },
   "source": [
    "# 1. Pre-processing the Data\n",
    "\n",
    "We will use sklearn's dataset module to load the iris dataset"
   ]
  },
  {
   "cell_type": "code",
   "execution_count": 3,
   "id": "0f748d33-3d86-4ceb-bcad-259e93578125",
   "metadata": {
    "deletable": false,
    "id": "0f748d33-3d86-4ceb-bcad-259e93578125",
    "nbgrader": {
     "cell_type": "code",
     "checksum": "9350fb8f42fd1b69906cecedf886a080",
     "grade": false,
     "grade_id": "cell-5242329f85e15bd3",
     "locked": false,
     "schema_version": 3,
     "solution": true,
     "task": false
    }
   },
   "outputs": [
    {
     "name": "stdout",
     "output_type": "stream",
     "text": [
      "   sepal length (cm)  sepal width (cm)  petal length (cm)  petal width (cm)  \\\n",
      "0                5.1               3.5                1.4               0.2   \n",
      "1                4.9               3.0                1.4               0.2   \n",
      "2                4.7               3.2                1.3               0.2   \n",
      "3                4.6               3.1                1.5               0.2   \n",
      "4                5.0               3.6                1.4               0.2   \n",
      "\n",
      "   target  \n",
      "0       0  \n",
      "1       0  \n",
      "2       0  \n",
      "3       0  \n",
      "4       0  \n",
      "(150, 5)\n",
      "[0 1 2]\n"
     ]
    }
   ],
   "source": [
    "iris = load_iris()\n",
    "iris_df = pd.DataFrame(iris.data, columns=iris.feature_names)\n",
    "iris_df['target'] = iris.target\n",
    "print(iris_df.head(5))\n",
    "print(iris_df.shape)\n",
    "print(iris_df[\"target\"].unique())"
   ]
  },
  {
   "cell_type": "code",
   "execution_count": null,
   "id": "9f510067-e5e9-4b54-9c52-d0a0fd3cd3c1",
   "metadata": {
    "deletable": false,
    "editable": false,
    "id": "9f510067-e5e9-4b54-9c52-d0a0fd3cd3c1",
    "nbgrader": {
     "cell_type": "code",
     "checksum": "a07a9b551852b7487168f88c314f44e5",
     "grade": true,
     "grade_id": "cell-3d8bceb83eb932c1",
     "locked": true,
     "points": 5,
     "schema_version": 3,
     "solution": false,
     "task": false
    }
   },
   "outputs": [],
   "source": []
  },
  {
   "cell_type": "markdown",
   "id": "cd4cdf2c-ed39-49f3-938b-27db502e562c",
   "metadata": {
    "deletable": false,
    "editable": false,
    "id": "cd4cdf2c-ed39-49f3-938b-27db502e562c",
    "nbgrader": {
     "cell_type": "markdown",
     "checksum": "6e9d8f93955845892543778a3d064a7a",
     "grade": false,
     "grade_id": "cell-62c48b57e29a0c5b",
     "locked": true,
     "schema_version": 3,
     "solution": false,
     "task": false
    }
   },
   "source": [
    "This dataset contains three iris species: setosa, versicolor, and virginica. It also contains the flower's petal length, petal width, sepal length, and sepal width. Our goal in this lab is to use sklearn's Random Forest Classifer to predict what species of iris we have given its measurements.\n",
    "To learn more about Random Forests, see [here](https://www.ibm.com/topics/random-forest).\n",
    "\n",
    "**Question 1.1.** Recall that we denote `X` as our features and `Y` as our target. Separate the dataset into its features and target."
   ]
  },
  {
   "cell_type": "code",
   "execution_count": 4,
   "id": "2511eb75-9d7f-4ee6-a12a-659b05548f53",
   "metadata": {
    "deletable": false,
    "id": "2511eb75-9d7f-4ee6-a12a-659b05548f53",
    "nbgrader": {
     "cell_type": "code",
     "checksum": "d417cf52fc20c6c3e5c4743ca0c9d837",
     "grade": false,
     "grade_id": "cell-a7d5ba8f60bccb47",
     "locked": false,
     "schema_version": 3,
     "solution": true,
     "task": false
    }
   },
   "outputs": [],
   "source": [
    "# YOUR CODE HERE\n",
    "X = iris_df.iloc[:,0:4]\n",
    "Y = iris_df.iloc[:,4:]"
   ]
  },
  {
   "cell_type": "code",
   "execution_count": null,
   "id": "66d9c882-29d1-4068-858c-679abb3ed4bd",
   "metadata": {
    "deletable": false,
    "editable": false,
    "id": "66d9c882-29d1-4068-858c-679abb3ed4bd",
    "nbgrader": {
     "cell_type": "code",
     "checksum": "da114b505209a7eeccee3af6752489ac",
     "grade": true,
     "grade_id": "cell-9fb3d5d48ca9dad6",
     "locked": true,
     "points": 10,
     "schema_version": 3,
     "solution": false,
     "task": false
    }
   },
   "outputs": [],
   "source": []
  },
  {
   "cell_type": "markdown",
   "id": "da1a0bbc-a986-44de-9879-65040caaeb86",
   "metadata": {
    "deletable": false,
    "editable": false,
    "id": "da1a0bbc-a986-44de-9879-65040caaeb86",
    "nbgrader": {
     "cell_type": "markdown",
     "checksum": "313d6ddcc6a7abe70f8170f759a736c6",
     "grade": false,
     "grade_id": "cell-aec62e842e112565",
     "locked": true,
     "schema_version": 3,
     "solution": false,
     "task": false
    }
   },
   "source": [
    "# 2. Train\n",
    "\n",
    "We first split our X and Y datasets in two:\n",
    "1. Training set: this subset is used to train the model. It usually makes up 80% of the data;\n",
    "2. Testing set: this subset is used to test the model to see how it performs. It usually makes up 20% of the data.\n",
    "\n",
    "This is done for the features and the targets separately. It's important that the test data is not used to train the model because it could lead to memorizing the data.\n",
    "\n",
    "**Question 2.1.** First import sklearn's [train_test_split](https://scikit-learn.org/stable/modules/generated/sklearn.model_selection.train_test_split.html), then split the data into `X_train`, `X_test`. `Y_train`, and `Y_test` respectively. The parameter `test_size` sets the proportion of data for the testing subset (set to 0.2). The `random_state` parameter controls how much the data is shuffled before being split."
   ]
  },
  {
   "cell_type": "code",
   "execution_count": 5,
   "id": "27071f7f-1750-40a1-8780-df5a6df6ed7b",
   "metadata": {
    "deletable": false,
    "id": "27071f7f-1750-40a1-8780-df5a6df6ed7b",
    "nbgrader": {
     "cell_type": "code",
     "checksum": "084d7ce9725386afd589748889942809",
     "grade": true,
     "grade_id": "cell-cb98b994e6a03db1",
     "locked": false,
     "points": 15,
     "schema_version": 3,
     "solution": true,
     "task": false
    }
   },
   "outputs": [],
   "source": [
    "# YOUR CODE HERE\n",
    "from sklearn.model_selection import train_test_split\n",
    "X_train, X_test, Y_train, Y_test = train_test_split(\n",
    "    np.array(X), np.array(Y), test_size=0.2, random_state=42)"
   ]
  },
  {
   "cell_type": "markdown",
   "id": "1866035d-9a12-472a-9d20-b83c21a0f97a",
   "metadata": {
    "deletable": false,
    "editable": false,
    "id": "1866035d-9a12-472a-9d20-b83c21a0f97a",
    "nbgrader": {
     "cell_type": "markdown",
     "checksum": "97a4a19b2f1fb88385e7e959688c035c",
     "grade": false,
     "grade_id": "cell-3422c6248633c290",
     "locked": true,
     "schema_version": 3,
     "solution": false,
     "task": false
    }
   },
   "source": [
    "Let's first scale the features\n",
    "\n"
   ]
  },
  {
   "cell_type": "code",
   "execution_count": 6,
   "id": "e5d5ed0d-18bd-4ef3-8b2e-07dd5e1cbf13",
   "metadata": {
    "deletable": false,
    "id": "e5d5ed0d-18bd-4ef3-8b2e-07dd5e1cbf13",
    "nbgrader": {
     "cell_type": "code",
     "checksum": "17d89d4cad5c38bf55ae0caebadd97db",
     "grade": true,
     "grade_id": "cell-b521e8fae359af30",
     "locked": false,
     "points": 20,
     "schema_version": 3,
     "solution": true,
     "task": false
    }
   },
   "outputs": [],
   "source": [
    "# Scale features\n",
    "scaler = StandardScaler()\n",
    "X_train_scaled = scaler.fit_transform(X_train)\n",
    "X_test_scaled = scaler.transform(X_test)\n",
    "Y_train = Y_train.ravel()\n",
    "Y_test = Y_test.ravel()"
   ]
  },
  {
   "cell_type": "markdown",
   "id": "pnqug29MzMJu",
   "metadata": {
    "id": "pnqug29MzMJu"
   },
   "source": [
    "## Fit Random Forest model\n",
    "We use the sklearn function `RandomForestClassifer`to fit our random forest classifier.  Set the parameter `n_estimators` to 500. Assign your answer to `rf_model`."
   ]
  },
  {
   "cell_type": "code",
   "execution_count": 7,
   "id": "7e4ac9f0-a7ca-4469-bfa6-9652573ce8a4",
   "metadata": {
    "deletable": false,
    "id": "7e4ac9f0-a7ca-4469-bfa6-9652573ce8a4",
    "nbgrader": {
     "cell_type": "code",
     "checksum": "567e40045262b2cf77eab08b630ca939",
     "grade": true,
     "grade_id": "cell-71881d8cdf4fbfd3",
     "locked": false,
     "points": 5,
     "schema_version": 3,
     "solution": true,
     "task": false
    }
   },
   "outputs": [
    {
     "data": {
      "text/html": [
       "<style>#sk-container-id-1 {color: black;}#sk-container-id-1 pre{padding: 0;}#sk-container-id-1 div.sk-toggleable {background-color: white;}#sk-container-id-1 label.sk-toggleable__label {cursor: pointer;display: block;width: 100%;margin-bottom: 0;padding: 0.3em;box-sizing: border-box;text-align: center;}#sk-container-id-1 label.sk-toggleable__label-arrow:before {content: \"▸\";float: left;margin-right: 0.25em;color: #696969;}#sk-container-id-1 label.sk-toggleable__label-arrow:hover:before {color: black;}#sk-container-id-1 div.sk-estimator:hover label.sk-toggleable__label-arrow:before {color: black;}#sk-container-id-1 div.sk-toggleable__content {max-height: 0;max-width: 0;overflow: hidden;text-align: left;background-color: #f0f8ff;}#sk-container-id-1 div.sk-toggleable__content pre {margin: 0.2em;color: black;border-radius: 0.25em;background-color: #f0f8ff;}#sk-container-id-1 input.sk-toggleable__control:checked~div.sk-toggleable__content {max-height: 200px;max-width: 100%;overflow: auto;}#sk-container-id-1 input.sk-toggleable__control:checked~label.sk-toggleable__label-arrow:before {content: \"▾\";}#sk-container-id-1 div.sk-estimator input.sk-toggleable__control:checked~label.sk-toggleable__label {background-color: #d4ebff;}#sk-container-id-1 div.sk-label input.sk-toggleable__control:checked~label.sk-toggleable__label {background-color: #d4ebff;}#sk-container-id-1 input.sk-hidden--visually {border: 0;clip: rect(1px 1px 1px 1px);clip: rect(1px, 1px, 1px, 1px);height: 1px;margin: -1px;overflow: hidden;padding: 0;position: absolute;width: 1px;}#sk-container-id-1 div.sk-estimator {font-family: monospace;background-color: #f0f8ff;border: 1px dotted black;border-radius: 0.25em;box-sizing: border-box;margin-bottom: 0.5em;}#sk-container-id-1 div.sk-estimator:hover {background-color: #d4ebff;}#sk-container-id-1 div.sk-parallel-item::after {content: \"\";width: 100%;border-bottom: 1px solid gray;flex-grow: 1;}#sk-container-id-1 div.sk-label:hover label.sk-toggleable__label {background-color: #d4ebff;}#sk-container-id-1 div.sk-serial::before {content: \"\";position: absolute;border-left: 1px solid gray;box-sizing: border-box;top: 0;bottom: 0;left: 50%;z-index: 0;}#sk-container-id-1 div.sk-serial {display: flex;flex-direction: column;align-items: center;background-color: white;padding-right: 0.2em;padding-left: 0.2em;position: relative;}#sk-container-id-1 div.sk-item {position: relative;z-index: 1;}#sk-container-id-1 div.sk-parallel {display: flex;align-items: stretch;justify-content: center;background-color: white;position: relative;}#sk-container-id-1 div.sk-item::before, #sk-container-id-1 div.sk-parallel-item::before {content: \"\";position: absolute;border-left: 1px solid gray;box-sizing: border-box;top: 0;bottom: 0;left: 50%;z-index: -1;}#sk-container-id-1 div.sk-parallel-item {display: flex;flex-direction: column;z-index: 1;position: relative;background-color: white;}#sk-container-id-1 div.sk-parallel-item:first-child::after {align-self: flex-end;width: 50%;}#sk-container-id-1 div.sk-parallel-item:last-child::after {align-self: flex-start;width: 50%;}#sk-container-id-1 div.sk-parallel-item:only-child::after {width: 0;}#sk-container-id-1 div.sk-dashed-wrapped {border: 1px dashed gray;margin: 0 0.4em 0.5em 0.4em;box-sizing: border-box;padding-bottom: 0.4em;background-color: white;}#sk-container-id-1 div.sk-label label {font-family: monospace;font-weight: bold;display: inline-block;line-height: 1.2em;}#sk-container-id-1 div.sk-label-container {text-align: center;}#sk-container-id-1 div.sk-container {/* jupyter's `normalize.less` sets `[hidden] { display: none; }` but bootstrap.min.css set `[hidden] { display: none !important; }` so we also need the `!important` here to be able to override the default hidden behavior on the sphinx rendered scikit-learn.org. See: https://github.com/scikit-learn/scikit-learn/issues/21755 */display: inline-block !important;position: relative;}#sk-container-id-1 div.sk-text-repr-fallback {display: none;}</style><div id=\"sk-container-id-1\" class=\"sk-top-container\"><div class=\"sk-text-repr-fallback\"><pre>RandomForestClassifier(n_estimators=500, random_state=73)</pre><b>In a Jupyter environment, please rerun this cell to show the HTML representation or trust the notebook. <br />On GitHub, the HTML representation is unable to render, please try loading this page with nbviewer.org.</b></div><div class=\"sk-container\" hidden><div class=\"sk-item\"><div class=\"sk-estimator sk-toggleable\"><input class=\"sk-toggleable__control sk-hidden--visually\" id=\"sk-estimator-id-1\" type=\"checkbox\" checked><label for=\"sk-estimator-id-1\" class=\"sk-toggleable__label sk-toggleable__label-arrow\">RandomForestClassifier</label><div class=\"sk-toggleable__content\"><pre>RandomForestClassifier(n_estimators=500, random_state=73)</pre></div></div></div></div></div>"
      ],
      "text/plain": [
       "RandomForestClassifier(n_estimators=500, random_state=73)"
      ]
     },
     "execution_count": 7,
     "metadata": {},
     "output_type": "execute_result"
    }
   ],
   "source": [
    "# Train Random Forest model\n",
    "rf_model = RandomForestClassifier(n_estimators=500, random_state=73)\n",
    "rf_model.fit(X_train_scaled, Y_train)"
   ]
  },
  {
   "cell_type": "markdown",
   "id": "6e690034-4bb1-4cc7-953f-ca32b0dd50ae",
   "metadata": {
    "deletable": false,
    "editable": false,
    "id": "6e690034-4bb1-4cc7-953f-ca32b0dd50ae",
    "nbgrader": {
     "cell_type": "markdown",
     "checksum": "4ea56e2c2034b1d62d729d9e886ec1a5",
     "grade": false,
     "grade_id": "cell-b3a73f00ccae7045",
     "locked": true,
     "schema_version": 3,
     "solution": false,
     "task": false
    }
   },
   "source": [
    "# 3. Predicting and Assessing\n",
    "\n",
    "Now that we have our model, we can start making predictions on our iris data.\n",
    "\n",
    "**Question 3.1.** Use the `.predict` method to make predictions and assign your answer to `Y_pred`. Make sure you use the right feature subset (training vs. testing)!"
   ]
  },
  {
   "cell_type": "code",
   "execution_count": 8,
   "id": "66f1dc5f-2517-4516-956d-c26a353a633b",
   "metadata": {
    "deletable": false,
    "id": "66f1dc5f-2517-4516-956d-c26a353a633b",
    "nbgrader": {
     "cell_type": "code",
     "checksum": "c0900a530d400be927d06ebe6c99289c",
     "grade": true,
     "grade_id": "cell-9153f96c4e41e37f",
     "locked": false,
     "points": 5,
     "schema_version": 3,
     "solution": true,
     "task": false
    }
   },
   "outputs": [],
   "source": [
    "# YOUR CODE HERE\n",
    "Y_pred = rf_model.predict(X_test_scaled)"
   ]
  },
  {
   "cell_type": "markdown",
   "id": "ca470663-784e-4ac2-ba83-f6646058c23e",
   "metadata": {
    "deletable": false,
    "editable": false,
    "id": "ca470663-784e-4ac2-ba83-f6646058c23e",
    "nbgrader": {
     "cell_type": "markdown",
     "checksum": "ae8e806540aec0f1b1b0e123b92a485e",
     "grade": false,
     "grade_id": "cell-5402e5054b631f02",
     "locked": true,
     "schema_version": 3,
     "solution": false,
     "task": false
    }
   },
   "source": [
    "We print the X_test subset and Y_pred to better understand what's going on. X_test contains 30 random flowers and their metrics. Y_pred is an array of 30 predictions where 0 denotes setosa, 1 denotes versicolor, and 2 denotes verginica.\n",
    "\n"
   ]
  },
  {
   "cell_type": "markdown",
   "id": "LTIelO-ekKlY",
   "metadata": {
    "id": "LTIelO-ekKlY"
   },
   "source": [
    "## Explainations\n",
    "\n",
    "We first need to create the explainer from the lime module.\n"
   ]
  },
  {
   "cell_type": "code",
   "execution_count": 9,
   "id": "8H3rmlrlksBD",
   "metadata": {
    "id": "8H3rmlrlksBD"
   },
   "outputs": [],
   "source": [
    "explainer = lime.lime_tabular.LimeTabularExplainer(\n",
    "    X_train_scaled,\n",
    "    feature_names=X.columns,\n",
    "    class_names=iris.target_names,\n",
    "    mode='classification'\n",
    ")"
   ]
  },
  {
   "cell_type": "markdown",
   "id": "2B59PHUGnzzz",
   "metadata": {
    "id": "2B59PHUGnzzz"
   },
   "source": [
    "Now we choose an instance to explain, say the first one in the test set.   "
   ]
  },
  {
   "cell_type": "code",
   "execution_count": 10,
   "id": "ksekAXVvoo2P",
   "metadata": {
    "id": "ksekAXVvoo2P"
   },
   "outputs": [
    {
     "name": "stdout",
     "output_type": "stream",
     "text": [
      "[ 2.30486738 -1.0322392   1.8185001   1.49058286]\n"
     ]
    }
   ],
   "source": [
    "instance = X_test_scaled[2]\n",
    "print(instance)"
   ]
  },
  {
   "cell_type": "markdown",
   "id": "eISJHSjEoz_9",
   "metadata": {
    "id": "eISJHSjEoz_9"
   },
   "source": [
    "Generate an explanation, using say 4 features."
   ]
  },
  {
   "cell_type": "code",
   "execution_count": 11,
   "id": "DTbcuP14o1pZ",
   "metadata": {
    "id": "DTbcuP14o1pZ"
   },
   "outputs": [
    {
     "data": {
      "image/png": "[encoded data removed]",
      "text/plain": [
       "<Figure size 640x480 with 1 Axes>"
      ]
     },
     "metadata": {},
     "output_type": "display_data"
    },
    {
     "name": "stdout",
     "output_type": "stream",
     "text": [
      "[('petal length (cm) > 0.79', -0.24714229371873678), ('petal width (cm) > 0.82', -0.20195387012723878), ('sepal width (cm) <= -0.59', -0.02810009038152405), ('sepal length (cm) > 0.72', -0.0012785076024144097)]\n"
     ]
    }
   ],
   "source": [
    "exp = explainer.explain_instance(instance, rf_model.predict_proba, num_features=4)\n",
    "\n",
    "# Visualize explanation\n",
    "exp.as_pyplot_figure()\n",
    "plt.show()\n",
    "\n",
    "# Print feature importance\n",
    "print(exp.as_list())"
   ]
  },
  {
   "cell_type": "markdown",
   "id": "_iwxUnB-0b0g",
   "metadata": {
    "id": "_iwxUnB-0b0g"
   },
   "source": [
    "**Question 3.2**\n",
    "Write an explanation for what you see in the visulatization"
   ]
  },
  {
   "cell_type": "markdown",
   "id": "7eeaf702",
   "metadata": {},
   "source": [
    "We can see that having the petal length greater than 0.79 affects the classification on a greatly. It decreases the probability that the flower is versicolor, since the weight is negative and has big magnitude. Simiarly, having petal width > 0.82 cm also decreases the probability that the flower is versicolor. Having sepal width less than or equal to 0.59 or having sepal length > 0.72 also negatively effects the probability, decreasing the chance for the flower to be classified in the given class, however the affect is less since the magnitude of the weight is lower."
   ]
  },
  {
   "cell_type": "markdown",
   "id": "qY-yTHbd0kPH",
   "metadata": {
    "id": "qY-yTHbd0kPH"
   },
   "source": [
    "**Question 3.3** Now get an explanation for another instance and write an explanation of what you see in the visualization."
   ]
  },
  {
   "cell_type": "code",
   "execution_count": 12,
   "id": "087a5376",
   "metadata": {},
   "outputs": [
    {
     "data": {
      "image/png": "[encoded data removed]",
      "text/plain": [
       "<Figure size 640x480 with 1 Axes>"
      ]
     },
     "metadata": {},
     "output_type": "display_data"
    },
    {
     "name": "stdout",
     "output_type": "stream",
     "text": [
      "[('0.30 < petal length (cm) <= 0.79', 0.23033038382841853), ('0.16 < petal width (cm) <= 0.82', 0.1951567524695144), ('-0.14 < sepal width (cm) <= 0.76', 0.026388482302128712), ('-0.07 < sepal length (cm) <= 0.72', 0.015969672748278423)]\n"
     ]
    }
   ],
   "source": [
    "instance = X_test_scaled[15]\n",
    "exp = explainer.explain_instance(instance, rf_model.predict_proba, num_features=4)\n",
    "exp.as_pyplot_figure()\n",
    "plt.show()\n",
    "print(exp.as_list())"
   ]
  },
  {
   "cell_type": "markdown",
   "id": "095e1a46",
   "metadata": {},
   "source": [
    "As we can see, having a petal length between 0.3 and 0.79, and having petal width between 0.16 and 0.82 increase the chance that the flower is versicolor, since the magnitude of the weight is a high positive (0.237 and 0.18 respectively). Similarly, having sepal length between -0.07 and 0.72, and sepal width between -0.14 and 0.76 also increases the chance of the flower being classified as versicolor, except for the fact that it has a smaller contribution since the weight is less in magnitude (only 0.0255 and )"
   ]
  },
  {
   "cell_type": "markdown",
   "id": "5360de4e-aa72-412c-b322-c588eec53490",
   "metadata": {
    "deletable": false,
    "editable": false,
    "id": "5360de4e-aa72-412c-b322-c588eec53490",
    "nbgrader": {
     "cell_type": "markdown",
     "checksum": "66f9b5c1769bcc6c11950ae49c7b4ebd",
     "grade": false,
     "grade_id": "cell-8629210e98202357",
     "locked": true,
     "schema_version": 3,
     "solution": false,
     "task": false
    }
   },
   "source": [
    "# Rubric\n",
    "\n",
    "| Question | Points|\n",
    "|----------|----------|\n",
    "| 1.1.    | 10   |\n",
    "| 2.1.    | 15   |\n",
    "| 3.1.    | 5   |\n",
    "| 3.2.    | 15   |\n",
    "| 3.3.    | 15   |\n",
    "\n",
    "| Total:    | 60   |"
   ]
  },
  {
   "cell_type": "code",
   "execution_count": null,
   "id": "UkbXHIzmVszR",
   "metadata": {
    "id": "UkbXHIzmVszR"
   },
   "outputs": [],
   "source": []
  }
 ],
 "metadata": {
  "colab": {
   "provenance": []
  },
  "kernelspec": {
   "display_name": "Python 3",
   "language": "python",
   "name": "python3"
  },
  "language_info": {
   "codemirror_mode": {
    "name": "ipython",
    "version": 3
   },
   "file_extension": ".py",
   "mimetype": "text/x-python",
   "name": "python",
   "nbconvert_exporter": "python",
   "pygments_lexer": "ipython3",
   "version": "3.9.6"
  }
 },
 "nbformat": 4,
 "nbformat_minor": 5
}
