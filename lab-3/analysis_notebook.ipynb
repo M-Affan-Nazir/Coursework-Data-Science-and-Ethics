{
  "cells": [
    {
      "cell_type": "markdown",
      "metadata": {
        "deletable": false,
        "editable": false,
        "id": "B0MkdUIPFAvT",
        "nbgrader": {
          "cell_type": "markdown",
          "checksum": "063009415b8ed3a123ecea0931bcae38",
          "grade": false,
          "grade_id": "cell-72f3550ab325cb1e",
          "locked": true,
          "schema_version": 3,
          "solution": false,
          "task": false
        }
      },
      "source": [
        "# Lab 3: Data Science Basics"
      ]
    },
    {
      "cell_type": "markdown",
      "metadata": {
        "id": "PTwE3f9S_Kta"
      },
      "source": [
        "***\n",
        "- **FIRST name**: Muhammad Affan\n",
        "- **LAST name**: Nazir\n",
        "- **Student ID**: 1807593\n",
        "\n",
        "Leave blank if individual:\n",
        "- **Collaborator names**:\n",
        "- **Collaborator student IDs**:\n",
        "***"
      ]
    },
    {
      "cell_type": "markdown",
      "metadata": {
        "deletable": false,
        "editable": false,
        "nbgrader": {
          "cell_type": "markdown",
          "checksum": "2b520a195734fbfc0108dada47b8573c",
          "grade": false,
          "grade_id": "cell-ccfb1277e672a64a",
          "locked": true,
          "schema_version": 3,
          "solution": false,
          "task": false
        },
        "id": "hDCCKiyZ_Kta"
      },
      "source": [
        "In today's lab, you will learn how to:\n",
        "\n",
        "1.   define and call functions;\n",
        "2.   visualize data;\n",
        "3.   use NumPy and Pandas to simulate randomness and probabilities.\n",
        "\n",
        "For this lab, you will need three datasets: <code>imdb.csv</code>, <code>canada_population.csv</code>, and <code>exam_scores.csv</code>.\n",
        "\n",
        "### Instructions\n",
        "<!-- **Deadline.**  This assignment is due at ****.  Please check the syllabus for late submissions. -->\n",
        "You are expected to write clear, detailed, and complete answers when analysing your data. Lack of this may result in point deductions.\n",
        "\n",
        "**Reminder.** You must submit your own work.  The collaboration policy for the assignments is Consultation Collaboration. You may verbally discuss concepts with your classmates, without exchanging written text, code, or detailed advice.  You must develop your own solution and submit your own work.  All sources of information used including books, websites, students you talked to, must be cited in the submission.  Please see the course FAQ document for details on this collaboration policy.  We will adhere to current Faculty of Science guidelines on dealing with suspected cases of plagiarism.\n",
        "\n",
        "You must use this notebook to complete your assignment. You will execute the questions in the notebook. The questions might ask for a short answer in text form or for you to write and execute a piece of code. Make sure you enter your answer in either case only in the cell provided. Do not use a different cell and do not create a new cell. Creating new cells for your code is not compatible with the auto-grading system we are using and thus your assignment will not get grading properly and you will lose marks for that question.\n",
        "\n",
        "Your submitted notebook should run on our local installation.  So if you are importing packages not listed in the notebook or using local data files not included in the assignment package, make sure the notebook is self-contained with a requirements.txt file or cells in the notebook itself to install the extra packages.  If we cannot run your notebook, you will lose 50% of the marks, and any additional marks that may be lost due to wrong answers.\n",
        "\n",
        "### Submission Instructions\n",
        "When you are done, you will submit your work from the notebook. Make sure to save your notebook before running it, and then submit on Canvas the notebook file with your work completed.\n",
        "\n",
        "**IMPORTANT: Name your file with your *Student ID number* and the assignment number (ex: 1234567_L3.ipynb). Failure to do so will result in a zero!**"
      ]
    },
    {
      "cell_type": "markdown",
      "metadata": {
        "deletable": false,
        "editable": false,
        "id": "809zttoWFyaU",
        "nbgrader": {
          "cell_type": "markdown",
          "checksum": "48906bc72278d820f85274d2547f24d4",
          "grade": false,
          "grade_id": "cell-9942ebc489e49cad",
          "locked": true,
          "schema_version": 3,
          "solution": false,
          "task": false
        }
      },
      "source": [
        "# 1. Functions\n",
        "\n",
        "In the first lab, we learned that Python has built in functions, such as <code>abs</code> and <code>max</code> that make writing code easier. We can also write our own functions that we can call later in our code.  \n",
        "\n"
      ]
    },
    {
      "cell_type": "markdown",
      "metadata": {
        "deletable": false,
        "editable": false,
        "id": "UskVQRaEVclA",
        "nbgrader": {
          "cell_type": "markdown",
          "checksum": "e4d620b5425c7b8cc879685fa3e6513b",
          "grade": false,
          "grade_id": "cell-646804322006281d",
          "locked": true,
          "schema_version": 3,
          "solution": false,
          "task": false
        }
      },
      "source": [
        "<p> Let's make a function that adds two numbers. To do this, we have to understand the different parts of a function: </p>\n",
        "\n",
        "#### <code>def</code>\n",
        "Functions always start with <code>def</code> (short for **def**ine):\n",
        "\n",
        "> def\n",
        "\n",
        "#### Name\n",
        "The name is what we want to call our function. The same rules that apply to naming variables apply to naming functions. Let's name our function <code>number_sum</code>.\n",
        "\n",
        ">def number_sum\n",
        "\n",
        "#### Signature\n",
        "The signature tells Python how many arguments your function has and what names you'll refer to those arguments in the function's code. A function can have any number of arguments and are always inclosed with round brackets. <code>number_sum</code> should take in two arguments, which we'll name <code>a</code> and <code>b</code>.\n",
        "\n",
        ">def number_sum(a, b)\n",
        "\n",
        "The arguments are always followed by a colon. This tells Python that the next lines are the body of the function. Python automatically indents these lines for us.\n",
        "\n",
        ">def number_sum(a, b):\n",
        "\n",
        "#### Body\n",
        "\n",
        "The body contains the code that will be run when the function is called. Every line in the body must be indented or else it will not be considered a part of the function. When writing the body of a function, we generally only use the variables in the signature; if we want to use a variable outside of the function, we should define it in the signature!\n",
        "\n",
        "<p> Finally, it's useful to include some documentation that describes what the function does. This makes it easier for others who are reading our code to understand what we're doing. Documentation usually uses a triple-quoted string. </p>\n",
        "\n",
        ">def number_sum(a, b):\n",
        ">>\"\"\"Sums numbers a and b\"\"\"\n",
        ">><p> two_sum = a + b </p>\n",
        "\n",
        "#### <code>return</code>\n",
        "If you expect your function to return a value, then the last line of your body should always be a <code>return</code> statement. Once Python encounters a <code>return</code>, it stops executing the code in the function, so it makes sense to only have it at the end. If your function does not have a <code>return</code> statement, it will not return anything.\n",
        "\n",
        ">def number_sum(a, b):\n",
        ">>\"\"\"Sums numbers a and b\"\"\"\n",
        ">><p> two_sum = a + b </p>\n",
        ">> <p> return two_sum </p>\n",
        "\n",
        "**Note**: If we don't use a <code>return</code> in our function, there are other statements we can use, such as the <code>print</code> statement. If we use <code>print</code>, the value will be printed to the console. <code>return</code> and <code>print</code> are **very** different: the value that is passed to <code>print</code> cannot be used outside of the function."
      ]
    },
    {
      "cell_type": "markdown",
      "metadata": {
        "deletable": false,
        "editable": false,
        "id": "rxAv4-N6e0e4",
        "nbgrader": {
          "cell_type": "markdown",
          "checksum": "0eae020152bd0cbc6b16ecd549ebdb38",
          "grade": false,
          "grade_id": "cell-9b49938fac533723",
          "locked": true,
          "schema_version": 3,
          "solution": false,
          "task": false
        }
      },
      "source": [
        "<p> Let's go through an example of calling our function: </p>\n",
        "\n",
        "<p> If we call <code>number_sum(1, 2)</code>, the argument <code>a</code> in our signature will be assigned to 1, while the argument <code>b</code> in our signature will be assigned to 2. </p>\n",
        "\n",
        "<p> Our definition will be ignored since it's in quotes. Next, the expression <code>two_sum = a + b</code> will be evaluated as <code>two_sum = 1 + 2</code>. </p>\n",
        "\n",
        "Finally, the value of <code>two_sum</code> will be returned, which is three. Once the <code>return</code> statement is finished, Python will stop executing the code inside the function block and will resume executing any other code that we may have."
      ]
    },
    {
      "cell_type": "markdown",
      "metadata": {
        "deletable": false,
        "editable": false,
        "id": "DGWEozqNg4qr",
        "nbgrader": {
          "cell_type": "markdown",
          "checksum": "e26fe058c462b40efef972f22598b3c3",
          "grade": false,
          "grade_id": "cell-8cc030641438683a",
          "locked": true,
          "schema_version": 3,
          "solution": false,
          "task": false
        }
      },
      "source": [
        "**Question 1.1.** Define <code>number_sum</code> in the cell below. Instead of summing two numbers, the signature will include a third number called <code>c</code>. Change the body of the function so that it adds three numbers instead of two."
      ]
    },
    {
      "cell_type": "code",
      "execution_count": 7,
      "metadata": {
        "deletable": false,
        "id": "dE8aacdVVbuX",
        "nbgrader": {
          "cell_type": "code",
          "checksum": "db69d35c1a94dee49bec12a09dad8388",
          "grade": false,
          "grade_id": "cell-ccd7821a44181df1",
          "locked": false,
          "schema_version": 3,
          "solution": true,
          "task": false
        }
      },
      "outputs": [],
      "source": [
        "def number_sum(a, b, c):\n",
        "    # YOUR CODE HERE\n",
        "    three_sum = a + b + c\n",
        "    return three_sum"
      ]
    },
    {
      "cell_type": "markdown",
      "metadata": {
        "deletable": false,
        "editable": false,
        "nbgrader": {
          "cell_type": "markdown",
          "checksum": "3e3182a7071bcd71280704c6859ec041",
          "grade": false,
          "grade_id": "cell-8d46afef15a617d6",
          "locked": true,
          "schema_version": 3,
          "solution": false,
          "task": false
        },
        "id": "HSaibh4__Ktc"
      },
      "source": [
        "Run the cell below to test your function. The built-in function <code>assert</code> checks to see the the return value of your function is correct. You will get an error message if your function is wrong. If your function is correct, you shouldn't get any output. There are hidden tests to check other cases so don't hardcode the answer!"
      ]
    },
    {
      "cell_type": "code",
      "execution_count": 8,
      "metadata": {
        "deletable": false,
        "editable": false,
        "nbgrader": {
          "cell_type": "code",
          "checksum": "60e5fec953ebd6146c1382a3e5b994b5",
          "grade": true,
          "grade_id": "cell-755112490b73536f",
          "locked": true,
          "points": 8,
          "schema_version": 3,
          "solution": false,
          "task": false
        },
        "id": "qMWas8kv_Ktc"
      },
      "outputs": [],
      "source": [
        "#TEST CELL: do not delete!\n",
        "### TESTS\n",
        "assert(number_sum(5, 7, 10) == 22)"
      ]
    },
    {
      "cell_type": "markdown",
      "metadata": {
        "deletable": false,
        "editable": false,
        "id": "p8R6IuE7h38O",
        "nbgrader": {
          "cell_type": "markdown",
          "checksum": "f3eb55173130cd2ef59c8f77780f35c5",
          "grade": false,
          "grade_id": "cell-2ca7d53876b604f1",
          "locked": true,
          "schema_version": 3,
          "solution": false,
          "task": false
        }
      },
      "source": [
        "You can use built-in functions (abs, min, etc) just like you did in previous labs."
      ]
    },
    {
      "cell_type": "markdown",
      "metadata": {
        "deletable": false,
        "editable": false,
        "id": "UVE3V4imjRqW",
        "nbgrader": {
          "cell_type": "markdown",
          "checksum": "4fe1e4b69eb254beea3a056920533933",
          "grade": false,
          "grade_id": "cell-1852eb4b9eff877d",
          "locked": true,
          "schema_version": 3,
          "solution": false,
          "task": false
        }
      },
      "source": [
        "**Question 1.2.** Suppose you have three sets of numbers and you want to add the smallest number of each set together. Use the <code>min</code> function and your function defined above to compute this. Assign your answer to <code>set_sum</code>.\n",
        "\n",
        "*Hint* : start by finding the smallest number in each set, then call the function you made above. </p>\n",
        "*Note* : you do not have to re-define <code>number_sum</code>! Like other variables, functions don't go away after you define them.</p>\n"
      ]
    },
    {
      "cell_type": "code",
      "execution_count": 9,
      "metadata": {
        "deletable": false,
        "id": "PrsQb9EojQqe",
        "nbgrader": {
          "cell_type": "code",
          "checksum": "dc92cfe201fb8583b62c61c8c5c4a222",
          "grade": false,
          "grade_id": "cell-e77e70da0d46f716",
          "locked": false,
          "schema_version": 3,
          "solution": true,
          "task": false
        },
        "colab": {
          "base_uri": "https://localhost:8080/"
        },
        "outputId": "68c98f3a-2312-4179-de15-3376451c193c"
      },
      "outputs": [
        {
          "output_type": "execute_result",
          "data": {
            "text/plain": [
              "23"
            ]
          },
          "metadata": {},
          "execution_count": 9
        }
      ],
      "source": [
        "set1 = (62, 4, 79, 6)\n",
        "set2 = (23, 54, 16, 11)\n",
        "set3 = (100, 45, 8, 15)\n",
        "\n",
        "# YOUR CODE HERE\n",
        "set_sum = number_sum(min(set1),min(set2),min(set3))\n",
        "set_sum"
      ]
    },
    {
      "cell_type": "code",
      "execution_count": null,
      "metadata": {
        "deletable": false,
        "editable": false,
        "nbgrader": {
          "cell_type": "code",
          "checksum": "c030b25a1029ad732dc40758742f0214",
          "grade": true,
          "grade_id": "cell-4ccef097905a1de6",
          "locked": true,
          "points": 8,
          "schema_version": 3,
          "solution": false,
          "task": false
        },
        "id": "SdoWPi7F_Ktd"
      },
      "outputs": [],
      "source": [
        "#TEST CELL: do not delete!"
      ]
    },
    {
      "cell_type": "markdown",
      "metadata": {
        "deletable": false,
        "editable": false,
        "id": "2AN3B_GIwaa8",
        "nbgrader": {
          "cell_type": "markdown",
          "checksum": "9418be441fcf914a92ebe92205105bda",
          "grade": false,
          "grade_id": "cell-13b8b5b327d377a1",
          "locked": true,
          "schema_version": 3,
          "solution": false,
          "task": false
        }
      },
      "source": [
        "Some more notes about functions:\n",
        "\n",
        "*   The names defined within a function body are only accessible within the function. Once the function is finished executing, every variable that was defined no longer exists. For example, the variable <code>two_sum</code> that we defined above is not accessible outside the function (unless we return it).\n",
        "*   Functions can also take strings, arrays, or tables as arguments and can return them too.\n",
        "\n",
        "\n"
      ]
    },
    {
      "cell_type": "markdown",
      "metadata": {
        "deletable": false,
        "editable": false,
        "id": "KjDguOznB0wW",
        "nbgrader": {
          "cell_type": "markdown",
          "checksum": "b77fc03954ac3db6f27db4ba8fd25d07",
          "grade": false,
          "grade_id": "cell-36629bd211f699b6",
          "locked": true,
          "schema_version": 3,
          "solution": false,
          "task": false
        }
      },
      "source": [
        "## 1.1. Functions and tables\n",
        "\n",
        "We will now write a function that uses the imdb.csv dataset. Run the cell below."
      ]
    },
    {
      "cell_type": "code",
      "execution_count": 11,
      "metadata": {
        "deletable": false,
        "editable": false,
        "id": "lGjhLV-1kd7q",
        "nbgrader": {
          "cell_type": "code",
          "checksum": "b8ad801c9711b519b8fdba7d399ba398",
          "grade": false,
          "grade_id": "cell-eaf7a963dd481a8c",
          "locked": true,
          "schema_version": 3,
          "solution": false,
          "task": false
        }
      },
      "outputs": [],
      "source": [
        "import pandas as pd\n",
        "import numpy as np\n",
        "\n",
        "movies = pd.read_csv(\"imdb.csv\")"
      ]
    },
    {
      "cell_type": "markdown",
      "metadata": {
        "deletable": false,
        "editable": false,
        "id": "Kby5tdWNCiXZ",
        "nbgrader": {
          "cell_type": "markdown",
          "checksum": "75be9dde76d4bd24e0d50e06d977d1e6",
          "grade": false,
          "grade_id": "cell-3824c9eb93395855",
          "locked": true,
          "schema_version": 3,
          "solution": false,
          "task": false
        }
      },
      "source": [
        "Suppose we want sort the list of movies by alphabetical order and return the first one for a specific year, say 1992. You might write something like this:"
      ]
    },
    {
      "cell_type": "code",
      "execution_count": 12,
      "metadata": {
        "deletable": false,
        "editable": false,
        "id": "NuCJtdSeCccj",
        "nbgrader": {
          "cell_type": "code",
          "checksum": "8242b60133dfaf3c8e9171f9b709e671",
          "grade": false,
          "grade_id": "cell-a96b29ad03b18e0f",
          "locked": true,
          "schema_version": 3,
          "solution": false,
          "task": false
        },
        "colab": {
          "base_uri": "https://localhost:8080/",
          "height": 586
        },
        "outputId": "51d70032-3e20-448c-ce11-4a6cefb7e655"
      },
      "outputs": [
        {
          "output_type": "execute_result",
          "data": {
            "text/plain": [
              "Poster_Link      https://m.media-amazon.com/images/M/MV5BMmRlZD...\n",
              "Series_Title                                        A Few Good Men\n",
              "Released_Year                                                 1992\n",
              "Certificate                                                      U\n",
              "Runtime                                                    138 min\n",
              "Genre                                              Drama, Thriller\n",
              "IMDB_Rating                                                    7.7\n",
              "Overview         Military lawyer Lieutenant Daniel Kaffee defen...\n",
              "Meta_score                                                    62.0\n",
              "Director                                                Rob Reiner\n",
              "Star1                                                   Tom Cruise\n",
              "Star2                                               Jack Nicholson\n",
              "Star3                                                   Demi Moore\n",
              "Star4                                                  Kevin Bacon\n",
              "No_of_Votes                                                 235388\n",
              "Gross                                                  141,340,178\n",
              "Name: 824, dtype: object"
            ],
            "text/html": [
              "<div>\n",
              "<style scoped>\n",
              "    .dataframe tbody tr th:only-of-type {\n",
              "        vertical-align: middle;\n",
              "    }\n",
              "\n",
              "    .dataframe tbody tr th {\n",
              "        vertical-align: top;\n",
              "    }\n",
              "\n",
              "    .dataframe thead th {\n",
              "        text-align: right;\n",
              "    }\n",
              "</style>\n",
              "<table border=\"1\" class=\"dataframe\">\n",
              "  <thead>\n",
              "    <tr style=\"text-align: right;\">\n",
              "      <th></th>\n",
              "      <th>824</th>\n",
              "    </tr>\n",
              "  </thead>\n",
              "  <tbody>\n",
              "    <tr>\n",
              "      <th>Poster_Link</th>\n",
              "      <td>https://m.media-amazon.com/images/M/MV5BMmRlZD...</td>\n",
              "    </tr>\n",
              "    <tr>\n",
              "      <th>Series_Title</th>\n",
              "      <td>A Few Good Men</td>\n",
              "    </tr>\n",
              "    <tr>\n",
              "      <th>Released_Year</th>\n",
              "      <td>1992</td>\n",
              "    </tr>\n",
              "    <tr>\n",
              "      <th>Certificate</th>\n",
              "      <td>U</td>\n",
              "    </tr>\n",
              "    <tr>\n",
              "      <th>Runtime</th>\n",
              "      <td>138 min</td>\n",
              "    </tr>\n",
              "    <tr>\n",
              "      <th>Genre</th>\n",
              "      <td>Drama, Thriller</td>\n",
              "    </tr>\n",
              "    <tr>\n",
              "      <th>IMDB_Rating</th>\n",
              "      <td>7.7</td>\n",
              "    </tr>\n",
              "    <tr>\n",
              "      <th>Overview</th>\n",
              "      <td>Military lawyer Lieutenant Daniel Kaffee defen...</td>\n",
              "    </tr>\n",
              "    <tr>\n",
              "      <th>Meta_score</th>\n",
              "      <td>62.0</td>\n",
              "    </tr>\n",
              "    <tr>\n",
              "      <th>Director</th>\n",
              "      <td>Rob Reiner</td>\n",
              "    </tr>\n",
              "    <tr>\n",
              "      <th>Star1</th>\n",
              "      <td>Tom Cruise</td>\n",
              "    </tr>\n",
              "    <tr>\n",
              "      <th>Star2</th>\n",
              "      <td>Jack Nicholson</td>\n",
              "    </tr>\n",
              "    <tr>\n",
              "      <th>Star3</th>\n",
              "      <td>Demi Moore</td>\n",
              "    </tr>\n",
              "    <tr>\n",
              "      <th>Star4</th>\n",
              "      <td>Kevin Bacon</td>\n",
              "    </tr>\n",
              "    <tr>\n",
              "      <th>No_of_Votes</th>\n",
              "      <td>235388</td>\n",
              "    </tr>\n",
              "    <tr>\n",
              "      <th>Gross</th>\n",
              "      <td>141,340,178</td>\n",
              "    </tr>\n",
              "  </tbody>\n",
              "</table>\n",
              "</div><br><label><b>dtype:</b> object</label>"
            ]
          },
          "metadata": {},
          "execution_count": 12
        }
      ],
      "source": [
        "movies_1992 = movies[movies[\"Released_Year\"] == 1992]\n",
        "sorted_movies_1992 = movies_1992.sort_values(by='Series_Title')\n",
        "first_alphabetical_movie_1992 = sorted_movies_1992.iloc[0]\n",
        "\n",
        "hardcode_1992 = first_alphabetical_movie_1992\n",
        "hardcode_1992"
      ]
    },
    {
      "cell_type": "markdown",
      "metadata": {
        "deletable": false,
        "editable": false,
        "id": "XdzJzCGuF3N8",
        "nbgrader": {
          "cell_type": "markdown",
          "checksum": "d3ed99a40691b732de281335b8bbb6c8",
          "grade": false,
          "grade_id": "cell-c8d1b237a6428ae4",
          "locked": true,
          "schema_version": 3,
          "solution": false,
          "task": false
        }
      },
      "source": [
        "Note that <code>.iloc[0]</code> selects the first row of the data frame <code>sorted_movies_1992</code>. You can read more about <code>.iloc()</code> and <code>.loc()</code> [here](https://www.geeksforgeeks.org/difference-between-loc-and-iloc-in-pandas-dataframe/)."
      ]
    },
    {
      "cell_type": "markdown",
      "metadata": {
        "deletable": false,
        "editable": false,
        "id": "g99lETzuFegm",
        "nbgrader": {
          "cell_type": "markdown",
          "checksum": "b264ba4b874e6535dbfe4d1ed73435f7",
          "grade": false,
          "grade_id": "cell-497fc544b2e9aac9",
          "locked": true,
          "schema_version": 3,
          "solution": false,
          "task": false
        }
      },
      "source": [
        "You might want to repeat this for multiple different years. However, it doesn't make sense to rewrite the same code multiple times, so instead you write a function."
      ]
    },
    {
      "cell_type": "markdown",
      "metadata": {
        "deletable": false,
        "editable": false,
        "id": "TUlAZMcKGMIe",
        "nbgrader": {
          "cell_type": "markdown",
          "checksum": "63aa7572ec902b56fd4d2570d3f1fafe",
          "grade": false,
          "grade_id": "cell-17e26f11fc2b6626",
          "locked": true,
          "schema_version": 3,
          "solution": false,
          "task": false
        }
      },
      "source": [
        "**Question 1.1.1.** Write a function called <code>print_first_alphabetical_movie</code> that takes the year as its single argument."
      ]
    },
    {
      "cell_type": "code",
      "execution_count": 20,
      "metadata": {
        "deletable": false,
        "id": "r1oxrYnbDei7",
        "nbgrader": {
          "cell_type": "code",
          "checksum": "6a241e57ea0aed660b10bb70877dafea",
          "grade": false,
          "grade_id": "cell-e011ed88e35bca7f",
          "locked": false,
          "schema_version": 3,
          "solution": true,
          "task": false
        },
        "colab": {
          "base_uri": "https://localhost:8080/",
          "height": 586
        },
        "outputId": "aaf3837c-459e-4e80-8279-6df06802d5c4"
      },
      "outputs": [
        {
          "output_type": "execute_result",
          "data": {
            "text/plain": [
              "Poster_Link      https://m.media-amazon.com/images/M/MV5BMmRlZD...\n",
              "Series_Title                                        A Few Good Men\n",
              "Released_Year                                                 1992\n",
              "Certificate                                                      U\n",
              "Runtime                                                    138 min\n",
              "Genre                                              Drama, Thriller\n",
              "IMDB_Rating                                                    7.7\n",
              "Overview         Military lawyer Lieutenant Daniel Kaffee defen...\n",
              "Meta_score                                                    62.0\n",
              "Director                                                Rob Reiner\n",
              "Star1                                                   Tom Cruise\n",
              "Star2                                               Jack Nicholson\n",
              "Star3                                                   Demi Moore\n",
              "Star4                                                  Kevin Bacon\n",
              "No_of_Votes                                                 235388\n",
              "Gross                                                  141,340,178\n",
              "Name: 824, dtype: object"
            ],
            "text/html": [
              "<div>\n",
              "<style scoped>\n",
              "    .dataframe tbody tr th:only-of-type {\n",
              "        vertical-align: middle;\n",
              "    }\n",
              "\n",
              "    .dataframe tbody tr th {\n",
              "        vertical-align: top;\n",
              "    }\n",
              "\n",
              "    .dataframe thead th {\n",
              "        text-align: right;\n",
              "    }\n",
              "</style>\n",
              "<table border=\"1\" class=\"dataframe\">\n",
              "  <thead>\n",
              "    <tr style=\"text-align: right;\">\n",
              "      <th></th>\n",
              "      <th>824</th>\n",
              "    </tr>\n",
              "  </thead>\n",
              "  <tbody>\n",
              "    <tr>\n",
              "      <th>Poster_Link</th>\n",
              "      <td>https://m.media-amazon.com/images/M/MV5BMmRlZD...</td>\n",
              "    </tr>\n",
              "    <tr>\n",
              "      <th>Series_Title</th>\n",
              "      <td>A Few Good Men</td>\n",
              "    </tr>\n",
              "    <tr>\n",
              "      <th>Released_Year</th>\n",
              "      <td>1992</td>\n",
              "    </tr>\n",
              "    <tr>\n",
              "      <th>Certificate</th>\n",
              "      <td>U</td>\n",
              "    </tr>\n",
              "    <tr>\n",
              "      <th>Runtime</th>\n",
              "      <td>138 min</td>\n",
              "    </tr>\n",
              "    <tr>\n",
              "      <th>Genre</th>\n",
              "      <td>Drama, Thriller</td>\n",
              "    </tr>\n",
              "    <tr>\n",
              "      <th>IMDB_Rating</th>\n",
              "      <td>7.7</td>\n",
              "    </tr>\n",
              "    <tr>\n",
              "      <th>Overview</th>\n",
              "      <td>Military lawyer Lieutenant Daniel Kaffee defen...</td>\n",
              "    </tr>\n",
              "    <tr>\n",
              "      <th>Meta_score</th>\n",
              "      <td>62.0</td>\n",
              "    </tr>\n",
              "    <tr>\n",
              "      <th>Director</th>\n",
              "      <td>Rob Reiner</td>\n",
              "    </tr>\n",
              "    <tr>\n",
              "      <th>Star1</th>\n",
              "      <td>Tom Cruise</td>\n",
              "    </tr>\n",
              "    <tr>\n",
              "      <th>Star2</th>\n",
              "      <td>Jack Nicholson</td>\n",
              "    </tr>\n",
              "    <tr>\n",
              "      <th>Star3</th>\n",
              "      <td>Demi Moore</td>\n",
              "    </tr>\n",
              "    <tr>\n",
              "      <th>Star4</th>\n",
              "      <td>Kevin Bacon</td>\n",
              "    </tr>\n",
              "    <tr>\n",
              "      <th>No_of_Votes</th>\n",
              "      <td>235388</td>\n",
              "    </tr>\n",
              "    <tr>\n",
              "      <th>Gross</th>\n",
              "      <td>141,340,178</td>\n",
              "    </tr>\n",
              "  </tbody>\n",
              "</table>\n",
              "</div><br><label><b>dtype:</b> object</label>"
            ]
          },
          "metadata": {},
          "execution_count": 20
        }
      ],
      "source": [
        "# YOUR CODE HERE\n",
        "def print_first_alphabetical_movie(year):\n",
        "  import pandas as pd\n",
        "  import numpy as np\n",
        "\n",
        "  movies = pd.read_csv(\"imdb.csv\")\n",
        "  movies = movies[movies[\"Released_Year\"] == year]\n",
        "  sorted_movies = movies.sort_values(by='Series_Title')\n",
        "  first_alphabetical_movie = sorted_movies.iloc[0]\n",
        "  return first_alphabetical_movie\n",
        "\n",
        "# the code below makes a call to the function for the year 1992\n",
        "function_1992 = print_first_alphabetical_movie(1992)\n",
        "function_1992"
      ]
    },
    {
      "cell_type": "markdown",
      "metadata": {
        "deletable": false,
        "editable": false,
        "nbgrader": {
          "cell_type": "markdown",
          "checksum": "6d2f6c49a976bad802bb42b75e454a81",
          "grade": false,
          "grade_id": "cell-5cf591c5d9a8d95d",
          "locked": true,
          "schema_version": 3,
          "solution": false,
          "task": false
        },
        "id": "GiU2ZtOe_Kte"
      },
      "source": [
        "The cell below tests to see if the title of the movie matches of the function matches the hardcoded version above."
      ]
    },
    {
      "cell_type": "code",
      "execution_count": 27,
      "metadata": {
        "deletable": false,
        "editable": false,
        "nbgrader": {
          "cell_type": "code",
          "checksum": "238ea7e42ec826c20f9b968ba9910477",
          "grade": true,
          "grade_id": "cell-31b59e79d1b2b946",
          "locked": true,
          "points": 10,
          "schema_version": 3,
          "solution": false,
          "task": false
        },
        "id": "yytmKc9h_Kte"
      },
      "outputs": [],
      "source": [
        "#TEST CELL: do not delete!\n",
        "assert(function_1992.iloc[1] == hardcode_1992.iloc[1])"
      ]
    },
    {
      "cell_type": "markdown",
      "metadata": {
        "deletable": false,
        "editable": false,
        "id": "yeKAeyinJK7j",
        "nbgrader": {
          "cell_type": "markdown",
          "checksum": "f67c8b31cf264c4d61ff5158a6e88bcf",
          "grade": false,
          "grade_id": "cell-9f72a3e46b4d1cb0",
          "locked": true,
          "schema_version": 3,
          "solution": false,
          "task": false
        }
      },
      "source": [
        "# 2. Plotting\n",
        "\n",
        "To visualize our data in Python, we will import another library called <code>matplotlib</code>. Run the following cell without changing it:"
      ]
    },
    {
      "cell_type": "code",
      "execution_count": 29,
      "metadata": {
        "deletable": false,
        "editable": false,
        "id": "KkosEio6LctT",
        "nbgrader": {
          "cell_type": "code",
          "checksum": "122737d7c37e852519b89c80f18cb01d",
          "grade": false,
          "grade_id": "cell-fd485bd56bc841c5",
          "locked": true,
          "schema_version": 3,
          "solution": false,
          "task": false
        }
      },
      "outputs": [],
      "source": [
        "import matplotlib\n",
        "%matplotlib inline\n",
        "import matplotlib.pyplot as plt\n",
        "plt.style.use('fivethirtyeight')\n",
        "import warnings\n",
        "warnings.simplefilter('ignore', FutureWarning)\n"
      ]
    },
    {
      "cell_type": "markdown",
      "metadata": {
        "deletable": false,
        "editable": false,
        "id": "vY-xFIIJPkix",
        "nbgrader": {
          "cell_type": "markdown",
          "checksum": "12151852875862a402df755c50c7a18c",
          "grade": false,
          "grade_id": "cell-5c39ee3fc06623c5",
          "locked": true,
          "schema_version": 3,
          "solution": false,
          "task": false
        }
      },
      "source": [
        "<p> Import the dataset titled <code>canada_population.csv</code>. This dataset contains the population of Canada from 2010 to 2024. </p>\n",
        "\n",
        "It may be useful to plot this data to better understand the underlying trends. The code below displays the data using a *line graph*."
      ]
    },
    {
      "cell_type": "code",
      "execution_count": 30,
      "metadata": {
        "deletable": false,
        "editable": false,
        "id": "mRAujy9rLhU9",
        "nbgrader": {
          "cell_type": "code",
          "checksum": "8382ac404c0b5470afad9fc2dc0cb8e2",
          "grade": false,
          "grade_id": "cell-29057da6d7589ec0",
          "locked": true,
          "schema_version": 3,
          "solution": false,
          "task": false
        },
        "colab": {
          "base_uri": "https://localhost:8080/",
          "height": 605
        },
        "outputId": "e82a5da1-f62a-4dde-8e82-2f710f7b7a46"
      },
      "outputs": [
        {
          "output_type": "display_data",
          "data": {
            "text/plain": [
              "<Figure size 1000x600 with 1 Axes>"
            ],
            "image/png": "[encoded data removed]"
          },
          "metadata": {}
        }
      ],
      "source": [
        "# create a DataFrame named population_data\n",
        "population_data = pd.read_csv(\"canada_population.csv\")\n",
        "\n",
        "# plotting the data...\n",
        "plt.figure(figsize = (10, 6))\n",
        "plt.plot(population_data['Year'], population_data['Population'], marker = 'o', linestyle = '-', color = 'blue')\n",
        "plt.title('Population of Canada (2010-2024)')\n",
        "plt.xlabel('Year')\n",
        "plt.ylabel('Population')\n",
        "plt.grid(True)\n",
        "plt.show()\n"
      ]
    },
    {
      "cell_type": "markdown",
      "metadata": {
        "deletable": false,
        "editable": false,
        "id": "28P1-TG8ZNEh",
        "nbgrader": {
          "cell_type": "markdown",
          "checksum": "ec995449c6cf4ac3619d8c4c619dc89c",
          "grade": false,
          "grade_id": "cell-f648592fab99adf9",
          "locked": true,
          "schema_version": 3,
          "solution": false,
          "task": false
        }
      },
      "source": [
        "**Question 2.1.** Use the same data above to plot the population of Canada between 2013 and 2020 (inclusive). Make sure you include a proper title and labels."
      ]
    },
    {
      "cell_type": "code",
      "execution_count": 42,
      "metadata": {
        "deletable": false,
        "id": "e4bsaGoLRw9G",
        "nbgrader": {
          "cell_type": "code",
          "checksum": "063c9e460df0c17d6f4169d527a59823",
          "grade": true,
          "grade_id": "cell-a0b73297aafe330a",
          "locked": false,
          "points": 15,
          "schema_version": 3,
          "solution": true,
          "task": false
        },
        "colab": {
          "base_uri": "https://localhost:8080/",
          "height": 605
        },
        "outputId": "ecc61de1-9875-40a8-95b2-529e042240c3"
      },
      "outputs": [
        {
          "output_type": "display_data",
          "data": {
            "text/plain": [
              "<Figure size 1000x600 with 1 Axes>"
            ],
            "image/png": "[encoded data removed]"
          },
          "metadata": {}
        }
      ],
      "source": [
        "# YOUR CODE HERE\n",
        "population_data = pd.read_csv(\"canada_population.csv\")\n",
        "\n",
        "# plotting the data...\n",
        "plt.figure(figsize = (10, 6))\n",
        "filtered_data = population_data[(population_data['Year'] >= 2013) & (population_data['Year'] <= 2020)]\n",
        "plt.plot(filtered_data[\"Year\"], filtered_data[\"Population\"], marker = 'o', linestyle = '-', color = 'blue')\n",
        "plt.title('Population of Canada (2010-2024)')\n",
        "plt.xlabel('Year')\n",
        "plt.ylabel('Population')\n",
        "plt.grid(True)\n",
        "plt.show()"
      ]
    },
    {
      "cell_type": "markdown",
      "metadata": {
        "deletable": false,
        "editable": false,
        "id": "OqDQQVT7Ztxu",
        "nbgrader": {
          "cell_type": "markdown",
          "checksum": "11eace7d077885fdb311a2c5c80294d6",
          "grade": false,
          "grade_id": "cell-5410cb22ead0b438",
          "locked": true,
          "schema_version": 3,
          "solution": false,
          "task": false
        }
      },
      "source": [
        "## 2.1. Histograms\n",
        "\n",
        "Another useful type of graph is called the *histogram*. A histogram is used for showing the distribution of numeric data using bars. The height of a bar indicates the frequency and its width tells us what bin or class it's in. </p>\n",
        "\n",
        "The dataset <code>exam_scores.csv</code> contains fictional math scores across two categories: females and males. Upload the dataset and run the cells below.\n",
        "\n"
      ]
    },
    {
      "cell_type": "code",
      "execution_count": 44,
      "metadata": {
        "deletable": false,
        "editable": false,
        "id": "e4FFGFmSZqqJ",
        "nbgrader": {
          "cell_type": "code",
          "checksum": "e0a45c7b4acf6191e8969369e7a217ff",
          "grade": false,
          "grade_id": "cell-1dd98d75188df07a",
          "locked": true,
          "schema_version": 3,
          "solution": false,
          "task": false
        }
      },
      "outputs": [],
      "source": [
        "exam_scores = pd.read_csv('exam_scores.csv')"
      ]
    },
    {
      "cell_type": "code",
      "execution_count": 45,
      "metadata": {
        "deletable": false,
        "editable": false,
        "id": "WYCLIHYZ3L4F",
        "nbgrader": {
          "cell_type": "code",
          "checksum": "819e0a5709aab30cb2c2765ef22385ed",
          "grade": false,
          "grade_id": "cell-22b6016db572864a",
          "locked": true,
          "schema_version": 3,
          "solution": false,
          "task": false
        },
        "colab": {
          "base_uri": "https://localhost:8080/",
          "height": 605
        },
        "outputId": "2a929007-2915-44f1-cac3-89b6d44f0666"
      },
      "outputs": [
        {
          "output_type": "display_data",
          "data": {
            "text/plain": [
              "<Figure size 1000x600 with 1 Axes>"
            ],
            "image/png": "[encoded data removed]"
          },
          "metadata": {}
        }
      ],
      "source": [
        "math_scores = exam_scores['MathScore']  # the data we are plotting\n",
        "\n",
        "plt.figure(figsize = (10, 6))  # controls the size\n",
        "plt.hist(math_scores, bins = 10, alpha = 0.5, color = 'blue')  # alpha controls the transparency of the bars\n",
        "\n",
        "# plot the titles\n",
        "plt.xlabel('Math Score')\n",
        "plt.ylabel('Frequency of Individuals')\n",
        "plt.title('Distribution of Math Score')\n",
        "\n",
        "plt.show()"
      ]
    },
    {
      "cell_type": "markdown",
      "metadata": {
        "deletable": false,
        "editable": false,
        "id": "tMlMNFvRACoq",
        "nbgrader": {
          "cell_type": "markdown",
          "checksum": "62126c0d75dd83d82b0c72043a349078",
          "grade": false,
          "grade_id": "cell-f56a75f38924a1ed",
          "locked": true,
          "schema_version": 3,
          "solution": false,
          "task": false
        }
      },
      "source": [
        "This histogram is slightly left-skewed with a mode at around 65. We can see that the score with the lowest frequency of individuals is 0-20, while the highest is 60-70."
      ]
    },
    {
      "cell_type": "markdown",
      "metadata": {
        "deletable": false,
        "editable": false,
        "id": "wLKw42xxAl-d",
        "nbgrader": {
          "cell_type": "markdown",
          "checksum": "be9607729143d77731f3a7b788edbf5a",
          "grade": false,
          "grade_id": "cell-842ac2be6787dd2d",
          "locked": true,
          "schema_version": 3,
          "solution": false,
          "task": false
        }
      },
      "source": [
        "**Question 2.1.1.** Plot a histogram that shows the distribution of female and male scores separately. You can choose how you want to represent the histograms: two separate sub plots side by side, or both on one plot with different colours each, etc.  The axis limits should be same on both plots (same scale) and the plots should have appropriate titles, axis labels, and if needed a legend."
      ]
    },
    {
      "cell_type": "code",
      "execution_count": 65,
      "metadata": {
        "deletable": false,
        "id": "VPxx_TOI9cv2",
        "nbgrader": {
          "cell_type": "code",
          "checksum": "d812f6639b07b74f4cda51c216c04530",
          "grade": true,
          "grade_id": "cell-571b134e74aef1d8",
          "locked": false,
          "points": 15,
          "schema_version": 3,
          "solution": true,
          "task": false
        },
        "colab": {
          "base_uri": "https://localhost:8080/",
          "height": 622
        },
        "outputId": "7531acf9-8a55-4c6e-c25f-c1d425369d54"
      },
      "outputs": [
        {
          "output_type": "stream",
          "name": "stderr",
          "text": [
            "WARNING:matplotlib.legend:No artists with labels found to put in legend.  Note that artists whose label start with an underscore are ignored when legend() is called with no argument.\n"
          ]
        },
        {
          "output_type": "display_data",
          "data": {
            "text/plain": [
              "<Figure size 1000x600 with 2 Axes>"
            ],
            "image/png": "[encoded data removed]"
          },
          "metadata": {}
        }
      ],
      "source": [
        "# YOUR CODE HERE\n",
        "\n",
        "math_scores_male = exam_scores[exam_scores['Gender'] == \"male\"][\"MathScore\"]  # the data we are plotting\n",
        "math_scores_female = exam_scores[exam_scores['Gender'] == \"female\"][\"MathScore\"]  # the data we are plotting\n",
        "\n",
        "\n",
        "fig,axs = plt.subplots(1,2,figsize = (10, 6))  # controls the size\n",
        "axs[0].hist(math_scores_male, bins = 10, alpha = 0.5, color = 'blue')  # alpha controls the transparency of the bars\n",
        "axs[0].set_xlabel('Math Score')\n",
        "axs[0].set_ylabel('Frequency of Individuals')\n",
        "axs[0].set_title('Math Score for Male')\n",
        "\n",
        "\n",
        "axs[1].hist(math_scores_female, bins = 10, alpha = 0.5, color = 'red')  # alpha controls the transparency of the bars\n",
        "axs[1].set_xlabel('Math Score')\n",
        "axs[1].set_ylabel('Frequency of Individuals')\n",
        "axs[1].set_title('Math Score for Female')\n",
        "\n",
        "plt.legend()\n",
        "plt.show()"
      ]
    },
    {
      "cell_type": "markdown",
      "metadata": {
        "deletable": false,
        "editable": false,
        "nbgrader": {
          "cell_type": "markdown",
          "checksum": "16708b23a58fc059859108b025ac79ca",
          "grade": false,
          "grade_id": "cell-4d9271d0affc409a",
          "locked": true,
          "schema_version": 3,
          "solution": false,
          "task": false
        },
        "id": "Qm_4k6_Q_Ktf"
      },
      "source": [
        "**Question 2.2.2.** Describe the overall shape of your histogram and what it means. What differences do you see between genders? What are their similarities?"
      ]
    },
    {
      "cell_type": "markdown",
      "metadata": {
        "deletable": false,
        "nbgrader": {
          "cell_type": "markdown",
          "checksum": "8fe98f0bce52e949a45e125f25ee2425",
          "grade": true,
          "grade_id": "cell-f8a2cbeb45ab9434",
          "locked": false,
          "points": 5,
          "schema_version": 3,
          "solution": true,
          "task": false
        },
        "id": "h0uoMGYx_Ktf"
      },
      "source": [
        "YOUR ANSWER HERE"
      ]
    },
    {
      "cell_type": "markdown",
      "metadata": {
        "deletable": false,
        "editable": false,
        "id": "SQP_x1FhCk8b",
        "nbgrader": {
          "cell_type": "markdown",
          "checksum": "ed41e99d0c87520f0df23f27d9f70a9c",
          "grade": false,
          "grade_id": "cell-4857a06815c8141e",
          "locked": true,
          "schema_version": 3,
          "solution": false,
          "task": false
        }
      },
      "source": [
        "# 3. Randomness and Probabilities\n",
        "\n",
        "Suppose you have a bag of poker chips where one is blue, one is red, one is black, and one is green. We can use NumPy to simulate picking a chip out of the bag at random by using the function <code>np.random.choice(...)</code>. Run the code below multiple times to see the different choices that the function prints."
      ]
    },
    {
      "cell_type": "code",
      "execution_count": 69,
      "metadata": {
        "colab": {
          "base_uri": "https://localhost:8080/",
          "height": 35
        },
        "deletable": false,
        "editable": false,
        "id": "FbrUwTJBBn9I",
        "nbgrader": {
          "cell_type": "code",
          "checksum": "2882994d3a6eb3091db511ba998c3bd5",
          "grade": false,
          "grade_id": "cell-017e53d5464bd1b3",
          "locked": true,
          "schema_version": 3,
          "solution": false,
          "task": false
        },
        "outputId": "46e3692a-82c0-4815-e882-eb7d2a69a357"
      },
      "outputs": [
        {
          "output_type": "execute_result",
          "data": {
            "text/plain": [
              "'red'"
            ],
            "application/vnd.google.colaboratory.intrinsic+json": {
              "type": "string"
            }
          },
          "metadata": {},
          "execution_count": 69
        }
      ],
      "source": [
        "# bag is an array that holds our different colored chips\n",
        "bag = ['blue', 'red', 'black', 'green']\n",
        "np.random.choice(bag)\n"
      ]
    },
    {
      "cell_type": "markdown",
      "metadata": {
        "deletable": false,
        "editable": false,
        "id": "UJx-EJqQKH5I",
        "nbgrader": {
          "cell_type": "markdown",
          "checksum": "fdfa1719fdfb998cc95264d77e50520f",
          "grade": false,
          "grade_id": "cell-730332409bebc388",
          "locked": true,
          "schema_version": 3,
          "solution": false,
          "task": false
        }
      },
      "source": [
        "Adding a second argument to the function will give us a new array with a number of random choices."
      ]
    },
    {
      "cell_type": "code",
      "execution_count": 70,
      "metadata": {
        "deletable": false,
        "editable": false,
        "id": "33GDUjGwJyti",
        "nbgrader": {
          "cell_type": "code",
          "checksum": "49295fdfe33feb874f6e7a3a749910ca",
          "grade": false,
          "grade_id": "cell-099365689baac319",
          "locked": true,
          "schema_version": 3,
          "solution": false,
          "task": false
        },
        "colab": {
          "base_uri": "https://localhost:8080/"
        },
        "outputId": "40d3474b-f5c9-438b-9154-a583e8f2d400"
      },
      "outputs": [
        {
          "output_type": "execute_result",
          "data": {
            "text/plain": [
              "array(['red', 'green', 'black', 'green', 'green', 'blue', 'red', 'red',\n",
              "       'green', 'black'], dtype='<U5')"
            ]
          },
          "metadata": {},
          "execution_count": 70
        }
      ],
      "source": [
        "np.random.choice(bag, 10)"
      ]
    },
    {
      "cell_type": "markdown",
      "metadata": {
        "deletable": false,
        "editable": false,
        "id": "oaaHF3AYK4ut",
        "nbgrader": {
          "cell_type": "markdown",
          "checksum": "06720983be0b85797bf057c8368d72f3",
          "grade": false,
          "grade_id": "cell-b6bd3e994e2ef0ce",
          "locked": true,
          "schema_version": 3,
          "solution": false,
          "task": false
        }
      },
      "source": [
        "The function <code>np.count_nonzero</code> counts the number of non-zero values that appear in an array. In Python, the boolean value <code>True</code> is coded as 1 and the boolean value <code>False</code> is coded as 0. </p>\n",
        "\n",
        "Run the next cell to see how <code>np.count_nonzero</code> works."
      ]
    },
    {
      "cell_type": "code",
      "execution_count": 72,
      "metadata": {
        "deletable": false,
        "editable": false,
        "id": "u2u5SGSRKGxq",
        "nbgrader": {
          "cell_type": "code",
          "checksum": "b307749bfc20e7dcb35685a1a6643241",
          "grade": false,
          "grade_id": "cell-bb7d45b57144fd88",
          "locked": true,
          "schema_version": 3,
          "solution": false,
          "task": false
        },
        "colab": {
          "base_uri": "https://localhost:8080/"
        },
        "outputId": "3b212bf0-9cee-4092-9563-642328d584d2"
      },
      "outputs": [
        {
          "output_type": "execute_result",
          "data": {
            "text/plain": [
              "4"
            ]
          },
          "metadata": {},
          "execution_count": 72
        }
      ],
      "source": [
        "an_array = [True, False, False, True, False, True, True]\n",
        "np.count_nonzero(an_array)"
      ]
    },
    {
      "cell_type": "markdown",
      "metadata": {
        "deletable": false,
        "editable": false,
        "id": "Fkpd6pxwMQ-4",
        "nbgrader": {
          "cell_type": "markdown",
          "checksum": "075fde487305caa592999ffd347bac34",
          "grade": false,
          "grade_id": "cell-8d687e49f5b97e93",
          "locked": true,
          "schema_version": 3,
          "solution": false,
          "task": false
        }
      },
      "source": [
        "**Question 3.1.** Suppose that we have a bigger bag of poker chips that have multiples of each color. We use <code>np.array</code> so that we can use comparison operators on every element in the array. Find the number of red chips in the bigger bag using a comparison operator (e.g.<code>=</code>, <code><</code>, ...) and the <code>np.count_nonzero</code> function. Assign your answer to <code>number_red</code>. Do NOT hardcode the answer!"
      ]
    },
    {
      "cell_type": "code",
      "execution_count": 77,
      "metadata": {
        "deletable": false,
        "id": "mAK3W2bkMhdl",
        "nbgrader": {
          "cell_type": "code",
          "checksum": "8292085c48ef582ed28af6086c259e11",
          "grade": false,
          "grade_id": "cell-b299b6b2bbbd16d4",
          "locked": false,
          "schema_version": 3,
          "solution": true,
          "task": false
        },
        "colab": {
          "base_uri": "https://localhost:8080/"
        },
        "outputId": "8d2080e9-599e-4c50-8889-2d1b08f17ae3"
      },
      "outputs": [
        {
          "output_type": "execute_result",
          "data": {
            "text/plain": [
              "7"
            ]
          },
          "metadata": {},
          "execution_count": 77
        }
      ],
      "source": [
        "bigger_bag = np.array(['red', 'black', 'red', 'green', 'blue', 'blue', 'black', 'red',\n",
        "       'red', 'black', 'red', 'red', 'red', 'blue', 'green'])\n",
        "\n",
        "# YOUR CODE HERE\n",
        "red_chips_boolean = (bigger_bag == \"red\")\n",
        "number_red = np.count_nonzero(red_chips_boolean)\n",
        "number_red"
      ]
    },
    {
      "cell_type": "code",
      "execution_count": 79,
      "metadata": {
        "deletable": false,
        "editable": false,
        "nbgrader": {
          "cell_type": "code",
          "checksum": "972453eb1c79a0b6fb6ec72fab98f1fb",
          "grade": true,
          "grade_id": "cell-d9182cab5edc3e7c",
          "locked": true,
          "points": 5,
          "schema_version": 3,
          "solution": false,
          "task": false
        },
        "id": "G8lVNUXC_Ktn"
      },
      "outputs": [],
      "source": [
        "#TEST CELL: do not delete!"
      ]
    },
    {
      "cell_type": "markdown",
      "metadata": {
        "deletable": false,
        "editable": false,
        "nbgrader": {
          "cell_type": "markdown",
          "checksum": "ea8ef7b0122ea8198d5a3fa6f6730864",
          "grade": false,
          "grade_id": "cell-20cff039ceaecb2d",
          "locked": true,
          "schema_version": 3,
          "solution": false,
          "task": false
        },
        "id": "nHJXQ7xO_Ktn"
      },
      "source": [
        "## 3.1. Distributions\n",
        "\n",
        "We can use our poker chip example to learn more about distrbutuions. Distributions tell us the 'behaviour' of a variable and the probability of an event happening under a certain distribution. We will focus on three different types:\n",
        "\n",
        "1. **Uniform distribution**: When a variable has a uniform distibution, it means that every event has an equal probability of happening. Visually, the graph of this variable is flat across all categories.\n",
        "2. **Normal / Gaussian distribution**: Normal distributions often have a bell shape where most of the values are concentrated at the center (mean), with fewer values at the extremes. The graph of this distribution is symmetric, meaning that it isn't skewed in any direction. Usually, we define the theoretical mean ($\\mu$) as 0 and the theoretical variance ($\\sigma$) as 1.\n",
        "3. **Binomial / Bernoulli distribution**: The distribution of a variable is Bernoulli when the outcomes are *binary* (only two possible outcomes). Examples include flipping a coin where the only outcomes are heads or tails, or taking a class that's pass or fail. The graph of this distribution only has two bars representing the two outcomes."
      ]
    },
    {
      "cell_type": "markdown",
      "metadata": {
        "deletable": false,
        "editable": false,
        "nbgrader": {
          "cell_type": "markdown",
          "checksum": "2a89f3d576c94eac2a715ed7a00e36d5",
          "grade": false,
          "grade_id": "cell-6c94b441812d9e6f",
          "locked": true,
          "schema_version": 3,
          "solution": false,
          "task": false
        },
        "id": "xIfhL9AX_Ktn"
      },
      "source": [
        "Run the code below to visualize the different distributions:"
      ]
    },
    {
      "cell_type": "code",
      "execution_count": 78,
      "metadata": {
        "deletable": false,
        "editable": false,
        "nbgrader": {
          "cell_type": "code",
          "checksum": "91685723f6206687ebd13f2e65d23bec",
          "grade": false,
          "grade_id": "cell-ce77721bc6380bfd",
          "locked": true,
          "schema_version": 3,
          "solution": false,
          "task": false
        },
        "colab": {
          "base_uri": "https://localhost:8080/",
          "height": 605
        },
        "id": "TlOWxpQQ_Ktn",
        "outputId": "3088dc3e-5353-4f01-a4b5-e1d7f3b09bf9"
      },
      "outputs": [
        {
          "output_type": "display_data",
          "data": {
            "text/plain": [
              "<Figure size 1500x600 with 1 Axes>"
            ],
            "image/png": "[encoded data removed]"
          },
          "metadata": {}
        }
      ],
      "source": [
        "chip_colors = ['Red', 'Blue', 'Green', 'Black', 'White']\n",
        "chip_counts = [5, 5, 5, 5, 5]\n",
        "\n",
        "plt.figure(figsize=(15, 6))\n",
        "plt.bar(chip_colors, chip_counts, color=['red', 'blue', 'green', 'black', 'grey'])\n",
        "plt.xlabel('Chip Color')\n",
        "plt.ylabel('Count')\n",
        "plt.title('Uniform Distribution of Poker Chip Colors')\n",
        "plt.show()"
      ]
    },
    {
      "cell_type": "markdown",
      "metadata": {
        "deletable": false,
        "editable": false,
        "nbgrader": {
          "cell_type": "markdown",
          "checksum": "36289bade20b8efd5be45e6ee398ff39",
          "grade": false,
          "grade_id": "cell-6850bc93f2dba2d9",
          "locked": true,
          "schema_version": 3,
          "solution": false,
          "task": false
        },
        "id": "IRWME77k_Ktn"
      },
      "source": [
        "Since each color of chip has the same count, the distribution is uniform. </p>\n",
        "\n",
        "When the distribution is uniform, the probability of choosing any color is the the same across all categories. To calculate the probability, divide the count of the color by the total count. We can write: </p>\n",
        "\n",
        "P(Red) = P(Blue) = P(Green) = P(Black) = P(White) = $\\frac{5}{25}$ = 0.2."
      ]
    },
    {
      "cell_type": "code",
      "execution_count": 80,
      "metadata": {
        "deletable": false,
        "editable": false,
        "nbgrader": {
          "cell_type": "code",
          "checksum": "c193003db07b35df81fba2da7985a771",
          "grade": false,
          "grade_id": "cell-486432ada27d898f",
          "locked": true,
          "schema_version": 3,
          "solution": false,
          "task": false
        },
        "colab": {
          "base_uri": "https://localhost:8080/",
          "height": 605
        },
        "id": "YgDJ8wDs_Ktn",
        "outputId": "8e22bd59-3b2d-446a-9539-56efe3c945d2"
      },
      "outputs": [
        {
          "output_type": "display_data",
          "data": {
            "text/plain": [
              "<Figure size 1500x600 with 1 Axes>"
            ],
            "image/png": "[encoded data removed]"
          },
          "metadata": {}
        }
      ],
      "source": [
        "chip_colors = ['Red', 'Blue', 'Green', 'Black', 'White']\n",
        "chip_counts = [5, 10, 15, 10, 5]\n",
        "\n",
        "plt.figure(figsize=(15, 6))\n",
        "plt.bar(chip_colors, chip_counts, color=['red', 'blue', 'green', 'black', 'grey'])\n",
        "plt.xlabel('Chip Color')\n",
        "plt.ylabel('Count')\n",
        "plt.title('Normal Distribution of Poker Chip Colors')\n",
        "plt.show()"
      ]
    },
    {
      "cell_type": "markdown",
      "metadata": {
        "deletable": false,
        "editable": false,
        "nbgrader": {
          "cell_type": "markdown",
          "checksum": "6981c1fadbbbde3d83cf6fc4f9194d09",
          "grade": false,
          "grade_id": "cell-e80774f637ea6d6d",
          "locked": true,
          "schema_version": 3,
          "solution": false,
          "task": false
        },
        "id": "DIV-1gSh_Ktn"
      },
      "source": [
        "Since the graph is symmetrical around the center, the distribution is Normal. </p>\n",
        "\n",
        "Calculating the probabilities follows the same steps for uniform, however, the probabilities won't be the same for every color."
      ]
    },
    {
      "cell_type": "markdown",
      "metadata": {
        "deletable": false,
        "editable": false,
        "nbgrader": {
          "cell_type": "markdown",
          "checksum": "af28a22191b23988f6789a899082fc6a",
          "grade": false,
          "grade_id": "cell-7fda01723063fbd9",
          "locked": true,
          "schema_version": 3,
          "solution": false,
          "task": false
        },
        "id": "vJhuNnre_Kto"
      },
      "source": [
        "**Question 3.1.1.** What is the probability of choosing a green chip out of the bag? What is the probability of choosing a black chip **or** a blue chip? Assign your answers to <code>prob_green</code> and <code>prob_black_or_blue</code> repectively. Leave your answer as a fraction."
      ]
    },
    {
      "cell_type": "code",
      "execution_count": 89,
      "metadata": {
        "deletable": false,
        "nbgrader": {
          "cell_type": "code",
          "checksum": "bd20a695a8f160d4b91a1e558f58bf7e",
          "grade": false,
          "grade_id": "cell-c5034ea9282dfd72",
          "locked": false,
          "schema_version": 3,
          "solution": true,
          "task": false
        },
        "colab": {
          "base_uri": "https://localhost:8080/"
        },
        "id": "rDP_eZku_Kto",
        "outputId": "747bb1ce-5432-45a4-a474-365278a34b6b"
      },
      "outputs": [
        {
          "output_type": "stream",
          "name": "stdout",
          "text": [
            "0.3333333333333333\n",
            "0.4444444444444444\n"
          ]
        }
      ],
      "source": [
        "# YOUR CODE HERE\n",
        "prob_green = chip_counts[chip_colors.index(\"Green\")] / sum(chip_counts)\n",
        "prob_black_or_blue = ( chip_counts[chip_colors.index(\"Black\")] + chip_counts[chip_colors.index(\"Blue\")] ) / sum(chip_counts)\n",
        "\n",
        "print(prob_green)\n",
        "print(prob_black_or_blue)"
      ]
    },
    {
      "cell_type": "code",
      "execution_count": 90,
      "metadata": {
        "deletable": false,
        "editable": false,
        "nbgrader": {
          "cell_type": "code",
          "checksum": "fd5833e86ea4edfde543dece5b0f995b",
          "grade": true,
          "grade_id": "cell-5a215cb420f01f09",
          "locked": true,
          "points": 6,
          "schema_version": 3,
          "solution": false,
          "task": false
        },
        "id": "kJLflKoz_Kto"
      },
      "outputs": [],
      "source": [
        "#TEST CELL: do not delete!"
      ]
    },
    {
      "cell_type": "markdown",
      "metadata": {
        "deletable": false,
        "editable": false,
        "nbgrader": {
          "cell_type": "markdown",
          "checksum": "eee299e4db142de183bc7fd5be1e3edd",
          "grade": false,
          "grade_id": "cell-562f0d2855bb6b93",
          "locked": true,
          "schema_version": 3,
          "solution": false,
          "task": false
        },
        "id": "MEVuYac8_Kto"
      },
      "source": [
        "Since Binomial only has two outcomes, we will simulate only having two colors of chips in the bag:"
      ]
    },
    {
      "cell_type": "code",
      "execution_count": 91,
      "metadata": {
        "deletable": false,
        "editable": false,
        "nbgrader": {
          "cell_type": "code",
          "checksum": "c761cb9604cf2ef34c5486ca3f0ad0e9",
          "grade": false,
          "grade_id": "cell-ea461714c988a075",
          "locked": true,
          "schema_version": 3,
          "solution": false,
          "task": false
        },
        "colab": {
          "base_uri": "https://localhost:8080/",
          "height": 524
        },
        "id": "sFuKFpOh_Kto",
        "outputId": "8d1e291a-40d3-4811-f640-9f6272147bfd"
      },
      "outputs": [
        {
          "output_type": "display_data",
          "data": {
            "text/plain": [
              "<Figure size 800x500 with 1 Axes>"
            ],
            "image/png": "[encoded data removed]"
          },
          "metadata": {}
        }
      ],
      "source": [
        "chip_colors = ['Red', 'Blue']\n",
        "chip_counts = [10, 4]\n",
        "\n",
        "plt.figure(figsize=(8, 5))\n",
        "plt.bar(chip_colors, chip_counts, color=['red', 'blue'])\n",
        "plt.xlabel('Chip Color')\n",
        "plt.ylabel('Count')\n",
        "plt.title('Binomial Distribution of Poker Chip Colors')\n",
        "plt.show()"
      ]
    },
    {
      "cell_type": "markdown",
      "metadata": {
        "deletable": false,
        "editable": false,
        "nbgrader": {
          "cell_type": "markdown",
          "checksum": "c568fdf5349eb2526ad745adfa2cdc08",
          "grade": false,
          "grade_id": "cell-354d53ab82384b02",
          "locked": true,
          "schema_version": 3,
          "solution": false,
          "task": false
        },
        "id": "Vzg8_weI_Kto"
      },
      "source": [
        "A key characteristic of probabilities is that the sum of each individual probability is always one. Therefore, for Bernoulli distributions, if we know the probability of one event happening, we can simply subtract that value from one to find the other probability. Written mathematically, </p>\n",
        "\n",
        "P(success) = p </p>\n",
        "P(failure) = 1 - p"
      ]
    },
    {
      "cell_type": "markdown",
      "metadata": {
        "deletable": false,
        "editable": false,
        "nbgrader": {
          "cell_type": "markdown",
          "checksum": "2583836198eab933caf77e64b42820eb",
          "grade": false,
          "grade_id": "cell-32a23169c0f34d40",
          "locked": true,
          "schema_version": 3,
          "solution": false,
          "task": false
        },
        "id": "uoGrXjNr_Kto"
      },
      "source": [
        "**Question 3.1.2.** Let a random variable, X, follow a Bernoulli distribution. If we know that P(failure) = 0.65, what is P(success)? Assign your answer to <code>prob_success</code>."
      ]
    },
    {
      "cell_type": "code",
      "execution_count": 92,
      "metadata": {
        "deletable": false,
        "nbgrader": {
          "cell_type": "code",
          "checksum": "23db8417bc506d681f6d562b0b4ded31",
          "grade": false,
          "grade_id": "cell-685d02242724ac60",
          "locked": false,
          "schema_version": 3,
          "solution": true,
          "task": false
        },
        "colab": {
          "base_uri": "https://localhost:8080/"
        },
        "id": "GUg4Honz_Kto",
        "outputId": "5866391d-14f9-4b57-aff4-52811fe9a5e7"
      },
      "outputs": [
        {
          "output_type": "execute_result",
          "data": {
            "text/plain": [
              "0.35"
            ]
          },
          "metadata": {},
          "execution_count": 92
        }
      ],
      "source": [
        "# YOUR CODE HERE\n",
        "prob_success = 1 - 0.65\n",
        "prob_success"
      ]
    },
    {
      "cell_type": "code",
      "execution_count": 93,
      "metadata": {
        "deletable": false,
        "editable": false,
        "nbgrader": {
          "cell_type": "code",
          "checksum": "0d5b3fae0339b50ab77c5ba57743d61c",
          "grade": true,
          "grade_id": "cell-128ac55423f5eb18",
          "locked": true,
          "points": 5,
          "schema_version": 3,
          "solution": false,
          "task": false
        },
        "id": "ipL5kKuy_Kto"
      },
      "outputs": [],
      "source": [
        "#TEST CELL: do not delete!"
      ]
    },
    {
      "cell_type": "markdown",
      "metadata": {
        "deletable": false,
        "editable": false,
        "id": "zs7hdK1tNQJw",
        "nbgrader": {
          "cell_type": "markdown",
          "checksum": "7d712ca9a62ae99b0a624b69ab53d3fa",
          "grade": false,
          "grade_id": "cell-06ce3b03b718a3d6",
          "locked": true,
          "schema_version": 3,
          "solution": false,
          "task": false
        }
      },
      "source": [
        "## 3.2. Conditional Statements\n",
        "\n",
        "A conditional statement is a multi-line statement that depends on if something is True or False. Python uses an <code>if</code>, <code>elif</code>, <code>else</code> structure. </p>\n",
        "\n",
        "Below is a simple example that uses <code>type</code> to see if the argument is an integer."
      ]
    },
    {
      "cell_type": "code",
      "execution_count": 94,
      "metadata": {
        "deletable": false,
        "editable": false,
        "id": "Rmf7ZePGOQZl",
        "nbgrader": {
          "cell_type": "code",
          "checksum": "a38e9a57b41cff094dec36ebd831fd9a",
          "grade": false,
          "grade_id": "cell-4cb1e8a789e86519",
          "locked": true,
          "schema_version": 3,
          "solution": false,
          "task": false
        },
        "colab": {
          "base_uri": "https://localhost:8080/"
        },
        "outputId": "1c024659-01f7-49b4-cbf1-768ffb954ad3"
      },
      "outputs": [
        {
          "output_type": "stream",
          "name": "stdout",
          "text": [
            "4 is an integer.\n",
            "Hello is not an integer.\n"
          ]
        }
      ],
      "source": [
        "def is_integer(x):\n",
        "  if type(x) == int:\n",
        "    print(x, \"is an integer.\")\n",
        "  else:\n",
        "    print(x, \"is not an integer.\")\n",
        "\n",
        "is_integer(4)\n",
        "is_integer('Hello')"
      ]
    },
    {
      "cell_type": "markdown",
      "metadata": {
        "deletable": false,
        "editable": false,
        "id": "-r8Vn6c8Py27",
        "nbgrader": {
          "cell_type": "markdown",
          "checksum": "05787e1c6f3c89b9062e49e67b3497cb",
          "grade": false,
          "grade_id": "cell-44495d5cae05c122",
          "locked": true,
          "schema_version": 3,
          "solution": false,
          "task": false
        }
      },
      "source": [
        "When x is an integer, Python executes the code after the <code>if</code> statement. If x is not an integer, Python continues to the <code>else</code> statement and executes the code that follows it. </p>\n",
        "\n",
        "We can have nested if-else statements. The statement that follows the first <code>if</code> statement is called an <code>elif</code> statement."
      ]
    },
    {
      "cell_type": "code",
      "execution_count": 95,
      "metadata": {
        "deletable": false,
        "editable": false,
        "id": "NB4B5a3YOp4V",
        "nbgrader": {
          "cell_type": "code",
          "checksum": "8451447c47ae8da7b62a514f737868a1",
          "grade": false,
          "grade_id": "cell-e1eb4eacd36cc523",
          "locked": true,
          "schema_version": 3,
          "solution": false,
          "task": false
        },
        "colab": {
          "base_uri": "https://localhost:8080/"
        },
        "outputId": "32bc908e-185a-4450-ee33-68f89865aad3"
      },
      "outputs": [
        {
          "output_type": "stream",
          "name": "stdout",
          "text": [
            "4 is an integer.\n",
            "Hello is a string.\n",
            "56.7 is a float.\n",
            "True is not an integer, string, or float.\n"
          ]
        }
      ],
      "source": [
        "def is_integer(x):\n",
        "  if type(x) == int:\n",
        "    print(x, \"is an integer.\")\n",
        "  elif type(x) == str:\n",
        "    print(x, \"is a string.\")\n",
        "  elif type(x) == float:\n",
        "     print(x, \"is a float.\")\n",
        "  else:\n",
        "     print(x, \"is not an integer, string, or float.\")\n",
        "\n",
        "is_integer(4)\n",
        "is_integer('Hello')\n",
        "is_integer(56.7)\n",
        "is_integer(True)"
      ]
    },
    {
      "cell_type": "markdown",
      "metadata": {
        "deletable": false,
        "editable": false,
        "id": "8CxVpS8_QulF",
        "nbgrader": {
          "cell_type": "markdown",
          "checksum": "037f74ebd10e3396e41cfc23fd16cc66",
          "grade": false,
          "grade_id": "cell-cfbb17949bf4f946",
          "locked": true,
          "schema_version": 3,
          "solution": false,
          "task": false
        }
      },
      "source": [
        "Nested conditional statements are executed top-down (in the order that they appear). If every if and elif statement is executed and none of them hold, the else statement is executed."
      ]
    },
    {
      "cell_type": "markdown",
      "metadata": {
        "deletable": false,
        "editable": false,
        "id": "FyddRs_2RVOG",
        "nbgrader": {
          "cell_type": "markdown",
          "checksum": "0e0b49fe909206072633083b04e488be",
          "grade": false,
          "grade_id": "cell-37bf06853a919e1a",
          "locked": true,
          "schema_version": 3,
          "solution": false,
          "task": false
        }
      },
      "source": [
        "**Question 3.2.1.** Complete the conditional statement below that prints <code>\"There are 7 or more red chips!\"</code> if there are 7 or more red chips in the bigger bag (use your definition of <code>number_red</code> from question 3.1., you do NOT have to redefine it)."
      ]
    },
    {
      "cell_type": "code",
      "execution_count": 101,
      "metadata": {
        "deletable": false,
        "id": "oiG4JoPoR3Xy",
        "nbgrader": {
          "cell_type": "code",
          "checksum": "9380b0c7432f56515a41ec47d8720116",
          "grade": false,
          "grade_id": "cell-bb241a2910f1f336",
          "locked": false,
          "schema_version": 3,
          "solution": true,
          "task": false
        },
        "colab": {
          "base_uri": "https://localhost:8080/",
          "height": 35
        },
        "outputId": "061308a4-8e32-4eae-ce4a-230f591c9255"
      },
      "outputs": [
        {
          "output_type": "execute_result",
          "data": {
            "text/plain": [
              "'There are 7 or more red chips!'"
            ],
            "application/vnd.google.colaboratory.intrinsic+json": {
              "type": "string"
            }
          },
          "metadata": {},
          "execution_count": 101
        }
      ],
      "source": [
        "statement = '?'\n",
        "\n",
        "#Complete the if statement below\n",
        "# YOUR CODE HERE\n",
        "if(number_red >= 7):\n",
        "    statement = \"There are 7 or more red chips!\"  #this is the body of the if statement\n",
        "statement"
      ]
    },
    {
      "cell_type": "code",
      "execution_count": null,
      "metadata": {
        "deletable": false,
        "editable": false,
        "nbgrader": {
          "cell_type": "code",
          "checksum": "19a5adf3a096a46dab2b2df32cb3dc6e",
          "grade": true,
          "grade_id": "cell-3de286ecdbdfc804",
          "locked": true,
          "points": 5,
          "schema_version": 3,
          "solution": false,
          "task": false
        },
        "id": "q1yp8s98_Ktp"
      },
      "outputs": [],
      "source": [
        "#TEST CELL: do not delete!"
      ]
    },
    {
      "cell_type": "markdown",
      "metadata": {
        "deletable": false,
        "editable": false,
        "id": "C46BC6UNSNpe",
        "nbgrader": {
          "cell_type": "markdown",
          "checksum": "1f3c93029ff5cae09008eaf79815d882",
          "grade": false,
          "grade_id": "cell-0a88cd321ec4aa07",
          "locked": true,
          "schema_version": 3,
          "solution": false,
          "task": false
        }
      },
      "source": [
        "**Question 3.2.2.** In poker, each chip is worth a different value. Say that a red chip is worth 5 points, blue is worth 10 points, green is worth 25 points, and black is worth 100 points. Write a function that takes in a color (as a string) and returns how many points that color is worth."
      ]
    },
    {
      "cell_type": "code",
      "execution_count": 102,
      "metadata": {
        "deletable": false,
        "id": "VpuYmsQJSAC5",
        "nbgrader": {
          "cell_type": "code",
          "checksum": "2eeaf8632033f9836a55d0e7e27ee137",
          "grade": false,
          "grade_id": "cell-bc4301fdbc98e864",
          "locked": false,
          "schema_version": 3,
          "solution": true,
          "task": false
        },
        "colab": {
          "base_uri": "https://localhost:8080/",
          "height": 35
        },
        "outputId": "3801271f-76af-4939-f35b-ac6849b4cf21"
      },
      "outputs": [
        {
          "output_type": "execute_result",
          "data": {
            "text/plain": [
              "'Blue is worth 10 points.'"
            ],
            "application/vnd.google.colaboratory.intrinsic+json": {
              "type": "string"
            }
          },
          "metadata": {},
          "execution_count": 102
        }
      ],
      "source": [
        "def chip_value(color):\n",
        "    if color == 'red':\n",
        "        return('Red is worth 5 points.')\n",
        "    # write conditional statements for the other colors\n",
        "    # YOUR CODE HERE\n",
        "    if color == 'blue':\n",
        "        return('Blue is worth 10 points.')\n",
        "\n",
        "    elif color == 'green':\n",
        "        return('Green is worth 25 points.')\n",
        "\n",
        "    elif color == 'black':\n",
        "        return('black is worth 100 points.')\n",
        "\n",
        "# example call\n",
        "blue = chip_value('blue')\n",
        "blue"
      ]
    },
    {
      "cell_type": "code",
      "execution_count": 104,
      "metadata": {
        "deletable": false,
        "editable": false,
        "nbgrader": {
          "cell_type": "code",
          "checksum": "b9ecb44e707c4337424fe198bb8de8ed",
          "grade": true,
          "grade_id": "cell-1df056e6d06cef7d",
          "locked": true,
          "points": 20,
          "schema_version": 3,
          "solution": false,
          "task": false
        },
        "id": "67J9-zmr_Ktp"
      },
      "outputs": [],
      "source": [
        "#TEST CELL: do not delete!\n",
        "### TESTS\n",
        "assert(chip_value('blue') == 'Blue is worth 10 points.')\n",
        "assert(chip_value('red') == 'Red is worth 5 points.')\n"
      ]
    },
    {
      "cell_type": "markdown",
      "metadata": {
        "deletable": false,
        "editable": false,
        "id": "X1XKFMrRTxBU",
        "nbgrader": {
          "cell_type": "markdown",
          "checksum": "d1361c504c04a6ec916b6d0d2b6f8de1",
          "grade": false,
          "grade_id": "cell-eae73c4889881f87",
          "locked": true,
          "schema_version": 3,
          "solution": false,
          "task": false
        }
      },
      "source": [
        "## 3.3. Simulations and Probabilities\n",
        "\n",
        "We can also use probabilities to ask questions about the data in our tables. </p>\n",
        "\n",
        "Suppose we have a survey where participants rate their satisfaction with a product as \"High\", \"Medium\", or \"Low\". The participants are put into age groups labelled \"Young\", \"Middle-aged\", or \"Elderly\". Run the cell below to load the data.\n"
      ]
    },
    {
      "cell_type": "code",
      "execution_count": 112,
      "metadata": {
        "colab": {
          "base_uri": "https://localhost:8080/",
          "height": 424
        },
        "deletable": false,
        "editable": false,
        "id": "8O28oBOjZWBe",
        "nbgrader": {
          "cell_type": "code",
          "checksum": "1c8ee192a964f5c1bd9aee194e9b52e3",
          "grade": false,
          "grade_id": "cell-65c2c677be690571",
          "locked": true,
          "schema_version": 3,
          "solution": false,
          "task": false
        },
        "outputId": "869e1747-c040-4031-8dbf-2d3d8e3427cd"
      },
      "outputs": [
        {
          "output_type": "execute_result",
          "data": {
            "text/plain": [
              "    Satisfaction Level    Age Group\n",
              "0                  Low  Middle-aged\n",
              "1                 High  Middle-aged\n",
              "2                  Low  Middle-aged\n",
              "3               Medium        Young\n",
              "4               Medium  Middle-aged\n",
              "..                 ...          ...\n",
              "110                Low  Middle-aged\n",
              "111             Medium        Young\n",
              "112             Medium        Young\n",
              "113                Low      Elderly\n",
              "114               High  Middle-aged\n",
              "\n",
              "[115 rows x 2 columns]"
            ],
            "text/html": [
              "\n",
              "  <div id=\"df-1558cb74-2992-4fd7-89d5-73b30c8224a7\" class=\"colab-df-container\">\n",
              "    <div>\n",
              "<style scoped>\n",
              "    .dataframe tbody tr th:only-of-type {\n",
              "        vertical-align: middle;\n",
              "    }\n",
              "\n",
              "    .dataframe tbody tr th {\n",
              "        vertical-align: top;\n",
              "    }\n",
              "\n",
              "    .dataframe thead th {\n",
              "        text-align: right;\n",
              "    }\n",
              "</style>\n",
              "<table border=\"1\" class=\"dataframe\">\n",
              "  <thead>\n",
              "    <tr style=\"text-align: right;\">\n",
              "      <th></th>\n",
              "      <th>Satisfaction Level</th>\n",
              "      <th>Age Group</th>\n",
              "    </tr>\n",
              "  </thead>\n",
              "  <tbody>\n",
              "    <tr>\n",
              "      <th>0</th>\n",
              "      <td>Low</td>\n",
              "      <td>Middle-aged</td>\n",
              "    </tr>\n",
              "    <tr>\n",
              "      <th>1</th>\n",
              "      <td>High</td>\n",
              "      <td>Middle-aged</td>\n",
              "    </tr>\n",
              "    <tr>\n",
              "      <th>2</th>\n",
              "      <td>Low</td>\n",
              "      <td>Middle-aged</td>\n",
              "    </tr>\n",
              "    <tr>\n",
              "      <th>3</th>\n",
              "      <td>Medium</td>\n",
              "      <td>Young</td>\n",
              "    </tr>\n",
              "    <tr>\n",
              "      <th>4</th>\n",
              "      <td>Medium</td>\n",
              "      <td>Middle-aged</td>\n",
              "    </tr>\n",
              "    <tr>\n",
              "      <th>...</th>\n",
              "      <td>...</td>\n",
              "      <td>...</td>\n",
              "    </tr>\n",
              "    <tr>\n",
              "      <th>110</th>\n",
              "      <td>Low</td>\n",
              "      <td>Middle-aged</td>\n",
              "    </tr>\n",
              "    <tr>\n",
              "      <th>111</th>\n",
              "      <td>Medium</td>\n",
              "      <td>Young</td>\n",
              "    </tr>\n",
              "    <tr>\n",
              "      <th>112</th>\n",
              "      <td>Medium</td>\n",
              "      <td>Young</td>\n",
              "    </tr>\n",
              "    <tr>\n",
              "      <th>113</th>\n",
              "      <td>Low</td>\n",
              "      <td>Elderly</td>\n",
              "    </tr>\n",
              "    <tr>\n",
              "      <th>114</th>\n",
              "      <td>High</td>\n",
              "      <td>Middle-aged</td>\n",
              "    </tr>\n",
              "  </tbody>\n",
              "</table>\n",
              "<p>115 rows × 2 columns</p>\n",
              "</div>\n",
              "    <div class=\"colab-df-buttons\">\n",
              "\n",
              "  <div class=\"colab-df-container\">\n",
              "    <button class=\"colab-df-convert\" onclick=\"convertToInteractive('df-1558cb74-2992-4fd7-89d5-73b30c8224a7')\"\n",
              "            title=\"Convert this dataframe to an interactive table.\"\n",
              "            style=\"display:none;\">\n",
              "\n",
              "  <svg xmlns=\"http://www.w3.org/2000/svg\" height=\"24px\" viewBox=\"0 -960 960 960\">\n",
              "    <path d=\"M120-120v-720h720v720H120Zm60-500h600v-160H180v160Zm220 220h160v-160H400v160Zm0 220h160v-160H400v160ZM180-400h160v-160H180v160Zm440 0h160v-160H620v160ZM180-180h160v-160H180v160Zm440 0h160v-160H620v160Z\"/>\n",
              "  </svg>\n",
              "    </button>\n",
              "\n",
              "  <style>\n",
              "    .colab-df-container {\n",
              "      display:flex;\n",
              "      gap: 12px;\n",
              "    }\n",
              "\n",
              "    .colab-df-convert {\n",
              "      background-color: #E8F0FE;\n",
              "      border: none;\n",
              "      border-radius: 50%;\n",
              "      cursor: pointer;\n",
              "      display: none;\n",
              "      fill: #1967D2;\n",
              "      height: 32px;\n",
              "      padding: 0 0 0 0;\n",
              "      width: 32px;\n",
              "    }\n",
              "\n",
              "    .colab-df-convert:hover {\n",
              "      background-color: #E2EBFA;\n",
              "      box-shadow: 0px 1px 2px rgba(60, 64, 67, 0.3), 0px 1px 3px 1px rgba(60, 64, 67, 0.15);\n",
              "      fill: #174EA6;\n",
              "    }\n",
              "\n",
              "    .colab-df-buttons div {\n",
              "      margin-bottom: 4px;\n",
              "    }\n",
              "\n",
              "    [theme=dark] .colab-df-convert {\n",
              "      background-color: #3B4455;\n",
              "      fill: #D2E3FC;\n",
              "    }\n",
              "\n",
              "    [theme=dark] .colab-df-convert:hover {\n",
              "      background-color: #434B5C;\n",
              "      box-shadow: 0px 1px 3px 1px rgba(0, 0, 0, 0.15);\n",
              "      filter: drop-shadow(0px 1px 2px rgba(0, 0, 0, 0.3));\n",
              "      fill: #FFFFFF;\n",
              "    }\n",
              "  </style>\n",
              "\n",
              "    <script>\n",
              "      const buttonEl =\n",
              "        document.querySelector('#df-1558cb74-2992-4fd7-89d5-73b30c8224a7 button.colab-df-convert');\n",
              "      buttonEl.style.display =\n",
              "        google.colab.kernel.accessAllowed ? 'block' : 'none';\n",
              "\n",
              "      async function convertToInteractive(key) {\n",
              "        const element = document.querySelector('#df-1558cb74-2992-4fd7-89d5-73b30c8224a7');\n",
              "        const dataTable =\n",
              "          await google.colab.kernel.invokeFunction('convertToInteractive',\n",
              "                                                    [key], {});\n",
              "        if (!dataTable) return;\n",
              "\n",
              "        const docLinkHtml = 'Like what you see? Visit the ' +\n",
              "          '<a target=\"_blank\" href=https://colab.research.google.com/notebooks/data_table.ipynb>data table notebook</a>'\n",
              "          + ' to learn more about interactive tables.';\n",
              "        element.innerHTML = '';\n",
              "        dataTable['output_type'] = 'display_data';\n",
              "        await google.colab.output.renderOutput(dataTable, element);\n",
              "        const docLink = document.createElement('div');\n",
              "        docLink.innerHTML = docLinkHtml;\n",
              "        element.appendChild(docLink);\n",
              "      }\n",
              "    </script>\n",
              "  </div>\n",
              "\n",
              "\n",
              "<div id=\"df-3de5f71e-06e0-4858-9122-8eec322daf5c\">\n",
              "  <button class=\"colab-df-quickchart\" onclick=\"quickchart('df-3de5f71e-06e0-4858-9122-8eec322daf5c')\"\n",
              "            title=\"Suggest charts\"\n",
              "            style=\"display:none;\">\n",
              "\n",
              "<svg xmlns=\"http://www.w3.org/2000/svg\" height=\"24px\"viewBox=\"0 0 24 24\"\n",
              "     width=\"24px\">\n",
              "    <g>\n",
              "        <path d=\"M19 3H5c-1.1 0-2 .9-2 2v14c0 1.1.9 2 2 2h14c1.1 0 2-.9 2-2V5c0-1.1-.9-2-2-2zM9 17H7v-7h2v7zm4 0h-2V7h2v10zm4 0h-2v-4h2v4z\"/>\n",
              "    </g>\n",
              "</svg>\n",
              "  </button>\n",
              "\n",
              "<style>\n",
              "  .colab-df-quickchart {\n",
              "      --bg-color: #E8F0FE;\n",
              "      --fill-color: #1967D2;\n",
              "      --hover-bg-color: #E2EBFA;\n",
              "      --hover-fill-color: #174EA6;\n",
              "      --disabled-fill-color: #AAA;\n",
              "      --disabled-bg-color: #DDD;\n",
              "  }\n",
              "\n",
              "  [theme=dark] .colab-df-quickchart {\n",
              "      --bg-color: #3B4455;\n",
              "      --fill-color: #D2E3FC;\n",
              "      --hover-bg-color: #434B5C;\n",
              "      --hover-fill-color: #FFFFFF;\n",
              "      --disabled-bg-color: #3B4455;\n",
              "      --disabled-fill-color: #666;\n",
              "  }\n",
              "\n",
              "  .colab-df-quickchart {\n",
              "    background-color: var(--bg-color);\n",
              "    border: none;\n",
              "    border-radius: 50%;\n",
              "    cursor: pointer;\n",
              "    display: none;\n",
              "    fill: var(--fill-color);\n",
              "    height: 32px;\n",
              "    padding: 0;\n",
              "    width: 32px;\n",
              "  }\n",
              "\n",
              "  .colab-df-quickchart:hover {\n",
              "    background-color: var(--hover-bg-color);\n",
              "    box-shadow: 0 1px 2px rgba(60, 64, 67, 0.3), 0 1px 3px 1px rgba(60, 64, 67, 0.15);\n",
              "    fill: var(--button-hover-fill-color);\n",
              "  }\n",
              "\n",
              "  .colab-df-quickchart-complete:disabled,\n",
              "  .colab-df-quickchart-complete:disabled:hover {\n",
              "    background-color: var(--disabled-bg-color);\n",
              "    fill: var(--disabled-fill-color);\n",
              "    box-shadow: none;\n",
              "  }\n",
              "\n",
              "  .colab-df-spinner {\n",
              "    border: 2px solid var(--fill-color);\n",
              "    border-color: transparent;\n",
              "    border-bottom-color: var(--fill-color);\n",
              "    animation:\n",
              "      spin 1s steps(1) infinite;\n",
              "  }\n",
              "\n",
              "  @keyframes spin {\n",
              "    0% {\n",
              "      border-color: transparent;\n",
              "      border-bottom-color: var(--fill-color);\n",
              "      border-left-color: var(--fill-color);\n",
              "    }\n",
              "    20% {\n",
              "      border-color: transparent;\n",
              "      border-left-color: var(--fill-color);\n",
              "      border-top-color: var(--fill-color);\n",
              "    }\n",
              "    30% {\n",
              "      border-color: transparent;\n",
              "      border-left-color: var(--fill-color);\n",
              "      border-top-color: var(--fill-color);\n",
              "      border-right-color: var(--fill-color);\n",
              "    }\n",
              "    40% {\n",
              "      border-color: transparent;\n",
              "      border-right-color: var(--fill-color);\n",
              "      border-top-color: var(--fill-color);\n",
              "    }\n",
              "    60% {\n",
              "      border-color: transparent;\n",
              "      border-right-color: var(--fill-color);\n",
              "    }\n",
              "    80% {\n",
              "      border-color: transparent;\n",
              "      border-right-color: var(--fill-color);\n",
              "      border-bottom-color: var(--fill-color);\n",
              "    }\n",
              "    90% {\n",
              "      border-color: transparent;\n",
              "      border-bottom-color: var(--fill-color);\n",
              "    }\n",
              "  }\n",
              "</style>\n",
              "\n",
              "  <script>\n",
              "    async function quickchart(key) {\n",
              "      const quickchartButtonEl =\n",
              "        document.querySelector('#' + key + ' button');\n",
              "      quickchartButtonEl.disabled = true;  // To prevent multiple clicks.\n",
              "      quickchartButtonEl.classList.add('colab-df-spinner');\n",
              "      try {\n",
              "        const charts = await google.colab.kernel.invokeFunction(\n",
              "            'suggestCharts', [key], {});\n",
              "      } catch (error) {\n",
              "        console.error('Error during call to suggestCharts:', error);\n",
              "      }\n",
              "      quickchartButtonEl.classList.remove('colab-df-spinner');\n",
              "      quickchartButtonEl.classList.add('colab-df-quickchart-complete');\n",
              "    }\n",
              "    (() => {\n",
              "      let quickchartButtonEl =\n",
              "        document.querySelector('#df-3de5f71e-06e0-4858-9122-8eec322daf5c button');\n",
              "      quickchartButtonEl.style.display =\n",
              "        google.colab.kernel.accessAllowed ? 'block' : 'none';\n",
              "    })();\n",
              "  </script>\n",
              "</div>\n",
              "\n",
              "  <div id=\"id_e8e56d8b-181e-4d37-92c7-4cfda03d1809\">\n",
              "    <style>\n",
              "      .colab-df-generate {\n",
              "        background-color: #E8F0FE;\n",
              "        border: none;\n",
              "        border-radius: 50%;\n",
              "        cursor: pointer;\n",
              "        display: none;\n",
              "        fill: #1967D2;\n",
              "        height: 32px;\n",
              "        padding: 0 0 0 0;\n",
              "        width: 32px;\n",
              "      }\n",
              "\n",
              "      .colab-df-generate:hover {\n",
              "        background-color: #E2EBFA;\n",
              "        box-shadow: 0px 1px 2px rgba(60, 64, 67, 0.3), 0px 1px 3px 1px rgba(60, 64, 67, 0.15);\n",
              "        fill: #174EA6;\n",
              "      }\n",
              "\n",
              "      [theme=dark] .colab-df-generate {\n",
              "        background-color: #3B4455;\n",
              "        fill: #D2E3FC;\n",
              "      }\n",
              "\n",
              "      [theme=dark] .colab-df-generate:hover {\n",
              "        background-color: #434B5C;\n",
              "        box-shadow: 0px 1px 3px 1px rgba(0, 0, 0, 0.15);\n",
              "        filter: drop-shadow(0px 1px 2px rgba(0, 0, 0, 0.3));\n",
              "        fill: #FFFFFF;\n",
              "      }\n",
              "    </style>\n",
              "    <button class=\"colab-df-generate\" onclick=\"generateWithVariable('survey_data')\"\n",
              "            title=\"Generate code using this dataframe.\"\n",
              "            style=\"display:none;\">\n",
              "\n",
              "  <svg xmlns=\"http://www.w3.org/2000/svg\" height=\"24px\"viewBox=\"0 0 24 24\"\n",
              "       width=\"24px\">\n",
              "    <path d=\"M7,19H8.4L18.45,9,17,7.55,7,17.6ZM5,21V16.75L18.45,3.32a2,2,0,0,1,2.83,0l1.4,1.43a1.91,1.91,0,0,1,.58,1.4,1.91,1.91,0,0,1-.58,1.4L9.25,21ZM18.45,9,17,7.55Zm-12,3A5.31,5.31,0,0,0,4.9,8.1,5.31,5.31,0,0,0,1,6.5,5.31,5.31,0,0,0,4.9,4.9,5.31,5.31,0,0,0,6.5,1,5.31,5.31,0,0,0,8.1,4.9,5.31,5.31,0,0,0,12,6.5,5.46,5.46,0,0,0,6.5,12Z\"/>\n",
              "  </svg>\n",
              "    </button>\n",
              "    <script>\n",
              "      (() => {\n",
              "      const buttonEl =\n",
              "        document.querySelector('#id_e8e56d8b-181e-4d37-92c7-4cfda03d1809 button.colab-df-generate');\n",
              "      buttonEl.style.display =\n",
              "        google.colab.kernel.accessAllowed ? 'block' : 'none';\n",
              "\n",
              "      buttonEl.onclick = () => {\n",
              "        google.colab.notebook.generateWithVariable('survey_data');\n",
              "      }\n",
              "      })();\n",
              "    </script>\n",
              "  </div>\n",
              "\n",
              "    </div>\n",
              "  </div>\n"
            ],
            "application/vnd.google.colaboratory.intrinsic+json": {
              "type": "dataframe",
              "variable_name": "survey_data",
              "summary": "{\n  \"name\": \"survey_data\",\n  \"rows\": 115,\n  \"fields\": [\n    {\n      \"column\": \"Satisfaction Level\",\n      \"properties\": {\n        \"dtype\": \"category\",\n        \"num_unique_values\": 3,\n        \"samples\": [\n          \"Low\",\n          \"High\",\n          \"Medium\"\n        ],\n        \"semantic_type\": \"\",\n        \"description\": \"\"\n      }\n    },\n    {\n      \"column\": \"Age Group\",\n      \"properties\": {\n        \"dtype\": \"category\",\n        \"num_unique_values\": 3,\n        \"samples\": [\n          \"Middle-aged\",\n          \"Young\",\n          \"Elderly\"\n        ],\n        \"semantic_type\": \"\",\n        \"description\": \"\"\n      }\n    }\n  ]\n}"
            }
          },
          "metadata": {},
          "execution_count": 112
        }
      ],
      "source": [
        "satisfaction = np.random.choice(['High', 'Medium', 'Low'], 115)\n",
        "age_group = np.random.choice(['Young', 'Middle-aged', 'Elderly'], 115)\n",
        "\n",
        "survey_data = pd.DataFrame({\n",
        "    'Satisfaction Level': satisfaction,\n",
        "    'Age Group': age_group\n",
        "})\n",
        "\n",
        "survey_data"
      ]
    },
    {
      "cell_type": "markdown",
      "metadata": {
        "deletable": false,
        "editable": false,
        "id": "c_zBHPF1fTFE",
        "nbgrader": {
          "cell_type": "markdown",
          "checksum": "7c2db663205aa6cc2ec6e549caf3263b",
          "grade": false,
          "grade_id": "cell-a94b677c5c594aba",
          "locked": true,
          "schema_version": 3,
          "solution": false,
          "task": false
        }
      },
      "source": [
        "**Question 3.3.1.** Calculate the probability that a participant is Middle-aged and rated the product as Medium. Assign the probability to <code>middle _aged_medium_probability</code>."
      ]
    },
    {
      "cell_type": "code",
      "execution_count": 121,
      "metadata": {
        "colab": {
          "base_uri": "https://localhost:8080/"
        },
        "deletable": false,
        "id": "SLUIQhAqgPD0",
        "nbgrader": {
          "cell_type": "code",
          "checksum": "84b1240fb16c2bee8995313cc2b38ecd",
          "grade": false,
          "grade_id": "cell-bce69d071c773a2f",
          "locked": false,
          "schema_version": 3,
          "solution": true,
          "task": false
        },
        "outputId": "4b117244-0fe6-4d9b-98ec-e51237a51de9"
      },
      "outputs": [
        {
          "output_type": "execute_result",
          "data": {
            "text/plain": [
              "0.13043478260869565"
            ]
          },
          "metadata": {},
          "execution_count": 121
        }
      ],
      "source": [
        "# YOUR CODE HERE\n",
        "middle_aged_medium_probability = len(survey_data[(survey_data[\"Age Group\"] == \"Middle-aged\") & (survey_data[\"Satisfaction Level\"] == \"Medium\")]) / len(survey_data)\n",
        "middle_aged_medium_probability\n",
        "# print(\"Probability of being Middle-aged and having Medium satisfaction level:\", middle_aged_medium_probability)"
      ]
    },
    {
      "cell_type": "code",
      "execution_count": 122,
      "metadata": {
        "deletable": false,
        "editable": false,
        "id": "GKyHq239gc_z",
        "nbgrader": {
          "cell_type": "code",
          "checksum": "70c90382f121accd8c4e9ab1c800fcff",
          "grade": true,
          "grade_id": "cell-ddedb09334d01f33",
          "locked": true,
          "points": 8,
          "schema_version": 3,
          "solution": false,
          "task": false
        }
      },
      "outputs": [],
      "source": [
        "#TEST CELL: do not delete!"
      ]
    },
    {
      "cell_type": "markdown",
      "metadata": {
        "deletable": false,
        "editable": false,
        "nbgrader": {
          "cell_type": "markdown",
          "checksum": "b2b7173ed9077d0509b21775383df68c",
          "grade": false,
          "grade_id": "cell-08a6e36ef25fc71e",
          "locked": true,
          "schema_version": 3,
          "solution": false,
          "task": false
        },
        "id": "WOtFxpT3_Ktq"
      },
      "source": [
        "# Rubric\n",
        "\n",
        "| Question | Points|\n",
        "|----------|----------|\n",
        "| 1.1.   | 8   |\n",
        "| 1.2.    | 8   |\n",
        "| 1.1.1.    | 10   |\n",
        "| 2.1.   | 15   |\n",
        "| 2.1.1.    | 15  |\n",
        "| 2.2.2.   | 5   |\n",
        "| 3.1.    | 5   |\n",
        "| 3.1.1.    | 6   |\n",
        "| 3.1.2.   | 5   |\n",
        "| 3.2.1.    | 5  |\n",
        "| 3.2.2.   | 20   |\n",
        "| 3.3.1.   | 8  |\n",
        "| Total:    | 110   |\n"
      ]
    },
    {
      "cell_type": "markdown",
      "metadata": {
        "deletable": false,
        "editable": false,
        "nbgrader": {
          "cell_type": "markdown",
          "checksum": "f639ada9d622d182eae26c8447fc8db1",
          "grade": false,
          "grade_id": "cell-a12a3897f53e88a9",
          "locked": true,
          "schema_version": 3,
          "solution": false,
          "task": false
        },
        "id": "BDW0K7IF_Ktq"
      },
      "source": [
        "- imdb: https://www.kaggle.com/datasets/harshitshankhdhar/imdb-dataset-of-top-1000-movies-and-tv-shows\n",
        "- canada_population: https://www150.statcan.gc.ca/t1/tbl1/en/cv.action?pid=1710000901\n",
        "- exam_scores: https://www.kaggle.com/datasets/desalegngeb/students-exam-scores?select=Original_data_with_more_rows.csv"
      ]
    }
  ],
  "metadata": {
    "colab": {
      "provenance": []
    },
    "kernelspec": {
      "display_name": "Python 3 (ipykernel)",
      "language": "python",
      "name": "python3"
    },
    "language_info": {
      "codemirror_mode": {
        "name": "ipython",
        "version": 3
      },
      "file_extension": ".py",
      "mimetype": "text/x-python",
      "name": "python",
      "nbconvert_exporter": "python",
      "pygments_lexer": "ipython3",
      "version": "3.11.2"
    }
  },
  "nbformat": 4,
  "nbformat_minor": 0
}