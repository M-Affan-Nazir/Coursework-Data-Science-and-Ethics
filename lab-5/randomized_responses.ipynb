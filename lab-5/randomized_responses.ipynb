{
  "cells": [
    {
      "cell_type": "markdown",
      "metadata": {
        "deletable": false,
        "editable": false,
        "id": "ep00oJgxqd5g",
        "nbgrader": {
          "cell_type": "markdown",
          "checksum": "73b9d0f8353278a80406b009f66e792e",
          "grade": false,
          "grade_id": "cell-6b41e468dc7e0421",
          "locked": true,
          "schema_version": 3,
          "solution": false,
          "task": false
        }
      },
      "source": [
        "# Lab 5: Randomized Response"
      ]
    },
    {
      "cell_type": "markdown",
      "metadata": {
        "id": "XIN59ofDsSQd"
      },
      "source": [
        "***\n",
        "- **FIRST name**: Muhammad Affan\n",
        "- **LAST name**: Nazir\n",
        "- **Student ID**: 1807593\n",
        "\n",
        "Leave blank if individual:\n",
        "- **Collaborator names**:\n",
        "- **Collaborator student IDs**:\n",
        "***"
      ]
    },
    {
      "cell_type": "markdown",
      "metadata": {
        "deletable": false,
        "editable": false,
        "nbgrader": {
          "cell_type": "markdown",
          "checksum": "3acf44847f1178ff30929d6b86244037",
          "grade": false,
          "grade_id": "cell-06f4fcb5136b8276",
          "locked": true,
          "schema_version": 3,
          "solution": false,
          "task": false
        },
        "id": "Qq9yM2KZsSQd"
      },
      "source": [
        "In today's lab, you will learn:\n",
        "\n",
        "1. apply randomized response mechanisms;\n",
        "2. obtain the estimated count of true responses;\n",
        "3. apply biased randomized response mechanisms;\n",
        "4. calculate the relative error.\n",
        "\n",
        "For this lab, you'll need the dataset `adult.csv`."
      ]
    },
    {
      "cell_type": "markdown",
      "metadata": {
        "deletable": false,
        "editable": false,
        "nbgrader": {
          "cell_type": "markdown",
          "checksum": "1556b3e9f8e07d12864580a14afc0751",
          "grade": false,
          "grade_id": "cell-d4f157dd61916404",
          "locked": true,
          "schema_version": 3,
          "solution": false,
          "task": false
        },
        "id": "D1K1p0mqsSQe"
      },
      "source": [
        "### Instructions\n",
        "<!-- **Deadline.**  This assignment is due at ****.  Please check the syllabus for late submissions. -->\n",
        "You are expected to write clear, detailed, and complete answers when analysing your data. Lack of this may result in point deductions.\n",
        "\n",
        "**Reminder.** You must submit your own work.  The collaboration policy for the assignments is Consultation Collaboration. You may verbally discuss concepts with your classmates, without exchanging written text, code, or detailed advice.  You must develop your own solution and submit your own work.  All sources of information used including books, websites, students you talked to, must be cited in the submission.  Please see the course FAQ document for details on this collaboration policy.  We will adhere to current Faculty of Science guidelines on dealing with suspected cases of plagiarism.\n",
        "\n",
        "You must use this notebook to complete your assignment. You will execute the questions in the notebook. The questions might ask for a short answer in text form or for you to write and execute a piece of code. Make sure you enter your answer in either case only in the cell provided. Do not use a different cell and do not create a new cell. Creating new cells for your code is not compatible with the auto-grading system we are using and thus your assignment will not get grading properly and you will lose marks for that question.\n",
        "\n",
        "Your submitted notebook should run on our local installation.  So if you are importing packages not listed in the notebook or using local data files not included in the assignment package, make sure the notebook is self-contained with a requirements.txt file or cells in the notebook itself to install the extra packages.  If we cannot run your notebook, you will lose 50% of the marks, and any additional marks that may be lost due to wrong answers.\n",
        "\n",
        "### Submission Instructions\n",
        "When you are done, you will submit your work from the notebook. Make sure to save your notebook before running it, and then submit on Canvas the notebook file with your work completed. Name your file with your **Student ID number** and the assignment number (ex: 1234567_L8.ipynb). Failure to do so will result in a zero!"
      ]
    },
    {
      "cell_type": "code",
      "execution_count": 43,
      "metadata": {
        "deletable": false,
        "editable": false,
        "id": "ZfrPg4x30DDJ",
        "nbgrader": {
          "cell_type": "code",
          "checksum": "f4b494092d02880c593e24bb7c86c0d5",
          "grade": false,
          "grade_id": "cell-501d6bc74129f170",
          "locked": true,
          "schema_version": 3,
          "solution": false,
          "task": false
        }
      },
      "outputs": [],
      "source": [
        "# Don't change this cell; just run it.\n",
        "import numpy as np\n",
        "from numpy.random import default_rng\n",
        "rng = default_rng()\n",
        "import pandas as pd\n",
        "from scipy.optimize import minimize\n",
        "\n",
        "# These lines do some fancy plotting magic.\n",
        "import matplotlib\n",
        "# This is a magic function that renders the figure in the notebook, instead of displaying a dump of the figure object.\n",
        "%matplotlib inline\n",
        "import matplotlib.pyplot as plt\n",
        "plt.style.use('fivethirtyeight')\n",
        "import warnings\n",
        "warnings.simplefilter('ignore', FutureWarning)"
      ]
    },
    {
      "cell_type": "markdown",
      "metadata": {
        "deletable": false,
        "editable": false,
        "id": "WUQL2AQtqd5j",
        "nbgrader": {
          "cell_type": "markdown",
          "checksum": "9e2136e4c69a69826206aaf1776f35df",
          "grade": false,
          "grade_id": "cell-4fe6dc2aad8abb43",
          "locked": true,
          "schema_version": 3,
          "solution": false,
          "task": false
        }
      },
      "source": [
        "# Preliminaries\n",
        "\n",
        "You should use LaTeX for mathematical expressions in your answers, if needed.\n",
        "\n",
        "Some beginner guides for LaTeX\n",
        "* http://www.docs.is.ed.ac.uk/skills/documents/3722/3722-2014.pdf\n",
        "* https://www.overleaf.com/learn/latex/Learn_LaTeX_in_30_minutes\n",
        "\n",
        "Including math expressions in a Jupyter notebook markdown cell is easy - just put the expression inside the math delimiters, dollar signs.\n",
        "Example: `$f(x) = x^2 + 5$` renders as $f(x) = x^2 + 5$.  To put an expression in display mode, or on a new line, use two dollar signs on each side:  $$ f(\\mathbf{x}) = \\frac{x_1}{x_2}$$\n"
      ]
    },
    {
      "cell_type": "markdown",
      "metadata": {
        "deletable": false,
        "editable": false,
        "id": "YKsuY7G77YXl",
        "nbgrader": {
          "cell_type": "markdown",
          "checksum": "7f188646feb98eab27808bcf09b380d7",
          "grade": false,
          "grade_id": "cell-980a5498aae3fbee",
          "locked": true,
          "schema_version": 3,
          "solution": false,
          "task": false
        }
      },
      "source": [
        "## Importing and Cleaning Data\n",
        "\n",
        "We will use a standard Machine Learning (ML) dataset used for many analyses, the \"Adult Income\" or simple \"Adult\" dataset.  This data was extracted from the 1994 US Census database.  (R. Kohavi and B. Becker. UCI adult data set.  UCI Machine Learning Repository [https://archive.ics.uci.edu/ml/datasets/adult]. Irvine, CA: University of California, School of Information and Computer Science.)  "
      ]
    },
    {
      "cell_type": "markdown",
      "metadata": {
        "deletable": false,
        "editable": false,
        "nbgrader": {
          "cell_type": "markdown",
          "checksum": "a4f25f436d679843c8e51d28ff669fcb",
          "grade": false,
          "grade_id": "cell-b59031c822dfb51e",
          "locked": true,
          "schema_version": 3,
          "solution": false,
          "task": false
        },
        "id": "Fb2qVCbhsSQf"
      },
      "source": [
        "Load the dataset `adult.csv` into a pandas dataframe."
      ]
    },
    {
      "cell_type": "code",
      "execution_count": 44,
      "metadata": {
        "deletable": false,
        "nbgrader": {
          "cell_type": "code",
          "checksum": "b3324c29b165538463bd758bb78f980f",
          "grade": false,
          "grade_id": "cell-5a358a72a019a009",
          "locked": false,
          "schema_version": 3,
          "solution": true,
          "task": false
        },
        "colab": {
          "base_uri": "https://localhost:8080/",
          "height": 224
        },
        "id": "Smc_f9pOsSQf",
        "outputId": "5a7cff1b-753b-4803-bb48-3f46e0794a3c"
      },
      "outputs": [
        {
          "output_type": "stream",
          "name": "stdout",
          "text": [
            "(32561, 15)\n"
          ]
        },
        {
          "output_type": "execute_result",
          "data": {
            "text/plain": [
              "   age workclass  fnlwgt     education  education.num marital.status  \\\n",
              "0   90         ?   77053       HS-grad              9        Widowed   \n",
              "1   82   Private  132870       HS-grad              9        Widowed   \n",
              "2   66         ?  186061  Some-college             10        Widowed   \n",
              "3   54   Private  140359       7th-8th              4       Divorced   \n",
              "4   41   Private  264663  Some-college             10      Separated   \n",
              "\n",
              "          occupation   relationship   race     sex  capital.gain  \\\n",
              "0                  ?  Not-in-family  White  Female             0   \n",
              "1    Exec-managerial  Not-in-family  White  Female             0   \n",
              "2                  ?      Unmarried  Black  Female             0   \n",
              "3  Machine-op-inspct      Unmarried  White  Female             0   \n",
              "4     Prof-specialty      Own-child  White  Female             0   \n",
              "\n",
              "   capital.loss  hours.per.week native.country income  \n",
              "0          4356              40  United-States  <=50K  \n",
              "1          4356              18  United-States  <=50K  \n",
              "2          4356              40  United-States  <=50K  \n",
              "3          3900              40  United-States  <=50K  \n",
              "4          3900              40  United-States  <=50K  "
            ],
            "text/html": [
              "\n",
              "  <div id=\"df-e858b211-11bf-45d3-905e-6e32b6ee4362\" class=\"colab-df-container\">\n",
              "    <div>\n",
              "<style scoped>\n",
              "    .dataframe tbody tr th:only-of-type {\n",
              "        vertical-align: middle;\n",
              "    }\n",
              "\n",
              "    .dataframe tbody tr th {\n",
              "        vertical-align: top;\n",
              "    }\n",
              "\n",
              "    .dataframe thead th {\n",
              "        text-align: right;\n",
              "    }\n",
              "</style>\n",
              "<table border=\"1\" class=\"dataframe\">\n",
              "  <thead>\n",
              "    <tr style=\"text-align: right;\">\n",
              "      <th></th>\n",
              "      <th>age</th>\n",
              "      <th>workclass</th>\n",
              "      <th>fnlwgt</th>\n",
              "      <th>education</th>\n",
              "      <th>education.num</th>\n",
              "      <th>marital.status</th>\n",
              "      <th>occupation</th>\n",
              "      <th>relationship</th>\n",
              "      <th>race</th>\n",
              "      <th>sex</th>\n",
              "      <th>capital.gain</th>\n",
              "      <th>capital.loss</th>\n",
              "      <th>hours.per.week</th>\n",
              "      <th>native.country</th>\n",
              "      <th>income</th>\n",
              "    </tr>\n",
              "  </thead>\n",
              "  <tbody>\n",
              "    <tr>\n",
              "      <th>0</th>\n",
              "      <td>90</td>\n",
              "      <td>?</td>\n",
              "      <td>77053</td>\n",
              "      <td>HS-grad</td>\n",
              "      <td>9</td>\n",
              "      <td>Widowed</td>\n",
              "      <td>?</td>\n",
              "      <td>Not-in-family</td>\n",
              "      <td>White</td>\n",
              "      <td>Female</td>\n",
              "      <td>0</td>\n",
              "      <td>4356</td>\n",
              "      <td>40</td>\n",
              "      <td>United-States</td>\n",
              "      <td>&lt;=50K</td>\n",
              "    </tr>\n",
              "    <tr>\n",
              "      <th>1</th>\n",
              "      <td>82</td>\n",
              "      <td>Private</td>\n",
              "      <td>132870</td>\n",
              "      <td>HS-grad</td>\n",
              "      <td>9</td>\n",
              "      <td>Widowed</td>\n",
              "      <td>Exec-managerial</td>\n",
              "      <td>Not-in-family</td>\n",
              "      <td>White</td>\n",
              "      <td>Female</td>\n",
              "      <td>0</td>\n",
              "      <td>4356</td>\n",
              "      <td>18</td>\n",
              "      <td>United-States</td>\n",
              "      <td>&lt;=50K</td>\n",
              "    </tr>\n",
              "    <tr>\n",
              "      <th>2</th>\n",
              "      <td>66</td>\n",
              "      <td>?</td>\n",
              "      <td>186061</td>\n",
              "      <td>Some-college</td>\n",
              "      <td>10</td>\n",
              "      <td>Widowed</td>\n",
              "      <td>?</td>\n",
              "      <td>Unmarried</td>\n",
              "      <td>Black</td>\n",
              "      <td>Female</td>\n",
              "      <td>0</td>\n",
              "      <td>4356</td>\n",
              "      <td>40</td>\n",
              "      <td>United-States</td>\n",
              "      <td>&lt;=50K</td>\n",
              "    </tr>\n",
              "    <tr>\n",
              "      <th>3</th>\n",
              "      <td>54</td>\n",
              "      <td>Private</td>\n",
              "      <td>140359</td>\n",
              "      <td>7th-8th</td>\n",
              "      <td>4</td>\n",
              "      <td>Divorced</td>\n",
              "      <td>Machine-op-inspct</td>\n",
              "      <td>Unmarried</td>\n",
              "      <td>White</td>\n",
              "      <td>Female</td>\n",
              "      <td>0</td>\n",
              "      <td>3900</td>\n",
              "      <td>40</td>\n",
              "      <td>United-States</td>\n",
              "      <td>&lt;=50K</td>\n",
              "    </tr>\n",
              "    <tr>\n",
              "      <th>4</th>\n",
              "      <td>41</td>\n",
              "      <td>Private</td>\n",
              "      <td>264663</td>\n",
              "      <td>Some-college</td>\n",
              "      <td>10</td>\n",
              "      <td>Separated</td>\n",
              "      <td>Prof-specialty</td>\n",
              "      <td>Own-child</td>\n",
              "      <td>White</td>\n",
              "      <td>Female</td>\n",
              "      <td>0</td>\n",
              "      <td>3900</td>\n",
              "      <td>40</td>\n",
              "      <td>United-States</td>\n",
              "      <td>&lt;=50K</td>\n",
              "    </tr>\n",
              "  </tbody>\n",
              "</table>\n",
              "</div>\n",
              "    <div class=\"colab-df-buttons\">\n",
              "\n",
              "  <div class=\"colab-df-container\">\n",
              "    <button class=\"colab-df-convert\" onclick=\"convertToInteractive('df-e858b211-11bf-45d3-905e-6e32b6ee4362')\"\n",
              "            title=\"Convert this dataframe to an interactive table.\"\n",
              "            style=\"display:none;\">\n",
              "\n",
              "  <svg xmlns=\"http://www.w3.org/2000/svg\" height=\"24px\" viewBox=\"0 -960 960 960\">\n",
              "    <path d=\"M120-120v-720h720v720H120Zm60-500h600v-160H180v160Zm220 220h160v-160H400v160Zm0 220h160v-160H400v160ZM180-400h160v-160H180v160Zm440 0h160v-160H620v160ZM180-180h160v-160H180v160Zm440 0h160v-160H620v160Z\"/>\n",
              "  </svg>\n",
              "    </button>\n",
              "\n",
              "  <style>\n",
              "    .colab-df-container {\n",
              "      display:flex;\n",
              "      gap: 12px;\n",
              "    }\n",
              "\n",
              "    .colab-df-convert {\n",
              "      background-color: #E8F0FE;\n",
              "      border: none;\n",
              "      border-radius: 50%;\n",
              "      cursor: pointer;\n",
              "      display: none;\n",
              "      fill: #1967D2;\n",
              "      height: 32px;\n",
              "      padding: 0 0 0 0;\n",
              "      width: 32px;\n",
              "    }\n",
              "\n",
              "    .colab-df-convert:hover {\n",
              "      background-color: #E2EBFA;\n",
              "      box-shadow: 0px 1px 2px rgba(60, 64, 67, 0.3), 0px 1px 3px 1px rgba(60, 64, 67, 0.15);\n",
              "      fill: #174EA6;\n",
              "    }\n",
              "\n",
              "    .colab-df-buttons div {\n",
              "      margin-bottom: 4px;\n",
              "    }\n",
              "\n",
              "    [theme=dark] .colab-df-convert {\n",
              "      background-color: #3B4455;\n",
              "      fill: #D2E3FC;\n",
              "    }\n",
              "\n",
              "    [theme=dark] .colab-df-convert:hover {\n",
              "      background-color: #434B5C;\n",
              "      box-shadow: 0px 1px 3px 1px rgba(0, 0, 0, 0.15);\n",
              "      filter: drop-shadow(0px 1px 2px rgba(0, 0, 0, 0.3));\n",
              "      fill: #FFFFFF;\n",
              "    }\n",
              "  </style>\n",
              "\n",
              "    <script>\n",
              "      const buttonEl =\n",
              "        document.querySelector('#df-e858b211-11bf-45d3-905e-6e32b6ee4362 button.colab-df-convert');\n",
              "      buttonEl.style.display =\n",
              "        google.colab.kernel.accessAllowed ? 'block' : 'none';\n",
              "\n",
              "      async function convertToInteractive(key) {\n",
              "        const element = document.querySelector('#df-e858b211-11bf-45d3-905e-6e32b6ee4362');\n",
              "        const dataTable =\n",
              "          await google.colab.kernel.invokeFunction('convertToInteractive',\n",
              "                                                    [key], {});\n",
              "        if (!dataTable) return;\n",
              "\n",
              "        const docLinkHtml = 'Like what you see? Visit the ' +\n",
              "          '<a target=\"_blank\" href=https://colab.research.google.com/notebooks/data_table.ipynb>data table notebook</a>'\n",
              "          + ' to learn more about interactive tables.';\n",
              "        element.innerHTML = '';\n",
              "        dataTable['output_type'] = 'display_data';\n",
              "        await google.colab.output.renderOutput(dataTable, element);\n",
              "        const docLink = document.createElement('div');\n",
              "        docLink.innerHTML = docLinkHtml;\n",
              "        element.appendChild(docLink);\n",
              "      }\n",
              "    </script>\n",
              "  </div>\n",
              "\n",
              "\n",
              "<div id=\"df-59320464-7d58-4c09-8e76-09f2ef0bf8bd\">\n",
              "  <button class=\"colab-df-quickchart\" onclick=\"quickchart('df-59320464-7d58-4c09-8e76-09f2ef0bf8bd')\"\n",
              "            title=\"Suggest charts\"\n",
              "            style=\"display:none;\">\n",
              "\n",
              "<svg xmlns=\"http://www.w3.org/2000/svg\" height=\"24px\"viewBox=\"0 0 24 24\"\n",
              "     width=\"24px\">\n",
              "    <g>\n",
              "        <path d=\"M19 3H5c-1.1 0-2 .9-2 2v14c0 1.1.9 2 2 2h14c1.1 0 2-.9 2-2V5c0-1.1-.9-2-2-2zM9 17H7v-7h2v7zm4 0h-2V7h2v10zm4 0h-2v-4h2v4z\"/>\n",
              "    </g>\n",
              "</svg>\n",
              "  </button>\n",
              "\n",
              "<style>\n",
              "  .colab-df-quickchart {\n",
              "      --bg-color: #E8F0FE;\n",
              "      --fill-color: #1967D2;\n",
              "      --hover-bg-color: #E2EBFA;\n",
              "      --hover-fill-color: #174EA6;\n",
              "      --disabled-fill-color: #AAA;\n",
              "      --disabled-bg-color: #DDD;\n",
              "  }\n",
              "\n",
              "  [theme=dark] .colab-df-quickchart {\n",
              "      --bg-color: #3B4455;\n",
              "      --fill-color: #D2E3FC;\n",
              "      --hover-bg-color: #434B5C;\n",
              "      --hover-fill-color: #FFFFFF;\n",
              "      --disabled-bg-color: #3B4455;\n",
              "      --disabled-fill-color: #666;\n",
              "  }\n",
              "\n",
              "  .colab-df-quickchart {\n",
              "    background-color: var(--bg-color);\n",
              "    border: none;\n",
              "    border-radius: 50%;\n",
              "    cursor: pointer;\n",
              "    display: none;\n",
              "    fill: var(--fill-color);\n",
              "    height: 32px;\n",
              "    padding: 0;\n",
              "    width: 32px;\n",
              "  }\n",
              "\n",
              "  .colab-df-quickchart:hover {\n",
              "    background-color: var(--hover-bg-color);\n",
              "    box-shadow: 0 1px 2px rgba(60, 64, 67, 0.3), 0 1px 3px 1px rgba(60, 64, 67, 0.15);\n",
              "    fill: var(--button-hover-fill-color);\n",
              "  }\n",
              "\n",
              "  .colab-df-quickchart-complete:disabled,\n",
              "  .colab-df-quickchart-complete:disabled:hover {\n",
              "    background-color: var(--disabled-bg-color);\n",
              "    fill: var(--disabled-fill-color);\n",
              "    box-shadow: none;\n",
              "  }\n",
              "\n",
              "  .colab-df-spinner {\n",
              "    border: 2px solid var(--fill-color);\n",
              "    border-color: transparent;\n",
              "    border-bottom-color: var(--fill-color);\n",
              "    animation:\n",
              "      spin 1s steps(1) infinite;\n",
              "  }\n",
              "\n",
              "  @keyframes spin {\n",
              "    0% {\n",
              "      border-color: transparent;\n",
              "      border-bottom-color: var(--fill-color);\n",
              "      border-left-color: var(--fill-color);\n",
              "    }\n",
              "    20% {\n",
              "      border-color: transparent;\n",
              "      border-left-color: var(--fill-color);\n",
              "      border-top-color: var(--fill-color);\n",
              "    }\n",
              "    30% {\n",
              "      border-color: transparent;\n",
              "      border-left-color: var(--fill-color);\n",
              "      border-top-color: var(--fill-color);\n",
              "      border-right-color: var(--fill-color);\n",
              "    }\n",
              "    40% {\n",
              "      border-color: transparent;\n",
              "      border-right-color: var(--fill-color);\n",
              "      border-top-color: var(--fill-color);\n",
              "    }\n",
              "    60% {\n",
              "      border-color: transparent;\n",
              "      border-right-color: var(--fill-color);\n",
              "    }\n",
              "    80% {\n",
              "      border-color: transparent;\n",
              "      border-right-color: var(--fill-color);\n",
              "      border-bottom-color: var(--fill-color);\n",
              "    }\n",
              "    90% {\n",
              "      border-color: transparent;\n",
              "      border-bottom-color: var(--fill-color);\n",
              "    }\n",
              "  }\n",
              "</style>\n",
              "\n",
              "  <script>\n",
              "    async function quickchart(key) {\n",
              "      const quickchartButtonEl =\n",
              "        document.querySelector('#' + key + ' button');\n",
              "      quickchartButtonEl.disabled = true;  // To prevent multiple clicks.\n",
              "      quickchartButtonEl.classList.add('colab-df-spinner');\n",
              "      try {\n",
              "        const charts = await google.colab.kernel.invokeFunction(\n",
              "            'suggestCharts', [key], {});\n",
              "      } catch (error) {\n",
              "        console.error('Error during call to suggestCharts:', error);\n",
              "      }\n",
              "      quickchartButtonEl.classList.remove('colab-df-spinner');\n",
              "      quickchartButtonEl.classList.add('colab-df-quickchart-complete');\n",
              "    }\n",
              "    (() => {\n",
              "      let quickchartButtonEl =\n",
              "        document.querySelector('#df-59320464-7d58-4c09-8e76-09f2ef0bf8bd button');\n",
              "      quickchartButtonEl.style.display =\n",
              "        google.colab.kernel.accessAllowed ? 'block' : 'none';\n",
              "    })();\n",
              "  </script>\n",
              "</div>\n",
              "\n",
              "    </div>\n",
              "  </div>\n"
            ],
            "application/vnd.google.colaboratory.intrinsic+json": {
              "type": "dataframe",
              "variable_name": "df",
              "summary": "{\n  \"name\": \"df\",\n  \"rows\": 32561,\n  \"fields\": [\n    {\n      \"column\": \"age\",\n      \"properties\": {\n        \"dtype\": \"number\",\n        \"std\": 13,\n        \"min\": 17,\n        \"max\": 90,\n        \"num_unique_values\": 73,\n        \"samples\": [\n          41,\n          80,\n          61\n        ],\n        \"semantic_type\": \"\",\n        \"description\": \"\"\n      }\n    },\n    {\n      \"column\": \"workclass\",\n      \"properties\": {\n        \"dtype\": \"category\",\n        \"num_unique_values\": 9,\n        \"samples\": [\n          \"Without-pay\",\n          \"Private\",\n          \"Self-emp-inc\"\n        ],\n        \"semantic_type\": \"\",\n        \"description\": \"\"\n      }\n    },\n    {\n      \"column\": \"fnlwgt\",\n      \"properties\": {\n        \"dtype\": \"number\",\n        \"std\": 105549,\n        \"min\": 12285,\n        \"max\": 1484705,\n        \"num_unique_values\": 21648,\n        \"samples\": [\n          269687,\n          156542,\n          100295\n        ],\n        \"semantic_type\": \"\",\n        \"description\": \"\"\n      }\n    },\n    {\n      \"column\": \"education\",\n      \"properties\": {\n        \"dtype\": \"category\",\n        \"num_unique_values\": 16,\n        \"samples\": [\n          \"HS-grad\",\n          \"Some-college\",\n          \"Prof-school\"\n        ],\n        \"semantic_type\": \"\",\n        \"description\": \"\"\n      }\n    },\n    {\n      \"column\": \"education.num\",\n      \"properties\": {\n        \"dtype\": \"number\",\n        \"std\": 2,\n        \"min\": 1,\n        \"max\": 16,\n        \"num_unique_values\": 16,\n        \"samples\": [\n          9,\n          10,\n          15\n        ],\n        \"semantic_type\": \"\",\n        \"description\": \"\"\n      }\n    },\n    {\n      \"column\": \"marital.status\",\n      \"properties\": {\n        \"dtype\": \"category\",\n        \"num_unique_values\": 7,\n        \"samples\": [\n          \"Widowed\",\n          \"Divorced\",\n          \"Married-spouse-absent\"\n        ],\n        \"semantic_type\": \"\",\n        \"description\": \"\"\n      }\n    },\n    {\n      \"column\": \"occupation\",\n      \"properties\": {\n        \"dtype\": \"category\",\n        \"num_unique_values\": 15,\n        \"samples\": [\n          \"Sales\",\n          \"Tech-support\",\n          \"?\"\n        ],\n        \"semantic_type\": \"\",\n        \"description\": \"\"\n      }\n    },\n    {\n      \"column\": \"relationship\",\n      \"properties\": {\n        \"dtype\": \"category\",\n        \"num_unique_values\": 6,\n        \"samples\": [\n          \"Not-in-family\",\n          \"Unmarried\",\n          \"Wife\"\n        ],\n        \"semantic_type\": \"\",\n        \"description\": \"\"\n      }\n    },\n    {\n      \"column\": \"race\",\n      \"properties\": {\n        \"dtype\": \"category\",\n        \"num_unique_values\": 5,\n        \"samples\": [\n          \"Black\",\n          \"Amer-Indian-Eskimo\",\n          \"Asian-Pac-Islander\"\n        ],\n        \"semantic_type\": \"\",\n        \"description\": \"\"\n      }\n    },\n    {\n      \"column\": \"sex\",\n      \"properties\": {\n        \"dtype\": \"category\",\n        \"num_unique_values\": 2,\n        \"samples\": [\n          \"Male\",\n          \"Female\"\n        ],\n        \"semantic_type\": \"\",\n        \"description\": \"\"\n      }\n    },\n    {\n      \"column\": \"capital.gain\",\n      \"properties\": {\n        \"dtype\": \"number\",\n        \"std\": 7385,\n        \"min\": 0,\n        \"max\": 99999,\n        \"num_unique_values\": 119,\n        \"samples\": [\n          3887,\n          2329\n        ],\n        \"semantic_type\": \"\",\n        \"description\": \"\"\n      }\n    },\n    {\n      \"column\": \"capital.loss\",\n      \"properties\": {\n        \"dtype\": \"number\",\n        \"std\": 402,\n        \"min\": 0,\n        \"max\": 4356,\n        \"num_unique_values\": 92,\n        \"samples\": [\n          1980,\n          2258\n        ],\n        \"semantic_type\": \"\",\n        \"description\": \"\"\n      }\n    },\n    {\n      \"column\": \"hours.per.week\",\n      \"properties\": {\n        \"dtype\": \"number\",\n        \"std\": 12,\n        \"min\": 1,\n        \"max\": 99,\n        \"num_unique_values\": 94,\n        \"samples\": [\n          34,\n          80\n        ],\n        \"semantic_type\": \"\",\n        \"description\": \"\"\n      }\n    },\n    {\n      \"column\": \"native.country\",\n      \"properties\": {\n        \"dtype\": \"category\",\n        \"num_unique_values\": 42,\n        \"samples\": [\n          \"Peru\",\n          \"Puerto-Rico\"\n        ],\n        \"semantic_type\": \"\",\n        \"description\": \"\"\n      }\n    },\n    {\n      \"column\": \"income\",\n      \"properties\": {\n        \"dtype\": \"category\",\n        \"num_unique_values\": 2,\n        \"samples\": [\n          \">50K\",\n          \"<=50K\"\n        ],\n        \"semantic_type\": \"\",\n        \"description\": \"\"\n      }\n    }\n  ]\n}"
            }
          },
          "metadata": {},
          "execution_count": 44
        }
      ],
      "source": [
        "# YOUR CODE HERE\n",
        "df = pd.read_csv(\"./adult.csv\")\n",
        "\n",
        "print(df.shape)\n",
        "df.head()"
      ]
    },
    {
      "cell_type": "code",
      "execution_count": null,
      "metadata": {
        "deletable": false,
        "editable": false,
        "nbgrader": {
          "cell_type": "code",
          "checksum": "0d854ac2cf7ffb887cfd55700bc3306f",
          "grade": true,
          "grade_id": "cell-b2909bc817beb3cf",
          "locked": true,
          "points": 5,
          "schema_version": 3,
          "solution": false,
          "task": false
        },
        "id": "m2vK-L1ssSQg"
      },
      "outputs": [],
      "source": [
        "#TEST CELL: do not delete!"
      ]
    },
    {
      "cell_type": "markdown",
      "metadata": {
        "deletable": false,
        "editable": false,
        "id": "C4HtT1EQqd5k",
        "nbgrader": {
          "cell_type": "markdown",
          "checksum": "109092b95afa7d3c21bd8b9032197120",
          "grade": false,
          "grade_id": "cell-c1f59c9891712cc6",
          "locked": true,
          "schema_version": 3,
          "solution": false,
          "task": false
        }
      },
      "source": [
        "Now drop the missing values"
      ]
    },
    {
      "cell_type": "code",
      "execution_count": 45,
      "metadata": {
        "deletable": false,
        "nbgrader": {
          "cell_type": "code",
          "checksum": "48a5c20ecd5baf799605c7aa61ce13a7",
          "grade": false,
          "grade_id": "cell-a6586c968d293cbd",
          "locked": false,
          "schema_version": 3,
          "solution": true,
          "task": false
        },
        "colab": {
          "base_uri": "https://localhost:8080/"
        },
        "id": "7VxPIhTgsSQg",
        "outputId": "6bec0aed-a816-4216-b83a-6695da80678b"
      },
      "outputs": [
        {
          "output_type": "stream",
          "name": "stdout",
          "text": [
            "(32561, 15)\n"
          ]
        }
      ],
      "source": [
        "# YOUR CODE HERE\n",
        "df.dropna()\n",
        "print(df.shape)"
      ]
    },
    {
      "cell_type": "code",
      "execution_count": null,
      "metadata": {
        "deletable": false,
        "editable": false,
        "nbgrader": {
          "cell_type": "code",
          "checksum": "4c332430b8d941ca052d5a72277b6b01",
          "grade": true,
          "grade_id": "cell-7ee9855d19d88844",
          "locked": true,
          "points": 5,
          "schema_version": 3,
          "solution": false,
          "task": false
        },
        "id": "HB0l1WPlsSQg"
      },
      "outputs": [],
      "source": [
        "#TEST CELL: do not delete!"
      ]
    },
    {
      "cell_type": "markdown",
      "metadata": {
        "deletable": false,
        "editable": false,
        "id": "YRpcF8L4qd5l",
        "nbgrader": {
          "cell_type": "markdown",
          "checksum": "cee5b8c983dc7ec4b237fb7dc5ce484b",
          "grade": false,
          "grade_id": "cell-2fe745e98922efa3",
          "locked": true,
          "schema_version": 3,
          "solution": false,
          "task": false
        }
      },
      "source": [
        "Now convert the values in the class column to 1 (>50K) and 0 (<=50K)"
      ]
    },
    {
      "cell_type": "code",
      "execution_count": 46,
      "metadata": {
        "deletable": false,
        "nbgrader": {
          "cell_type": "code",
          "checksum": "42a5bb965624771aa53189e9506ca036",
          "grade": false,
          "grade_id": "cell-cec7ad098ad5dd5a",
          "locked": false,
          "schema_version": 3,
          "solution": true,
          "task": false
        },
        "id": "HevprAsRsSQh"
      },
      "outputs": [],
      "source": [
        "# YOUR CODE HERE\n",
        "df[\"income\"] = df[\"income\"].apply(lambda x: 1 if x == '>50K' else (0 if x == \"<=50K\" else x))"
      ]
    },
    {
      "cell_type": "code",
      "execution_count": null,
      "metadata": {
        "deletable": false,
        "editable": false,
        "nbgrader": {
          "cell_type": "code",
          "checksum": "a271da6cc01a4769d27b923c8b604ea8",
          "grade": true,
          "grade_id": "cell-bef91c43e835296f",
          "locked": true,
          "points": 5,
          "schema_version": 3,
          "solution": false,
          "task": false
        },
        "id": "6Y74-6dhsSQh"
      },
      "outputs": [],
      "source": [
        "#TEST CELL: do not delete!"
      ]
    },
    {
      "cell_type": "markdown",
      "metadata": {
        "deletable": false,
        "editable": false,
        "id": "4fxeBd-x7dlO",
        "nbgrader": {
          "cell_type": "markdown",
          "checksum": "f71678e4a63f278400adce73907fa4c5",
          "grade": false,
          "grade_id": "cell-377815db7b0ab2be",
          "locked": true,
          "schema_version": 3,
          "solution": false,
          "task": false
        }
      },
      "source": [
        "## Randomized Response\n",
        "\n",
        "Now let's implement a Randomized Response mechanism.  Let's assume the query is about the income being <=50K or >50K.  The value in the `class` column is the true answer."
      ]
    },
    {
      "cell_type": "markdown",
      "metadata": {
        "deletable": false,
        "editable": false,
        "id": "Whc8ZtqB8a4n",
        "nbgrader": {
          "cell_type": "markdown",
          "checksum": "43be8ea3c8af3f94781c00e2e0a0fade",
          "grade": false,
          "grade_id": "cell-5e3bc13bfcf6b99c",
          "locked": true,
          "schema_version": 3,
          "solution": false,
          "task": false
        }
      },
      "source": [
        "#### Question 1\n",
        "Consider the following randomized response to the query on each row of whether the income is <=50K or >50K.  The reported answer is as follows:\n",
        "\n",
        "Flip a fair coin.\n",
        "- If it's heads, respond truthfully:  the reported answer is the same as the value in `class`.\n",
        "- If it's tails, flip a fair coin again:\n",
        "   - If it's heads, the reported answer has a value of 1.\n",
        "   - If it's tails, the reported answer has a value of 0.\n",
        "  \n",
        "Implement a function for this mechanism in the code cell below.\n",
        "The function should accept a value `0` or `1` and return as output the reported answer according to the randomized response above."
      ]
    },
    {
      "cell_type": "code",
      "execution_count": 47,
      "metadata": {
        "deletable": false,
        "nbgrader": {
          "cell_type": "code",
          "checksum": "e284f39bf7e69088365a0b5a88441740",
          "grade": false,
          "grade_id": "cell-ed51146fb6b6a81d",
          "locked": false,
          "schema_version": 3,
          "solution": true,
          "task": false
        },
        "id": "TwcjJQyisSQh"
      },
      "outputs": [],
      "source": [
        "import random\n",
        "def rand_resp_c1(x):\n",
        "    # YOUR CODE HERE\n",
        "    flip = random.randint(0,1) # 0 =Tail, 1 = Head\n",
        "    if flip == 1:\n",
        "      return x\n",
        "    else:\n",
        "      return random.randint(0,1) # Simulate second flip. return 0 if Tail, or return 1 if Head.\n",
        "\n",
        "df['income_rrc1'] = [rand_resp_c1(x) for x in df['income']]"
      ]
    },
    {
      "cell_type": "code",
      "execution_count": null,
      "metadata": {
        "deletable": false,
        "editable": false,
        "nbgrader": {
          "cell_type": "code",
          "checksum": "cd046df2e11aaf58c6758da1b08497c6",
          "grade": true,
          "grade_id": "cell-1564556adb3148cc",
          "locked": true,
          "points": 10,
          "schema_version": 3,
          "solution": false,
          "task": false
        },
        "id": "99qOI9eosSQh"
      },
      "outputs": [],
      "source": [
        "#TEST CELL: do not delete!"
      ]
    },
    {
      "cell_type": "markdown",
      "metadata": {
        "deletable": false,
        "editable": false,
        "id": "KoQQKP9Cqd5o",
        "nbgrader": {
          "cell_type": "markdown",
          "checksum": "8f40efeb1b3f99ad10288f9f9b3764af",
          "grade": false,
          "grade_id": "cell-916bc53be20b7c65",
          "locked": true,
          "schema_version": 3,
          "solution": false,
          "task": false
        }
      },
      "source": [
        "### Question 2\n",
        "\n",
        "Now get the **estimate** for the true number of people with income >50K.  Write this result into the variable `est_true_yes`.  Given the number of reported `1`'s (income >50K), we know how to estimate the proportion or number of true `1`'s.\n",
        "\n",
        "Calculate the true number of people with income >50K (the true answer in the data we imported) and write it into the variable `true_yes`.\n",
        "\n",
        "**Hint**: recall the derivations we did in class to analyse our randomized response:\n",
        "- $n$ is the total number of participants\n",
        "- $z$ is the sum of obfuscated answers\n",
        "- $m$ is the sum of true answers\n",
        "\n",
        "<p> Since we usually don't have access to $m$, how could we estimate it using $n$ and $z$? </p>"
      ]
    },
    {
      "cell_type": "code",
      "execution_count": 48,
      "metadata": {
        "deletable": false,
        "nbgrader": {
          "cell_type": "code",
          "checksum": "c7f7363e827e966db731f809aa2f8c77",
          "grade": false,
          "grade_id": "cell-a4d1a7c84dfd4454",
          "locked": false,
          "schema_version": 3,
          "solution": true,
          "task": false
        },
        "id": "JZqZU-H_sSQh"
      },
      "outputs": [],
      "source": [
        "# YOUR CODE HERE\n",
        "total_reported_one = sum(df[\"income_rrc1\"])\n",
        "est_true_yes = (2*total_reported_one) - (len(df[\"income_rrc1\"])/2)\n",
        "true_yes = sum(df[\"income\"])\n",
        "\n",
        "# Answer: Since we do not have access to m, the sum of true answers; we can use n and z in the formula (2*z) - (n/2) to get the estimate of m!"
      ]
    },
    {
      "cell_type": "code",
      "execution_count": null,
      "metadata": {
        "deletable": false,
        "editable": false,
        "nbgrader": {
          "cell_type": "code",
          "checksum": "f6745c2c95577d53c73c4a4d4854203d",
          "grade": true,
          "grade_id": "cell-1a4f0600327dae29",
          "locked": true,
          "points": 0,
          "schema_version": 3,
          "solution": false,
          "task": false
        },
        "id": "LCCLM1wSsSQi"
      },
      "outputs": [],
      "source": [
        "#TEST CELL: do not delete!"
      ]
    },
    {
      "cell_type": "markdown",
      "metadata": {
        "deletable": false,
        "editable": false,
        "id": "1xTfnXP_XFjL",
        "nbgrader": {
          "cell_type": "markdown",
          "checksum": "0450bb9a83fac637797ff46c0199f18f",
          "grade": false,
          "grade_id": "cell-c2eef42d8c0f8894",
          "locked": true,
          "schema_version": 3,
          "solution": false,
          "task": false
        }
      },
      "source": [
        "#### Question 3\n",
        "Now consider a more general randomized response mechanism to the query on each row of whether the income is <=50K or >50K. This more general mechanism, that takes a parameter `bias` as an argument, is as follows:\n",
        "\n",
        "\n",
        "With probability `1/2 + bias`, respond truthfully.\n",
        "With probability `1/2 - bias`, respond with the opposite of the true answer.\n",
        "\n",
        "Implement a function for this mechanism.\n"
      ]
    },
    {
      "cell_type": "code",
      "execution_count": 49,
      "metadata": {
        "deletable": false,
        "nbgrader": {
          "cell_type": "code",
          "checksum": "cf34f0d262b0f9e2921bdef12f9b4c99",
          "grade": false,
          "grade_id": "cell-a5c3ff403308aeec",
          "locked": false,
          "schema_version": 3,
          "solution": true,
          "task": false
        },
        "id": "_Df4ZO6asSQi"
      },
      "outputs": [],
      "source": [
        "import random\n",
        "def rand_resp_cg(x,b):\n",
        "    # YOUR CODE HERE\n",
        "    if random.random() < (0.5+b):\n",
        "      return x\n",
        "    else:\n",
        "      return abs(1-x)"
      ]
    },
    {
      "cell_type": "code",
      "execution_count": 4,
      "metadata": {
        "deletable": false,
        "editable": false,
        "nbgrader": {
          "cell_type": "code",
          "checksum": "2b4e5ee60d75291ad4a754d4b5926a04",
          "grade": true,
          "grade_id": "cell-a2ba845f030fb704",
          "locked": true,
          "points": 10,
          "schema_version": 3,
          "solution": false,
          "task": false
        },
        "id": "U7IFQTuEsSQi"
      },
      "outputs": [],
      "source": [
        "#TEST CELL: do not delete!"
      ]
    },
    {
      "cell_type": "markdown",
      "metadata": {
        "deletable": false,
        "editable": false,
        "id": "E3ghwpl-izl7",
        "nbgrader": {
          "cell_type": "markdown",
          "checksum": "db2d15d03e82646d14843cea8469e01f",
          "grade": false,
          "grade_id": "cell-76471c631ba39f4c",
          "locked": true,
          "schema_version": 3,
          "solution": false,
          "task": false
        }
      },
      "source": [
        "Now as we did for the coin flip case we want to compare the estimated number of people with income >50K (the responses from the randomized response) with the true number (from the dataset - the `class` column).  The difference between the two values is the error in estimation.\n",
        "\n",
        "For this generalized randomized response function, we have a parameter `b`, the bias, that is a part of the probability of responding truthfully or not - so it is a privacy parameter.  We want to analyze the error in the estimate of the number of people with income >50K, with respect to the privacy parameter, `b`.  \n",
        "\n",
        "So let's first set up an array, that we will call `estimates`, to hold various values of `bias` that we will test, `bias` from 0.05 to 0.45.  Let's say we want to test for bias from 0.05 to 0.45 in increments of 0.05."
      ]
    },
    {
      "cell_type": "code",
      "execution_count": 50,
      "metadata": {
        "deletable": false,
        "nbgrader": {
          "cell_type": "code",
          "checksum": "431bb6b4c6bd1233828ede3e0c0c0fb5",
          "grade": false,
          "grade_id": "cell-8e03cfe0f8167512",
          "locked": false,
          "schema_version": 3,
          "solution": true,
          "task": false
        },
        "id": "2gjjj2s_sSQi",
        "colab": {
          "base_uri": "https://localhost:8080/"
        },
        "outputId": "34a55137-e6ab-4818-e02b-31bdcd130e64"
      },
      "outputs": [
        {
          "output_type": "stream",
          "name": "stdout",
          "text": [
            "[0.05 0.1  0.15 0.2  0.25 0.3  0.35 0.4  0.45]\n"
          ]
        }
      ],
      "source": [
        "# YOUR CODE HERE\n",
        "import numpy as np\n",
        "estimates = np.arange(0.05, 0.50, 0.05)\n",
        "print(estimates)"
      ]
    },
    {
      "cell_type": "code",
      "execution_count": 6,
      "metadata": {
        "deletable": false,
        "editable": false,
        "nbgrader": {
          "cell_type": "code",
          "checksum": "7a18bbf045842aa4936780213734edd7",
          "grade": true,
          "grade_id": "cell-994873432256156b",
          "locked": true,
          "points": 5,
          "schema_version": 3,
          "solution": false,
          "task": false
        },
        "id": "ghGGf_VjsSQi"
      },
      "outputs": [],
      "source": [
        "#TEST CELL: do not delete!"
      ]
    },
    {
      "cell_type": "markdown",
      "metadata": {
        "deletable": false,
        "editable": false,
        "id": "-HSX8GYzizl7",
        "nbgrader": {
          "cell_type": "markdown",
          "checksum": "8e20e4627dba9cb34184d0797af06701",
          "grade": false,
          "grade_id": "cell-421d690dc8eba3c1",
          "locked": true,
          "schema_version": 3,
          "solution": false,
          "task": false
        }
      },
      "source": [
        "Now write code to calculate the estimated number of true `1` answers for each value of `bias`.  That is, you want to run your function above, `rand_resp_cg(x,b)` on the `class` column (`x`) and for the above values of bias (`b`) in the `estimates` array.  The 2d array `rrg` will hold the randomized response values for the `class` column for each bias value in the `estimates` array.  So, the value of `rrg[i]` will be an array of randomized responses from the `class` column that is output from `rand_resp_cg` for bias value `estimates[i]`.  So, the 2d array `rrg` should have dimensions \"number of bias values you are testing\" and \"number of rows in the cleaned up dataset\".\n",
        "\n",
        "After the first two lines of code in the cell below, write your code to fill `rrg` with the randomized responses and `est_yes` will contain the *estimated* number of true `1` responses for each value of bias.  So `est_yes[0]` will contain the estimated number of true yes responses when the bias is 0.05.\n",
        "\n",
        "**Hint** : this is similar to calculating `est_true_yes` in Question 2, however now you have to consider how to include the bias in your derivation."
      ]
    },
    {
      "cell_type": "code",
      "execution_count": 51,
      "metadata": {
        "deletable": false,
        "nbgrader": {
          "cell_type": "code",
          "checksum": "9424818d69a0a1a38961e089b52189e5",
          "grade": false,
          "grade_id": "cell-1cb7afcb4e52ec62",
          "locked": false,
          "schema_version": 3,
          "solution": true,
          "task": false
        },
        "id": "iwngXft5sSQi"
      },
      "outputs": [],
      "source": [
        "rrg=np.zeros((len(estimates),len(df['income'])))\n",
        "est_yes=np.zeros(len(estimates))\n",
        "# YOUR CODE HERE\n",
        "for i, b in enumerate(estimates):\n",
        "\n",
        "    for j, x in enumerate(df['income']):\n",
        "        rrg[i, j] = rand_resp_cg(x, b)\n",
        "\n",
        "\n",
        "    S = np.sum(rrg[i])\n",
        "\n",
        "    N = len(df['income'])\n",
        "\n",
        "    est_yes[i] = (S - N * (0.5 - b)) / (2 * b)"
      ]
    },
    {
      "cell_type": "code",
      "execution_count": null,
      "metadata": {
        "deletable": false,
        "editable": false,
        "nbgrader": {
          "cell_type": "code",
          "checksum": "5955645f2deb1ec800fdb40ee2d86fd4",
          "grade": true,
          "grade_id": "cell-83837e07af70eb45",
          "locked": true,
          "points": 20,
          "schema_version": 3,
          "solution": false,
          "task": false
        },
        "id": "NXlM5j05sSQi"
      },
      "outputs": [],
      "source": [
        "#TEST CELL: do not delete!"
      ]
    },
    {
      "cell_type": "markdown",
      "metadata": {
        "deletable": false,
        "editable": false,
        "id": "5smm9MO6XFjN",
        "nbgrader": {
          "cell_type": "markdown",
          "checksum": "97e67f178f843ee54f87ac91de8eeff6",
          "grade": false,
          "grade_id": "cell-be853b455f67c080",
          "locked": true,
          "schema_version": 3,
          "solution": false,
          "task": false
        }
      },
      "source": [
        "Implement a function called `rel_error` to calculate the relative error between the true number of `1`s (in the `class` column) and the estimated number (relative to the true number).  The function should accept arrays as input and output an array of relative errors.  (So it should be able to accept arrays of numbers and output an array of the relative errors.)"
      ]
    },
    {
      "cell_type": "code",
      "execution_count": 52,
      "metadata": {
        "deletable": false,
        "nbgrader": {
          "cell_type": "code",
          "checksum": "324945d7e07dada3b7123ebea8125e4a",
          "grade": false,
          "grade_id": "cell-226eea621e48a18d",
          "locked": false,
          "schema_version": 3,
          "solution": true,
          "task": false
        },
        "id": "M-OZyYJ9sSQi",
        "colab": {
          "base_uri": "https://localhost:8080/"
        },
        "outputId": "83ae2ed8-d536-4ae7-b0c5-091c3f0cd8eb"
      },
      "outputs": [
        {
          "output_type": "stream",
          "name": "stdout",
          "text": [
            "[0.45746466 0.47235767 0.40630559 0.39616818 0.35636924 0.30319006\n",
            " 0.24168382 0.1768168  0.09695703]\n"
          ]
        }
      ],
      "source": [
        "def rel_error(true,estim):\n",
        "    # YOUR CODE HERE\n",
        "    true = np.array(true)\n",
        "    estim = np.array(estim)\n",
        "\n",
        "    abs_error = np.abs(true - estim)\n",
        "    rel_error = abs_error / true\n",
        "\n",
        "    return rel_error\n",
        "\n",
        "print(rel_error(np.sum(rrg,1),est_yes))"
      ]
    },
    {
      "cell_type": "code",
      "execution_count": null,
      "metadata": {
        "deletable": false,
        "editable": false,
        "nbgrader": {
          "cell_type": "code",
          "checksum": "e37321942f6071778f4ae0b2640d2c53",
          "grade": true,
          "grade_id": "cell-8b97074332b0b8c5",
          "locked": true,
          "points": 10,
          "schema_version": 3,
          "solution": false,
          "task": false
        },
        "id": "P5u6E9pwsSQi"
      },
      "outputs": [],
      "source": [
        "#TEST CELL: do not delete!"
      ]
    }
  ],
  "metadata": {
    "colab": {
      "provenance": []
    },
    "kernelspec": {
      "display_name": "Python 3 (ipykernel)",
      "language": "python",
      "name": "python3"
    },
    "language_info": {
      "codemirror_mode": {
        "name": "ipython",
        "version": 3
      },
      "file_extension": ".py",
      "mimetype": "text/x-python",
      "name": "python",
      "nbconvert_exporter": "python",
      "pygments_lexer": "ipython3",
      "version": "3.11.2"
    }
  },
  "nbformat": 4,
  "nbformat_minor": 0
}